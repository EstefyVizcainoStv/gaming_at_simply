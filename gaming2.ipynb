{
 "cells": [
  {
   "cell_type": "code",
   "execution_count": 3,
   "metadata": {},
   "outputs": [
    {
     "name": "stdout",
     "output_type": "stream",
     "text": [
      "Loaded: GAMING 2.csv → (242, 19)\n",
      "Columns: ['ID', 'ClientID', 'Status', 'Title', 'Field', 'Service', 'Category', 'CreatedAt', 'UpdatedAt', 'AcknowledgedAt', 'ProcessingAt', 'ClosedAt', 'ReopenedAt', 'LastSimplyReplyAt', 'LastClientReplyAt', 'ClientName', 'Time to Close', 'TAM ', 'Closer']\n"
     ]
    }
   ],
   "source": [
    "from pathlib import Path\n",
    "import glob, pandas as pd\n",
    "\n",
    "# Try a few likely locations/names\n",
    "candidates = [\n",
    "    Path(\"GAMING 2.csv\"),\n",
    "    Path(\"GAMING_2.csv\"),\n",
    "    Path(\"data\") / \"GAMING 2.csv\",\n",
    "    Path(\"inputs\") / \"GAMING 2.csv\",\n",
    "    Path.cwd() / \"GAMING 2.csv\",\n",
    "    Path.home() / \"Downloads\" / \"GAMING 2.csv\",\n",
    "]\n",
    "\n",
    "found = next((p for p in candidates if p.exists()), None)\n",
    "if not found:\n",
    "    matches = glob.glob(\"**/GAMING*2*.csv\", recursive=True)\n",
    "    if matches:\n",
    "        found = Path(matches[0])\n",
    "    else:\n",
    "        raise FileNotFoundError(\n",
    "            \"Couldn't find 'GAMING 2.csv'. Move it next to the notebook OR set CSV_PATH to the full path.\"\n",
    "        )\n",
    "\n",
    "CSV_PATH = str(found)\n",
    "df = pd.read_csv(CSV_PATH)\n",
    "print(\"Loaded:\", CSV_PATH, \"→\", df.shape)\n",
    "print(\"Columns:\", list(df.columns))\n"
   ]
  },
  {
   "cell_type": "code",
   "execution_count": 4,
   "metadata": {},
   "outputs": [
    {
     "data": {
      "text/html": [
       "<div>\n",
       "<style scoped>\n",
       "    .dataframe tbody tr th:only-of-type {\n",
       "        vertical-align: middle;\n",
       "    }\n",
       "\n",
       "    .dataframe tbody tr th {\n",
       "        vertical-align: top;\n",
       "    }\n",
       "\n",
       "    .dataframe thead th {\n",
       "        text-align: right;\n",
       "    }\n",
       "</style>\n",
       "<table border=\"1\" class=\"dataframe\">\n",
       "  <thead>\n",
       "    <tr style=\"text-align: right;\">\n",
       "      <th></th>\n",
       "      <th>ID</th>\n",
       "      <th>ClientID</th>\n",
       "      <th>Status</th>\n",
       "      <th>Title</th>\n",
       "      <th>Field</th>\n",
       "      <th>Service</th>\n",
       "      <th>Category</th>\n",
       "      <th>CreatedAt</th>\n",
       "      <th>UpdatedAt</th>\n",
       "      <th>AcknowledgedAt</th>\n",
       "      <th>ProcessingAt</th>\n",
       "      <th>ClosedAt</th>\n",
       "      <th>ReopenedAt</th>\n",
       "      <th>LastSimplyReplyAt</th>\n",
       "      <th>LastClientReplyAt</th>\n",
       "      <th>ClientName</th>\n",
       "      <th>Time to Close</th>\n",
       "      <th>TAM</th>\n",
       "      <th>Closer</th>\n",
       "    </tr>\n",
       "  </thead>\n",
       "  <tbody>\n",
       "    <tr>\n",
       "      <th>0</th>\n",
       "      <td>11531</td>\n",
       "      <td>4172.0</td>\n",
       "      <td>closed</td>\n",
       "      <td>[**Freeview**] EPG schedule gap</td>\n",
       "      <td>NaN</td>\n",
       "      <td>schedules</td>\n",
       "      <td>missing_data</td>\n",
       "      <td>45903.00704</td>\n",
       "      <td>45903.65321</td>\n",
       "      <td>45903.02801</td>\n",
       "      <td>45903.10142</td>\n",
       "      <td>45903.65321</td>\n",
       "      <td>NaN</td>\n",
       "      <td>45903.65322</td>\n",
       "      <td>45903.00704</td>\n",
       "      <td>Freeview / Freely UK</td>\n",
       "      <td>1.550806e+01</td>\n",
       "      <td>Aneet</td>\n",
       "      <td>Annet</td>\n",
       "    </tr>\n",
       "    <tr>\n",
       "      <th>1</th>\n",
       "      <td>11532</td>\n",
       "      <td>1638.0</td>\n",
       "      <td>closed</td>\n",
       "      <td>Missing detailed information for program id 14...</td>\n",
       "      <td>data_points_id</td>\n",
       "      <td>editorial</td>\n",
       "      <td>missing_data</td>\n",
       "      <td>45903.22057</td>\n",
       "      <td>45905.68690</td>\n",
       "      <td>45903.22057</td>\n",
       "      <td>45903.44718</td>\n",
       "      <td>45905.68690</td>\n",
       "      <td>NaN</td>\n",
       "      <td>45905.68719</td>\n",
       "      <td>45903.60337</td>\n",
       "      <td>Telia / TV 4 Media AB</td>\n",
       "      <td>5.919194e+01</td>\n",
       "      <td>Theo</td>\n",
       "      <td>Theo</td>\n",
       "    </tr>\n",
       "    <tr>\n",
       "      <th>2</th>\n",
       "      <td>11537</td>\n",
       "      <td>3829.0</td>\n",
       "      <td>closed</td>\n",
       "      <td>weapons - Baltics</td>\n",
       "      <td>technical_data_parental_ratings</td>\n",
       "      <td>editorial</td>\n",
       "      <td>incorrect_data</td>\n",
       "      <td>45903.28135</td>\n",
       "      <td>45903.28307</td>\n",
       "      <td>45903.28135</td>\n",
       "      <td>NaN</td>\n",
       "      <td>45903.28294</td>\n",
       "      <td>NaN</td>\n",
       "      <td>45903.28332</td>\n",
       "      <td>45903.28135</td>\n",
       "      <td>SF Anytime</td>\n",
       "      <td>3.805556e-02</td>\n",
       "      <td>Theo</td>\n",
       "      <td>Zarmeen</td>\n",
       "    </tr>\n",
       "    <tr>\n",
       "      <th>3</th>\n",
       "      <td>11538</td>\n",
       "      <td>87.0</td>\n",
       "      <td>closed</td>\n",
       "      <td>DNA TV / EPG shows episode's name instead of s...</td>\n",
       "      <td>data_points_title</td>\n",
       "      <td>ingest</td>\n",
       "      <td>incorrect_data</td>\n",
       "      <td>45903.30549</td>\n",
       "      <td>45903.71740</td>\n",
       "      <td>45903.30549</td>\n",
       "      <td>45903.44925</td>\n",
       "      <td>45903.71740</td>\n",
       "      <td>NaN</td>\n",
       "      <td>45903.71743</td>\n",
       "      <td>45903.30549</td>\n",
       "      <td>DNA Oy</td>\n",
       "      <td>9.885833e+00</td>\n",
       "      <td>Theo</td>\n",
       "      <td>Theo</td>\n",
       "    </tr>\n",
       "    <tr>\n",
       "      <th>4</th>\n",
       "      <td>11539</td>\n",
       "      <td>11.0</td>\n",
       "      <td>closed</td>\n",
       "      <td>EPG: SVT1 HD /  / There is no title on this pr...</td>\n",
       "      <td>NaN</td>\n",
       "      <td>delivery</td>\n",
       "      <td>missing_data</td>\n",
       "      <td>45903.30564</td>\n",
       "      <td>45904.31837</td>\n",
       "      <td>45903.30564</td>\n",
       "      <td>45903.66899</td>\n",
       "      <td>45904.31837</td>\n",
       "      <td>NaN</td>\n",
       "      <td>45904.31839</td>\n",
       "      <td>45903.30650</td>\n",
       "      <td>Stofa / Norlys</td>\n",
       "      <td>2.430556e+01</td>\n",
       "      <td>Theo</td>\n",
       "      <td>Theo</td>\n",
       "    </tr>\n",
       "    <tr>\n",
       "      <th>...</th>\n",
       "      <td>...</td>\n",
       "      <td>...</td>\n",
       "      <td>...</td>\n",
       "      <td>...</td>\n",
       "      <td>...</td>\n",
       "      <td>...</td>\n",
       "      <td>...</td>\n",
       "      <td>...</td>\n",
       "      <td>...</td>\n",
       "      <td>...</td>\n",
       "      <td>...</td>\n",
       "      <td>...</td>\n",
       "      <td>...</td>\n",
       "      <td>...</td>\n",
       "      <td>...</td>\n",
       "      <td>...</td>\n",
       "      <td>...</td>\n",
       "      <td>...</td>\n",
       "      <td>...</td>\n",
       "    </tr>\n",
       "    <tr>\n",
       "      <th>237</th>\n",
       "      <td>11781</td>\n",
       "      <td>3851.0</td>\n",
       "      <td>processing</td>\n",
       "      <td>F√∫tbol de Argentina - LPF Torneo Clausura 202...</td>\n",
       "      <td>data_points_title</td>\n",
       "      <td>editorial</td>\n",
       "      <td>change_request</td>\n",
       "      <td>45909.74948</td>\n",
       "      <td>45909.75968</td>\n",
       "      <td>45909.74948</td>\n",
       "      <td>45909.75950</td>\n",
       "      <td>NaN</td>\n",
       "      <td>NaN</td>\n",
       "      <td>45909.83729</td>\n",
       "      <td>45909.74948</td>\n",
       "      <td>Wiltel Argentina</td>\n",
       "      <td>-1.101834e+06</td>\n",
       "      <td>Gui</td>\n",
       "      <td>NaN</td>\n",
       "    </tr>\n",
       "    <tr>\n",
       "      <th>238</th>\n",
       "      <td>11782</td>\n",
       "      <td>3851.0</td>\n",
       "      <td>processing</td>\n",
       "      <td>A Lot Like Love on HBO POP Caribbean 09.09.202...</td>\n",
       "      <td>data_points_title</td>\n",
       "      <td>editorial</td>\n",
       "      <td>incorrect_data</td>\n",
       "      <td>45909.76206</td>\n",
       "      <td>45909.77005</td>\n",
       "      <td>45909.76531</td>\n",
       "      <td>45909.76993</td>\n",
       "      <td>NaN</td>\n",
       "      <td>NaN</td>\n",
       "      <td>NaN</td>\n",
       "      <td>45909.76206</td>\n",
       "      <td>Wiltel Argentina</td>\n",
       "      <td>-1.101834e+06</td>\n",
       "      <td>Gui</td>\n",
       "      <td>NaN</td>\n",
       "    </tr>\n",
       "    <tr>\n",
       "      <th>239</th>\n",
       "      <td>11783</td>\n",
       "      <td>4157.0</td>\n",
       "      <td>processing</td>\n",
       "      <td>Wrong EPG schedule ‚Äì TNTS 4 ‚Äì EPG schedule...</td>\n",
       "      <td>delivery_feed</td>\n",
       "      <td>schedules</td>\n",
       "      <td>missing_data</td>\n",
       "      <td>45909.76745</td>\n",
       "      <td>45909.76897</td>\n",
       "      <td>45909.76745</td>\n",
       "      <td>45909.76880</td>\n",
       "      <td>NaN</td>\n",
       "      <td>NaN</td>\n",
       "      <td>45909.79808</td>\n",
       "      <td>45909.76745</td>\n",
       "      <td>BT (Youview delivery)</td>\n",
       "      <td>-1.101834e+06</td>\n",
       "      <td>Aneet</td>\n",
       "      <td>NaN</td>\n",
       "    </tr>\n",
       "    <tr>\n",
       "      <th>240</th>\n",
       "      <td>11784</td>\n",
       "      <td>1764.0</td>\n",
       "      <td>processing</td>\n",
       "      <td>Innspire - SimplyTV IDs check-up</td>\n",
       "      <td>delivery_service_addition</td>\n",
       "      <td>delivery</td>\n",
       "      <td>change_request</td>\n",
       "      <td>45909.77439</td>\n",
       "      <td>45909.77522</td>\n",
       "      <td>45909.77439</td>\n",
       "      <td>45909.77495</td>\n",
       "      <td>NaN</td>\n",
       "      <td>NaN</td>\n",
       "      <td>45909.77755</td>\n",
       "      <td>45909.77786</td>\n",
       "      <td>Innspire</td>\n",
       "      <td>-1.101835e+06</td>\n",
       "      <td>Sergiu</td>\n",
       "      <td>NaN</td>\n",
       "    </tr>\n",
       "    <tr>\n",
       "      <th>241</th>\n",
       "      <td>11785</td>\n",
       "      <td>4157.0</td>\n",
       "      <td>processing</td>\n",
       "      <td>Gaps/Placeholder reports - Tue 9th Sep</td>\n",
       "      <td>NaN</td>\n",
       "      <td>schedules</td>\n",
       "      <td>missing_data</td>\n",
       "      <td>45909.78826</td>\n",
       "      <td>45909.80583</td>\n",
       "      <td>45909.78828</td>\n",
       "      <td>45909.80014</td>\n",
       "      <td>NaN</td>\n",
       "      <td>NaN</td>\n",
       "      <td>45909.80252</td>\n",
       "      <td>45909.78826</td>\n",
       "      <td>BT (Youview delivery)</td>\n",
       "      <td>-1.101835e+06</td>\n",
       "      <td>Aneet</td>\n",
       "      <td>NaN</td>\n",
       "    </tr>\n",
       "  </tbody>\n",
       "</table>\n",
       "<p>242 rows × 19 columns</p>\n",
       "</div>"
      ],
      "text/plain": [
       "        ID  ClientID      Status  \\\n",
       "0    11531    4172.0      closed   \n",
       "1    11532    1638.0      closed   \n",
       "2    11537    3829.0      closed   \n",
       "3    11538      87.0      closed   \n",
       "4    11539      11.0      closed   \n",
       "..     ...       ...         ...   \n",
       "237  11781    3851.0  processing   \n",
       "238  11782    3851.0  processing   \n",
       "239  11783    4157.0  processing   \n",
       "240  11784    1764.0  processing   \n",
       "241  11785    4157.0  processing   \n",
       "\n",
       "                                                 Title  \\\n",
       "0                      [**Freeview**] EPG schedule gap   \n",
       "1    Missing detailed information for program id 14...   \n",
       "2                                    weapons - Baltics   \n",
       "3    DNA TV / EPG shows episode's name instead of s...   \n",
       "4    EPG: SVT1 HD /  / There is no title on this pr...   \n",
       "..                                                 ...   \n",
       "237  F√∫tbol de Argentina - LPF Torneo Clausura 202...   \n",
       "238  A Lot Like Love on HBO POP Caribbean 09.09.202...   \n",
       "239  Wrong EPG schedule ‚Äì TNTS 4 ‚Äì EPG schedule...   \n",
       "240                   Innspire - SimplyTV IDs check-up   \n",
       "241             Gaps/Placeholder reports - Tue 9th Sep   \n",
       "\n",
       "                               Field    Service        Category    CreatedAt  \\\n",
       "0                                NaN  schedules    missing_data  45903.00704   \n",
       "1                     data_points_id  editorial    missing_data  45903.22057   \n",
       "2    technical_data_parental_ratings  editorial  incorrect_data  45903.28135   \n",
       "3                  data_points_title     ingest  incorrect_data  45903.30549   \n",
       "4                                NaN   delivery    missing_data  45903.30564   \n",
       "..                               ...        ...             ...          ...   \n",
       "237                data_points_title  editorial  change_request  45909.74948   \n",
       "238                data_points_title  editorial  incorrect_data  45909.76206   \n",
       "239                    delivery_feed  schedules    missing_data  45909.76745   \n",
       "240        delivery_service_addition   delivery  change_request  45909.77439   \n",
       "241                              NaN  schedules    missing_data  45909.78826   \n",
       "\n",
       "       UpdatedAt  AcknowledgedAt  ProcessingAt     ClosedAt  ReopenedAt  \\\n",
       "0    45903.65321     45903.02801   45903.10142  45903.65321         NaN   \n",
       "1    45905.68690     45903.22057   45903.44718  45905.68690         NaN   \n",
       "2    45903.28307     45903.28135           NaN  45903.28294         NaN   \n",
       "3    45903.71740     45903.30549   45903.44925  45903.71740         NaN   \n",
       "4    45904.31837     45903.30564   45903.66899  45904.31837         NaN   \n",
       "..           ...             ...           ...          ...         ...   \n",
       "237  45909.75968     45909.74948   45909.75950          NaN         NaN   \n",
       "238  45909.77005     45909.76531   45909.76993          NaN         NaN   \n",
       "239  45909.76897     45909.76745   45909.76880          NaN         NaN   \n",
       "240  45909.77522     45909.77439   45909.77495          NaN         NaN   \n",
       "241  45909.80583     45909.78828   45909.80014          NaN         NaN   \n",
       "\n",
       "     LastSimplyReplyAt  LastClientReplyAt             ClientName  \\\n",
       "0          45903.65322        45903.00704   Freeview / Freely UK   \n",
       "1          45905.68719        45903.60337  Telia / TV 4 Media AB   \n",
       "2          45903.28332        45903.28135             SF Anytime   \n",
       "3          45903.71743        45903.30549                 DNA Oy   \n",
       "4          45904.31839        45903.30650         Stofa / Norlys   \n",
       "..                 ...                ...                    ...   \n",
       "237        45909.83729        45909.74948       Wiltel Argentina   \n",
       "238                NaN        45909.76206       Wiltel Argentina   \n",
       "239        45909.79808        45909.76745  BT (Youview delivery)   \n",
       "240        45909.77755        45909.77786               Innspire   \n",
       "241        45909.80252        45909.78826  BT (Youview delivery)   \n",
       "\n",
       "     Time to Close    TAM    Closer  \n",
       "0     1.550806e+01   Aneet   Annet   \n",
       "1     5.919194e+01    Theo     Theo  \n",
       "2     3.805556e-02    Theo  Zarmeen  \n",
       "3     9.885833e+00    Theo     Theo  \n",
       "4     2.430556e+01    Theo     Theo  \n",
       "..             ...     ...      ...  \n",
       "237  -1.101834e+06     Gui      NaN  \n",
       "238  -1.101834e+06     Gui      NaN  \n",
       "239  -1.101834e+06   Aneet      NaN  \n",
       "240  -1.101835e+06  Sergiu      NaN  \n",
       "241  -1.101835e+06   Aneet      NaN  \n",
       "\n",
       "[242 rows x 19 columns]"
      ]
     },
     "execution_count": 4,
     "metadata": {},
     "output_type": "execute_result"
    }
   ],
   "source": [
    "df"
   ]
  },
  {
   "cell_type": "code",
   "execution_count": 6,
   "metadata": {},
   "outputs": [
    {
     "data": {
      "text/html": [
       "<div>\n",
       "<style scoped>\n",
       "    .dataframe tbody tr th:only-of-type {\n",
       "        vertical-align: middle;\n",
       "    }\n",
       "\n",
       "    .dataframe tbody tr th {\n",
       "        vertical-align: top;\n",
       "    }\n",
       "\n",
       "    .dataframe thead th {\n",
       "        text-align: right;\n",
       "    }\n",
       "</style>\n",
       "<table border=\"1\" class=\"dataframe\">\n",
       "  <thead>\n",
       "    <tr style=\"text-align: right;\">\n",
       "      <th></th>\n",
       "      <th>Closer</th>\n",
       "      <th>ClientName</th>\n",
       "      <th>CreatedAt</th>\n",
       "      <th>ClosedAt</th>\n",
       "      <th>ReopenedAt</th>\n",
       "      <th>Time to Close</th>\n",
       "    </tr>\n",
       "  </thead>\n",
       "  <tbody>\n",
       "    <tr>\n",
       "      <th>0</th>\n",
       "      <td>Annet</td>\n",
       "      <td>Freeview / Freely UK</td>\n",
       "      <td>1970-01-01 00:00:00.000045903</td>\n",
       "      <td>1970-01-01 00:00:00.000045903</td>\n",
       "      <td>NaT</td>\n",
       "      <td>15.508056</td>\n",
       "    </tr>\n",
       "    <tr>\n",
       "      <th>1</th>\n",
       "      <td>Theo</td>\n",
       "      <td>Telia / TV 4 Media AB</td>\n",
       "      <td>1970-01-01 00:00:00.000045903</td>\n",
       "      <td>1970-01-01 00:00:00.000045905</td>\n",
       "      <td>NaT</td>\n",
       "      <td>59.191944</td>\n",
       "    </tr>\n",
       "    <tr>\n",
       "      <th>2</th>\n",
       "      <td>Zarmeen</td>\n",
       "      <td>SF Anytime</td>\n",
       "      <td>1970-01-01 00:00:00.000045903</td>\n",
       "      <td>1970-01-01 00:00:00.000045903</td>\n",
       "      <td>NaT</td>\n",
       "      <td>0.038056</td>\n",
       "    </tr>\n",
       "    <tr>\n",
       "      <th>3</th>\n",
       "      <td>Theo</td>\n",
       "      <td>DNA Oy</td>\n",
       "      <td>1970-01-01 00:00:00.000045903</td>\n",
       "      <td>1970-01-01 00:00:00.000045903</td>\n",
       "      <td>NaT</td>\n",
       "      <td>9.885833</td>\n",
       "    </tr>\n",
       "    <tr>\n",
       "      <th>4</th>\n",
       "      <td>Theo</td>\n",
       "      <td>Stofa / Norlys</td>\n",
       "      <td>1970-01-01 00:00:00.000045903</td>\n",
       "      <td>1970-01-01 00:00:00.000045904</td>\n",
       "      <td>NaT</td>\n",
       "      <td>24.305556</td>\n",
       "    </tr>\n",
       "  </tbody>\n",
       "</table>\n",
       "</div>"
      ],
      "text/plain": [
       "    Closer             ClientName                     CreatedAt  \\\n",
       "0    Annet   Freeview / Freely UK 1970-01-01 00:00:00.000045903   \n",
       "1     Theo  Telia / TV 4 Media AB 1970-01-01 00:00:00.000045903   \n",
       "2  Zarmeen             SF Anytime 1970-01-01 00:00:00.000045903   \n",
       "3     Theo                 DNA Oy 1970-01-01 00:00:00.000045903   \n",
       "4     Theo         Stofa / Norlys 1970-01-01 00:00:00.000045903   \n",
       "\n",
       "                       ClosedAt ReopenedAt  Time to Close  \n",
       "0 1970-01-01 00:00:00.000045903        NaT      15.508056  \n",
       "1 1970-01-01 00:00:00.000045905        NaT      59.191944  \n",
       "2 1970-01-01 00:00:00.000045903        NaT       0.038056  \n",
       "3 1970-01-01 00:00:00.000045903        NaT       9.885833  \n",
       "4 1970-01-01 00:00:00.000045904        NaT      24.305556  "
      ]
     },
     "execution_count": 6,
     "metadata": {},
     "output_type": "execute_result"
    }
   ],
   "source": [
    "# ---- Lock column mappings (from your header screenshot) ----\n",
    "closer_col   = \"Closer\"\n",
    "client_col   = \"ClientName\"\n",
    "created_col  = \"CreatedAt\"\n",
    "closed_col   = \"ClosedAt\"\n",
    "reopen_col   = \"ReopenedAt\"\n",
    "ttc_col      = \"Time to Close\"   # note the space\n",
    "tam_col      = \"TAM\"             # only if you still want to reference TAM\n",
    "\n",
    "# Clean column names (just in case there are leading/trailing spaces)\n",
    "df.columns = [c.strip() for c in df.columns]\n",
    "\n",
    "# Parse timestamps (dayfirst=True if your dates are dd/mm/yy)\n",
    "for c in [created_col, closed_col, reopen_col, \"UpdatedAt\",\n",
    "          \"AcknowledgedAt\", \"ProcessingAt\", \"LastSimplyReplyAt\", \"LastClientReplyAt\"]:\n",
    "    if c in df.columns:\n",
    "        df[c] = pd.to_datetime(df[c], errors=\"coerce\", dayfirst=True)\n",
    "\n",
    "# Keep only rows with a valid closer and a closed time\n",
    "df[closer_col] = df[closer_col].astype(str).str.strip()\n",
    "df = df[~df[closer_col].str.lower().isin([\"not found\",\"\",\"none\",\"nan\"])].copy()\n",
    "df = df.dropna(subset=[closed_col])\n",
    "\n",
    "# Ensure the time-to-close column exists; compute if missing\n",
    "if ttc_col not in df.columns:\n",
    "    df[ttc_col] = (df[closed_col] - df[created_col]).dt.total_seconds()/3600.0\n",
    "\n",
    "# Re-open flag\n",
    "df[\"_reopened_flag\"] = df[reopen_col].notna() if reopen_col in df.columns else False\n",
    "\n",
    "# Quick sanity peek\n",
    "df[[closer_col, client_col, created_col, closed_col, reopen_col, ttc_col]].head()\n",
    "\n"
   ]
  },
  {
   "cell_type": "code",
   "execution_count": 8,
   "metadata": {},
   "outputs": [
    {
     "data": {
      "application/vnd.plotly.v1+json": {
       "config": {
        "plotlyServerURL": "https://plot.ly"
       },
       "data": [
        {
         "alignmentgroup": "True",
         "hovertemplate": "Tickets=%{marker.color}<br>Client=%{y}<extra></extra>",
         "legendgroup": "",
         "marker": {
          "color": [
           41,
           17,
           15,
           14,
           13,
           8,
           7,
           6,
           6,
           5,
           5,
           4,
           3,
           3,
           3
          ],
          "coloraxis": "coloraxis",
          "pattern": {
           "shape": ""
          }
         },
         "name": "",
         "offsetgroup": "",
         "orientation": "h",
         "showlegend": false,
         "textposition": "auto",
         "type": "bar",
         "x": [
          41,
          17,
          15,
          14,
          13,
          8,
          7,
          6,
          6,
          5,
          5,
          4,
          3,
          3,
          3
         ],
         "xaxis": "x",
         "y": [
          "Zapping",
          "Telia / TV 4 Media AB",
          "Xperi / Tivo Live and Billing Account (XML current)",
          "Wiltel Argentina",
          "SF Anytime",
          "Vodafone Ireland",
          "BT (Youview delivery)",
          "ORS/simpliTV",
          "TDC Full-Account",
          "Elisa Finland",
          "Altibox",
          "Elisa Estonia",
          "Freeview / Freely UK",
          "Go Malta live delivery",
          "Virgin Media Ireland"
         ],
         "yaxis": "y"
        }
       ],
       "layout": {
        "barmode": "relative",
        "coloraxis": {
         "colorbar": {
          "title": {
           "text": "Tickets"
          }
         },
         "colorscale": [
          [
           0,
           "#440154"
          ],
          [
           0.1111111111111111,
           "#482878"
          ],
          [
           0.2222222222222222,
           "#3e4989"
          ],
          [
           0.3333333333333333,
           "#31688e"
          ],
          [
           0.4444444444444444,
           "#26828e"
          ],
          [
           0.5555555555555556,
           "#1f9e89"
          ],
          [
           0.6666666666666666,
           "#35b779"
          ],
          [
           0.7777777777777778,
           "#6ece58"
          ],
          [
           0.8888888888888888,
           "#b5de2b"
          ],
          [
           1,
           "#fde725"
          ]
         ]
        },
        "legend": {
         "tracegroupgap": 0
        },
        "showlegend": false,
        "template": {
         "data": {
          "bar": [
           {
            "error_x": {
             "color": "rgb(36,36,36)"
            },
            "error_y": {
             "color": "rgb(36,36,36)"
            },
            "marker": {
             "line": {
              "color": "white",
              "width": 0.5
             },
             "pattern": {
              "fillmode": "overlay",
              "size": 10,
              "solidity": 0.2
             }
            },
            "type": "bar"
           }
          ],
          "barpolar": [
           {
            "marker": {
             "line": {
              "color": "white",
              "width": 0.5
             },
             "pattern": {
              "fillmode": "overlay",
              "size": 10,
              "solidity": 0.2
             }
            },
            "type": "barpolar"
           }
          ],
          "carpet": [
           {
            "aaxis": {
             "endlinecolor": "rgb(36,36,36)",
             "gridcolor": "white",
             "linecolor": "white",
             "minorgridcolor": "white",
             "startlinecolor": "rgb(36,36,36)"
            },
            "baxis": {
             "endlinecolor": "rgb(36,36,36)",
             "gridcolor": "white",
             "linecolor": "white",
             "minorgridcolor": "white",
             "startlinecolor": "rgb(36,36,36)"
            },
            "type": "carpet"
           }
          ],
          "choropleth": [
           {
            "colorbar": {
             "outlinewidth": 1,
             "tickcolor": "rgb(36,36,36)",
             "ticks": "outside"
            },
            "type": "choropleth"
           }
          ],
          "contour": [
           {
            "colorbar": {
             "outlinewidth": 1,
             "tickcolor": "rgb(36,36,36)",
             "ticks": "outside"
            },
            "colorscale": [
             [
              0,
              "#440154"
             ],
             [
              0.1111111111111111,
              "#482878"
             ],
             [
              0.2222222222222222,
              "#3e4989"
             ],
             [
              0.3333333333333333,
              "#31688e"
             ],
             [
              0.4444444444444444,
              "#26828e"
             ],
             [
              0.5555555555555556,
              "#1f9e89"
             ],
             [
              0.6666666666666666,
              "#35b779"
             ],
             [
              0.7777777777777778,
              "#6ece58"
             ],
             [
              0.8888888888888888,
              "#b5de2b"
             ],
             [
              1,
              "#fde725"
             ]
            ],
            "type": "contour"
           }
          ],
          "contourcarpet": [
           {
            "colorbar": {
             "outlinewidth": 1,
             "tickcolor": "rgb(36,36,36)",
             "ticks": "outside"
            },
            "type": "contourcarpet"
           }
          ],
          "heatmap": [
           {
            "colorbar": {
             "outlinewidth": 1,
             "tickcolor": "rgb(36,36,36)",
             "ticks": "outside"
            },
            "colorscale": [
             [
              0,
              "#440154"
             ],
             [
              0.1111111111111111,
              "#482878"
             ],
             [
              0.2222222222222222,
              "#3e4989"
             ],
             [
              0.3333333333333333,
              "#31688e"
             ],
             [
              0.4444444444444444,
              "#26828e"
             ],
             [
              0.5555555555555556,
              "#1f9e89"
             ],
             [
              0.6666666666666666,
              "#35b779"
             ],
             [
              0.7777777777777778,
              "#6ece58"
             ],
             [
              0.8888888888888888,
              "#b5de2b"
             ],
             [
              1,
              "#fde725"
             ]
            ],
            "type": "heatmap"
           }
          ],
          "heatmapgl": [
           {
            "colorbar": {
             "outlinewidth": 1,
             "tickcolor": "rgb(36,36,36)",
             "ticks": "outside"
            },
            "colorscale": [
             [
              0,
              "#440154"
             ],
             [
              0.1111111111111111,
              "#482878"
             ],
             [
              0.2222222222222222,
              "#3e4989"
             ],
             [
              0.3333333333333333,
              "#31688e"
             ],
             [
              0.4444444444444444,
              "#26828e"
             ],
             [
              0.5555555555555556,
              "#1f9e89"
             ],
             [
              0.6666666666666666,
              "#35b779"
             ],
             [
              0.7777777777777778,
              "#6ece58"
             ],
             [
              0.8888888888888888,
              "#b5de2b"
             ],
             [
              1,
              "#fde725"
             ]
            ],
            "type": "heatmapgl"
           }
          ],
          "histogram": [
           {
            "marker": {
             "line": {
              "color": "white",
              "width": 0.6
             }
            },
            "type": "histogram"
           }
          ],
          "histogram2d": [
           {
            "colorbar": {
             "outlinewidth": 1,
             "tickcolor": "rgb(36,36,36)",
             "ticks": "outside"
            },
            "colorscale": [
             [
              0,
              "#440154"
             ],
             [
              0.1111111111111111,
              "#482878"
             ],
             [
              0.2222222222222222,
              "#3e4989"
             ],
             [
              0.3333333333333333,
              "#31688e"
             ],
             [
              0.4444444444444444,
              "#26828e"
             ],
             [
              0.5555555555555556,
              "#1f9e89"
             ],
             [
              0.6666666666666666,
              "#35b779"
             ],
             [
              0.7777777777777778,
              "#6ece58"
             ],
             [
              0.8888888888888888,
              "#b5de2b"
             ],
             [
              1,
              "#fde725"
             ]
            ],
            "type": "histogram2d"
           }
          ],
          "histogram2dcontour": [
           {
            "colorbar": {
             "outlinewidth": 1,
             "tickcolor": "rgb(36,36,36)",
             "ticks": "outside"
            },
            "colorscale": [
             [
              0,
              "#440154"
             ],
             [
              0.1111111111111111,
              "#482878"
             ],
             [
              0.2222222222222222,
              "#3e4989"
             ],
             [
              0.3333333333333333,
              "#31688e"
             ],
             [
              0.4444444444444444,
              "#26828e"
             ],
             [
              0.5555555555555556,
              "#1f9e89"
             ],
             [
              0.6666666666666666,
              "#35b779"
             ],
             [
              0.7777777777777778,
              "#6ece58"
             ],
             [
              0.8888888888888888,
              "#b5de2b"
             ],
             [
              1,
              "#fde725"
             ]
            ],
            "type": "histogram2dcontour"
           }
          ],
          "mesh3d": [
           {
            "colorbar": {
             "outlinewidth": 1,
             "tickcolor": "rgb(36,36,36)",
             "ticks": "outside"
            },
            "type": "mesh3d"
           }
          ],
          "parcoords": [
           {
            "line": {
             "colorbar": {
              "outlinewidth": 1,
              "tickcolor": "rgb(36,36,36)",
              "ticks": "outside"
             }
            },
            "type": "parcoords"
           }
          ],
          "pie": [
           {
            "automargin": true,
            "type": "pie"
           }
          ],
          "scatter": [
           {
            "fillpattern": {
             "fillmode": "overlay",
             "size": 10,
             "solidity": 0.2
            },
            "type": "scatter"
           }
          ],
          "scatter3d": [
           {
            "line": {
             "colorbar": {
              "outlinewidth": 1,
              "tickcolor": "rgb(36,36,36)",
              "ticks": "outside"
             }
            },
            "marker": {
             "colorbar": {
              "outlinewidth": 1,
              "tickcolor": "rgb(36,36,36)",
              "ticks": "outside"
             }
            },
            "type": "scatter3d"
           }
          ],
          "scattercarpet": [
           {
            "marker": {
             "colorbar": {
              "outlinewidth": 1,
              "tickcolor": "rgb(36,36,36)",
              "ticks": "outside"
             }
            },
            "type": "scattercarpet"
           }
          ],
          "scattergeo": [
           {
            "marker": {
             "colorbar": {
              "outlinewidth": 1,
              "tickcolor": "rgb(36,36,36)",
              "ticks": "outside"
             }
            },
            "type": "scattergeo"
           }
          ],
          "scattergl": [
           {
            "marker": {
             "colorbar": {
              "outlinewidth": 1,
              "tickcolor": "rgb(36,36,36)",
              "ticks": "outside"
             }
            },
            "type": "scattergl"
           }
          ],
          "scattermapbox": [
           {
            "marker": {
             "colorbar": {
              "outlinewidth": 1,
              "tickcolor": "rgb(36,36,36)",
              "ticks": "outside"
             }
            },
            "type": "scattermapbox"
           }
          ],
          "scatterpolar": [
           {
            "marker": {
             "colorbar": {
              "outlinewidth": 1,
              "tickcolor": "rgb(36,36,36)",
              "ticks": "outside"
             }
            },
            "type": "scatterpolar"
           }
          ],
          "scatterpolargl": [
           {
            "marker": {
             "colorbar": {
              "outlinewidth": 1,
              "tickcolor": "rgb(36,36,36)",
              "ticks": "outside"
             }
            },
            "type": "scatterpolargl"
           }
          ],
          "scatterternary": [
           {
            "marker": {
             "colorbar": {
              "outlinewidth": 1,
              "tickcolor": "rgb(36,36,36)",
              "ticks": "outside"
             }
            },
            "type": "scatterternary"
           }
          ],
          "surface": [
           {
            "colorbar": {
             "outlinewidth": 1,
             "tickcolor": "rgb(36,36,36)",
             "ticks": "outside"
            },
            "colorscale": [
             [
              0,
              "#440154"
             ],
             [
              0.1111111111111111,
              "#482878"
             ],
             [
              0.2222222222222222,
              "#3e4989"
             ],
             [
              0.3333333333333333,
              "#31688e"
             ],
             [
              0.4444444444444444,
              "#26828e"
             ],
             [
              0.5555555555555556,
              "#1f9e89"
             ],
             [
              0.6666666666666666,
              "#35b779"
             ],
             [
              0.7777777777777778,
              "#6ece58"
             ],
             [
              0.8888888888888888,
              "#b5de2b"
             ],
             [
              1,
              "#fde725"
             ]
            ],
            "type": "surface"
           }
          ],
          "table": [
           {
            "cells": {
             "fill": {
              "color": "rgb(237,237,237)"
             },
             "line": {
              "color": "white"
             }
            },
            "header": {
             "fill": {
              "color": "rgb(217,217,217)"
             },
             "line": {
              "color": "white"
             }
            },
            "type": "table"
           }
          ]
         },
         "layout": {
          "annotationdefaults": {
           "arrowhead": 0,
           "arrowwidth": 1
          },
          "autotypenumbers": "strict",
          "coloraxis": {
           "colorbar": {
            "outlinewidth": 1,
            "tickcolor": "rgb(36,36,36)",
            "ticks": "outside"
           }
          },
          "colorscale": {
           "diverging": [
            [
             0,
             "rgb(103,0,31)"
            ],
            [
             0.1,
             "rgb(178,24,43)"
            ],
            [
             0.2,
             "rgb(214,96,77)"
            ],
            [
             0.3,
             "rgb(244,165,130)"
            ],
            [
             0.4,
             "rgb(253,219,199)"
            ],
            [
             0.5,
             "rgb(247,247,247)"
            ],
            [
             0.6,
             "rgb(209,229,240)"
            ],
            [
             0.7,
             "rgb(146,197,222)"
            ],
            [
             0.8,
             "rgb(67,147,195)"
            ],
            [
             0.9,
             "rgb(33,102,172)"
            ],
            [
             1,
             "rgb(5,48,97)"
            ]
           ],
           "sequential": [
            [
             0,
             "#440154"
            ],
            [
             0.1111111111111111,
             "#482878"
            ],
            [
             0.2222222222222222,
             "#3e4989"
            ],
            [
             0.3333333333333333,
             "#31688e"
            ],
            [
             0.4444444444444444,
             "#26828e"
            ],
            [
             0.5555555555555556,
             "#1f9e89"
            ],
            [
             0.6666666666666666,
             "#35b779"
            ],
            [
             0.7777777777777778,
             "#6ece58"
            ],
            [
             0.8888888888888888,
             "#b5de2b"
            ],
            [
             1,
             "#fde725"
            ]
           ],
           "sequentialminus": [
            [
             0,
             "#440154"
            ],
            [
             0.1111111111111111,
             "#482878"
            ],
            [
             0.2222222222222222,
             "#3e4989"
            ],
            [
             0.3333333333333333,
             "#31688e"
            ],
            [
             0.4444444444444444,
             "#26828e"
            ],
            [
             0.5555555555555556,
             "#1f9e89"
            ],
            [
             0.6666666666666666,
             "#35b779"
            ],
            [
             0.7777777777777778,
             "#6ece58"
            ],
            [
             0.8888888888888888,
             "#b5de2b"
            ],
            [
             1,
             "#fde725"
            ]
           ]
          },
          "colorway": [
           "#1F77B4",
           "#FF7F0E",
           "#2CA02C",
           "#D62728",
           "#9467BD",
           "#8C564B",
           "#E377C2",
           "#7F7F7F",
           "#BCBD22",
           "#17BECF"
          ],
          "font": {
           "color": "rgb(36,36,36)"
          },
          "geo": {
           "bgcolor": "white",
           "lakecolor": "white",
           "landcolor": "white",
           "showlakes": true,
           "showland": true,
           "subunitcolor": "white"
          },
          "hoverlabel": {
           "align": "left"
          },
          "hovermode": "closest",
          "mapbox": {
           "style": "light"
          },
          "paper_bgcolor": "white",
          "plot_bgcolor": "white",
          "polar": {
           "angularaxis": {
            "gridcolor": "rgb(232,232,232)",
            "linecolor": "rgb(36,36,36)",
            "showgrid": false,
            "showline": true,
            "ticks": "outside"
           },
           "bgcolor": "white",
           "radialaxis": {
            "gridcolor": "rgb(232,232,232)",
            "linecolor": "rgb(36,36,36)",
            "showgrid": false,
            "showline": true,
            "ticks": "outside"
           }
          },
          "scene": {
           "xaxis": {
            "backgroundcolor": "white",
            "gridcolor": "rgb(232,232,232)",
            "gridwidth": 2,
            "linecolor": "rgb(36,36,36)",
            "showbackground": true,
            "showgrid": false,
            "showline": true,
            "ticks": "outside",
            "zeroline": false,
            "zerolinecolor": "rgb(36,36,36)"
           },
           "yaxis": {
            "backgroundcolor": "white",
            "gridcolor": "rgb(232,232,232)",
            "gridwidth": 2,
            "linecolor": "rgb(36,36,36)",
            "showbackground": true,
            "showgrid": false,
            "showline": true,
            "ticks": "outside",
            "zeroline": false,
            "zerolinecolor": "rgb(36,36,36)"
           },
           "zaxis": {
            "backgroundcolor": "white",
            "gridcolor": "rgb(232,232,232)",
            "gridwidth": 2,
            "linecolor": "rgb(36,36,36)",
            "showbackground": true,
            "showgrid": false,
            "showline": true,
            "ticks": "outside",
            "zeroline": false,
            "zerolinecolor": "rgb(36,36,36)"
           }
          },
          "shapedefaults": {
           "fillcolor": "black",
           "line": {
            "width": 0
           },
           "opacity": 0.3
          },
          "ternary": {
           "aaxis": {
            "gridcolor": "rgb(232,232,232)",
            "linecolor": "rgb(36,36,36)",
            "showgrid": false,
            "showline": true,
            "ticks": "outside"
           },
           "baxis": {
            "gridcolor": "rgb(232,232,232)",
            "linecolor": "rgb(36,36,36)",
            "showgrid": false,
            "showline": true,
            "ticks": "outside"
           },
           "bgcolor": "white",
           "caxis": {
            "gridcolor": "rgb(232,232,232)",
            "linecolor": "rgb(36,36,36)",
            "showgrid": false,
            "showline": true,
            "ticks": "outside"
           }
          },
          "title": {
           "x": 0.05
          },
          "xaxis": {
           "automargin": true,
           "gridcolor": "rgb(232,232,232)",
           "linecolor": "rgb(36,36,36)",
           "showgrid": false,
           "showline": true,
           "ticks": "outside",
           "title": {
            "standoff": 15
           },
           "zeroline": false,
           "zerolinecolor": "rgb(36,36,36)"
          },
          "yaxis": {
           "automargin": true,
           "gridcolor": "rgb(232,232,232)",
           "linecolor": "rgb(36,36,36)",
           "showgrid": false,
           "showline": true,
           "ticks": "outside",
           "title": {
            "standoff": 15
           },
           "zeroline": false,
           "zerolinecolor": "rgb(36,36,36)"
          }
         }
        },
        "title": {
         "text": "👑 Which client generated the most tickets?"
        },
        "xaxis": {
         "anchor": "y",
         "domain": [
          0,
          1
         ],
         "title": {
          "text": "Tickets"
         }
        },
        "yaxis": {
         "anchor": "x",
         "categoryorder": "total ascending",
         "domain": [
          0,
          1
         ],
         "title": {
          "text": "Client"
         }
        }
       }
      }
     },
     "metadata": {},
     "output_type": "display_data"
    }
   ],
   "source": [
    "# 4.1 Clients with the most tickets (new CSV uses 'ClientName')\n",
    "import plotly.express as px\n",
    "\n",
    "client_col = \"ClientName\"  # from your new file header\n",
    "\n",
    "clients_df = (\n",
    "    df.assign(**{client_col: df[client_col].astype(str).str.strip()})\n",
    "      .loc[df[client_col].notna() & (df[client_col].astype(str).str.strip() != \"\")]\n",
    "      .groupby(client_col, as_index=False)\n",
    "      .size()\n",
    "      .rename(columns={\"size\": \"tickets_count\"})\n",
    "      .sort_values(\"tickets_count\", ascending=False)\n",
    ")\n",
    "\n",
    "fig = px.bar(\n",
    "    clients_df.head(15),\n",
    "    x=\"tickets_count\", y=client_col, orientation=\"h\", color=\"tickets_count\",\n",
    "    title=\"👑 Which client generated the most tickets?\",\n",
    "    labels={\"tickets_count\": \"Tickets\", client_col: \"Client\"},\n",
    "    template=\"simple_white\"\n",
    ")\n",
    "fig.update_yaxes(categoryorder=\"total ascending\")\n",
    "fig.update_layout(showlegend=False)\n",
    "fig.show()\n"
   ]
  },
  {
   "cell_type": "code",
   "execution_count": 11,
   "metadata": {},
   "outputs": [
    {
     "data": {
      "application/vnd.plotly.v1+json": {
       "config": {
        "plotlyServerURL": "https://plot.ly"
       },
       "data": [
        {
         "alignmentgroup": "True",
         "hovertemplate": "TAM=%{x}<br>Tickets=%{marker.color}<extra></extra>",
         "legendgroup": "",
         "marker": {
          "color": [
           64,
           55,
           24,
           23,
           5,
           3,
           1,
           1
          ],
          "coloraxis": "coloraxis",
          "pattern": {
           "shape": ""
          }
         },
         "name": "",
         "offsetgroup": "",
         "orientation": "v",
         "showlegend": false,
         "textposition": "auto",
         "type": "bar",
         "x": [
          "Theo",
          "Gui",
          "Gabi",
          "Aneet",
          "Mael",
          "Helena",
          "Sergiu",
          "Tristan"
         ],
         "xaxis": "x",
         "y": [
          64,
          55,
          24,
          23,
          5,
          3,
          1,
          1
         ],
         "yaxis": "y"
        }
       ],
       "layout": {
        "barmode": "relative",
        "coloraxis": {
         "colorbar": {
          "title": {
           "text": "Tickets"
          }
         },
         "colorscale": [
          [
           0,
           "#440154"
          ],
          [
           0.1111111111111111,
           "#482878"
          ],
          [
           0.2222222222222222,
           "#3e4989"
          ],
          [
           0.3333333333333333,
           "#31688e"
          ],
          [
           0.4444444444444444,
           "#26828e"
          ],
          [
           0.5555555555555556,
           "#1f9e89"
          ],
          [
           0.6666666666666666,
           "#35b779"
          ],
          [
           0.7777777777777778,
           "#6ece58"
          ],
          [
           0.8888888888888888,
           "#b5de2b"
          ],
          [
           1,
           "#fde725"
          ]
         ]
        },
        "legend": {
         "tracegroupgap": 0
        },
        "showlegend": false,
        "template": {
         "data": {
          "bar": [
           {
            "error_x": {
             "color": "rgb(36,36,36)"
            },
            "error_y": {
             "color": "rgb(36,36,36)"
            },
            "marker": {
             "line": {
              "color": "white",
              "width": 0.5
             },
             "pattern": {
              "fillmode": "overlay",
              "size": 10,
              "solidity": 0.2
             }
            },
            "type": "bar"
           }
          ],
          "barpolar": [
           {
            "marker": {
             "line": {
              "color": "white",
              "width": 0.5
             },
             "pattern": {
              "fillmode": "overlay",
              "size": 10,
              "solidity": 0.2
             }
            },
            "type": "barpolar"
           }
          ],
          "carpet": [
           {
            "aaxis": {
             "endlinecolor": "rgb(36,36,36)",
             "gridcolor": "white",
             "linecolor": "white",
             "minorgridcolor": "white",
             "startlinecolor": "rgb(36,36,36)"
            },
            "baxis": {
             "endlinecolor": "rgb(36,36,36)",
             "gridcolor": "white",
             "linecolor": "white",
             "minorgridcolor": "white",
             "startlinecolor": "rgb(36,36,36)"
            },
            "type": "carpet"
           }
          ],
          "choropleth": [
           {
            "colorbar": {
             "outlinewidth": 1,
             "tickcolor": "rgb(36,36,36)",
             "ticks": "outside"
            },
            "type": "choropleth"
           }
          ],
          "contour": [
           {
            "colorbar": {
             "outlinewidth": 1,
             "tickcolor": "rgb(36,36,36)",
             "ticks": "outside"
            },
            "colorscale": [
             [
              0,
              "#440154"
             ],
             [
              0.1111111111111111,
              "#482878"
             ],
             [
              0.2222222222222222,
              "#3e4989"
             ],
             [
              0.3333333333333333,
              "#31688e"
             ],
             [
              0.4444444444444444,
              "#26828e"
             ],
             [
              0.5555555555555556,
              "#1f9e89"
             ],
             [
              0.6666666666666666,
              "#35b779"
             ],
             [
              0.7777777777777778,
              "#6ece58"
             ],
             [
              0.8888888888888888,
              "#b5de2b"
             ],
             [
              1,
              "#fde725"
             ]
            ],
            "type": "contour"
           }
          ],
          "contourcarpet": [
           {
            "colorbar": {
             "outlinewidth": 1,
             "tickcolor": "rgb(36,36,36)",
             "ticks": "outside"
            },
            "type": "contourcarpet"
           }
          ],
          "heatmap": [
           {
            "colorbar": {
             "outlinewidth": 1,
             "tickcolor": "rgb(36,36,36)",
             "ticks": "outside"
            },
            "colorscale": [
             [
              0,
              "#440154"
             ],
             [
              0.1111111111111111,
              "#482878"
             ],
             [
              0.2222222222222222,
              "#3e4989"
             ],
             [
              0.3333333333333333,
              "#31688e"
             ],
             [
              0.4444444444444444,
              "#26828e"
             ],
             [
              0.5555555555555556,
              "#1f9e89"
             ],
             [
              0.6666666666666666,
              "#35b779"
             ],
             [
              0.7777777777777778,
              "#6ece58"
             ],
             [
              0.8888888888888888,
              "#b5de2b"
             ],
             [
              1,
              "#fde725"
             ]
            ],
            "type": "heatmap"
           }
          ],
          "heatmapgl": [
           {
            "colorbar": {
             "outlinewidth": 1,
             "tickcolor": "rgb(36,36,36)",
             "ticks": "outside"
            },
            "colorscale": [
             [
              0,
              "#440154"
             ],
             [
              0.1111111111111111,
              "#482878"
             ],
             [
              0.2222222222222222,
              "#3e4989"
             ],
             [
              0.3333333333333333,
              "#31688e"
             ],
             [
              0.4444444444444444,
              "#26828e"
             ],
             [
              0.5555555555555556,
              "#1f9e89"
             ],
             [
              0.6666666666666666,
              "#35b779"
             ],
             [
              0.7777777777777778,
              "#6ece58"
             ],
             [
              0.8888888888888888,
              "#b5de2b"
             ],
             [
              1,
              "#fde725"
             ]
            ],
            "type": "heatmapgl"
           }
          ],
          "histogram": [
           {
            "marker": {
             "line": {
              "color": "white",
              "width": 0.6
             }
            },
            "type": "histogram"
           }
          ],
          "histogram2d": [
           {
            "colorbar": {
             "outlinewidth": 1,
             "tickcolor": "rgb(36,36,36)",
             "ticks": "outside"
            },
            "colorscale": [
             [
              0,
              "#440154"
             ],
             [
              0.1111111111111111,
              "#482878"
             ],
             [
              0.2222222222222222,
              "#3e4989"
             ],
             [
              0.3333333333333333,
              "#31688e"
             ],
             [
              0.4444444444444444,
              "#26828e"
             ],
             [
              0.5555555555555556,
              "#1f9e89"
             ],
             [
              0.6666666666666666,
              "#35b779"
             ],
             [
              0.7777777777777778,
              "#6ece58"
             ],
             [
              0.8888888888888888,
              "#b5de2b"
             ],
             [
              1,
              "#fde725"
             ]
            ],
            "type": "histogram2d"
           }
          ],
          "histogram2dcontour": [
           {
            "colorbar": {
             "outlinewidth": 1,
             "tickcolor": "rgb(36,36,36)",
             "ticks": "outside"
            },
            "colorscale": [
             [
              0,
              "#440154"
             ],
             [
              0.1111111111111111,
              "#482878"
             ],
             [
              0.2222222222222222,
              "#3e4989"
             ],
             [
              0.3333333333333333,
              "#31688e"
             ],
             [
              0.4444444444444444,
              "#26828e"
             ],
             [
              0.5555555555555556,
              "#1f9e89"
             ],
             [
              0.6666666666666666,
              "#35b779"
             ],
             [
              0.7777777777777778,
              "#6ece58"
             ],
             [
              0.8888888888888888,
              "#b5de2b"
             ],
             [
              1,
              "#fde725"
             ]
            ],
            "type": "histogram2dcontour"
           }
          ],
          "mesh3d": [
           {
            "colorbar": {
             "outlinewidth": 1,
             "tickcolor": "rgb(36,36,36)",
             "ticks": "outside"
            },
            "type": "mesh3d"
           }
          ],
          "parcoords": [
           {
            "line": {
             "colorbar": {
              "outlinewidth": 1,
              "tickcolor": "rgb(36,36,36)",
              "ticks": "outside"
             }
            },
            "type": "parcoords"
           }
          ],
          "pie": [
           {
            "automargin": true,
            "type": "pie"
           }
          ],
          "scatter": [
           {
            "fillpattern": {
             "fillmode": "overlay",
             "size": 10,
             "solidity": 0.2
            },
            "type": "scatter"
           }
          ],
          "scatter3d": [
           {
            "line": {
             "colorbar": {
              "outlinewidth": 1,
              "tickcolor": "rgb(36,36,36)",
              "ticks": "outside"
             }
            },
            "marker": {
             "colorbar": {
              "outlinewidth": 1,
              "tickcolor": "rgb(36,36,36)",
              "ticks": "outside"
             }
            },
            "type": "scatter3d"
           }
          ],
          "scattercarpet": [
           {
            "marker": {
             "colorbar": {
              "outlinewidth": 1,
              "tickcolor": "rgb(36,36,36)",
              "ticks": "outside"
             }
            },
            "type": "scattercarpet"
           }
          ],
          "scattergeo": [
           {
            "marker": {
             "colorbar": {
              "outlinewidth": 1,
              "tickcolor": "rgb(36,36,36)",
              "ticks": "outside"
             }
            },
            "type": "scattergeo"
           }
          ],
          "scattergl": [
           {
            "marker": {
             "colorbar": {
              "outlinewidth": 1,
              "tickcolor": "rgb(36,36,36)",
              "ticks": "outside"
             }
            },
            "type": "scattergl"
           }
          ],
          "scattermapbox": [
           {
            "marker": {
             "colorbar": {
              "outlinewidth": 1,
              "tickcolor": "rgb(36,36,36)",
              "ticks": "outside"
             }
            },
            "type": "scattermapbox"
           }
          ],
          "scatterpolar": [
           {
            "marker": {
             "colorbar": {
              "outlinewidth": 1,
              "tickcolor": "rgb(36,36,36)",
              "ticks": "outside"
             }
            },
            "type": "scatterpolar"
           }
          ],
          "scatterpolargl": [
           {
            "marker": {
             "colorbar": {
              "outlinewidth": 1,
              "tickcolor": "rgb(36,36,36)",
              "ticks": "outside"
             }
            },
            "type": "scatterpolargl"
           }
          ],
          "scatterternary": [
           {
            "marker": {
             "colorbar": {
              "outlinewidth": 1,
              "tickcolor": "rgb(36,36,36)",
              "ticks": "outside"
             }
            },
            "type": "scatterternary"
           }
          ],
          "surface": [
           {
            "colorbar": {
             "outlinewidth": 1,
             "tickcolor": "rgb(36,36,36)",
             "ticks": "outside"
            },
            "colorscale": [
             [
              0,
              "#440154"
             ],
             [
              0.1111111111111111,
              "#482878"
             ],
             [
              0.2222222222222222,
              "#3e4989"
             ],
             [
              0.3333333333333333,
              "#31688e"
             ],
             [
              0.4444444444444444,
              "#26828e"
             ],
             [
              0.5555555555555556,
              "#1f9e89"
             ],
             [
              0.6666666666666666,
              "#35b779"
             ],
             [
              0.7777777777777778,
              "#6ece58"
             ],
             [
              0.8888888888888888,
              "#b5de2b"
             ],
             [
              1,
              "#fde725"
             ]
            ],
            "type": "surface"
           }
          ],
          "table": [
           {
            "cells": {
             "fill": {
              "color": "rgb(237,237,237)"
             },
             "line": {
              "color": "white"
             }
            },
            "header": {
             "fill": {
              "color": "rgb(217,217,217)"
             },
             "line": {
              "color": "white"
             }
            },
            "type": "table"
           }
          ]
         },
         "layout": {
          "annotationdefaults": {
           "arrowhead": 0,
           "arrowwidth": 1
          },
          "autotypenumbers": "strict",
          "coloraxis": {
           "colorbar": {
            "outlinewidth": 1,
            "tickcolor": "rgb(36,36,36)",
            "ticks": "outside"
           }
          },
          "colorscale": {
           "diverging": [
            [
             0,
             "rgb(103,0,31)"
            ],
            [
             0.1,
             "rgb(178,24,43)"
            ],
            [
             0.2,
             "rgb(214,96,77)"
            ],
            [
             0.3,
             "rgb(244,165,130)"
            ],
            [
             0.4,
             "rgb(253,219,199)"
            ],
            [
             0.5,
             "rgb(247,247,247)"
            ],
            [
             0.6,
             "rgb(209,229,240)"
            ],
            [
             0.7,
             "rgb(146,197,222)"
            ],
            [
             0.8,
             "rgb(67,147,195)"
            ],
            [
             0.9,
             "rgb(33,102,172)"
            ],
            [
             1,
             "rgb(5,48,97)"
            ]
           ],
           "sequential": [
            [
             0,
             "#440154"
            ],
            [
             0.1111111111111111,
             "#482878"
            ],
            [
             0.2222222222222222,
             "#3e4989"
            ],
            [
             0.3333333333333333,
             "#31688e"
            ],
            [
             0.4444444444444444,
             "#26828e"
            ],
            [
             0.5555555555555556,
             "#1f9e89"
            ],
            [
             0.6666666666666666,
             "#35b779"
            ],
            [
             0.7777777777777778,
             "#6ece58"
            ],
            [
             0.8888888888888888,
             "#b5de2b"
            ],
            [
             1,
             "#fde725"
            ]
           ],
           "sequentialminus": [
            [
             0,
             "#440154"
            ],
            [
             0.1111111111111111,
             "#482878"
            ],
            [
             0.2222222222222222,
             "#3e4989"
            ],
            [
             0.3333333333333333,
             "#31688e"
            ],
            [
             0.4444444444444444,
             "#26828e"
            ],
            [
             0.5555555555555556,
             "#1f9e89"
            ],
            [
             0.6666666666666666,
             "#35b779"
            ],
            [
             0.7777777777777778,
             "#6ece58"
            ],
            [
             0.8888888888888888,
             "#b5de2b"
            ],
            [
             1,
             "#fde725"
            ]
           ]
          },
          "colorway": [
           "#1F77B4",
           "#FF7F0E",
           "#2CA02C",
           "#D62728",
           "#9467BD",
           "#8C564B",
           "#E377C2",
           "#7F7F7F",
           "#BCBD22",
           "#17BECF"
          ],
          "font": {
           "color": "rgb(36,36,36)"
          },
          "geo": {
           "bgcolor": "white",
           "lakecolor": "white",
           "landcolor": "white",
           "showlakes": true,
           "showland": true,
           "subunitcolor": "white"
          },
          "hoverlabel": {
           "align": "left"
          },
          "hovermode": "closest",
          "mapbox": {
           "style": "light"
          },
          "paper_bgcolor": "white",
          "plot_bgcolor": "white",
          "polar": {
           "angularaxis": {
            "gridcolor": "rgb(232,232,232)",
            "linecolor": "rgb(36,36,36)",
            "showgrid": false,
            "showline": true,
            "ticks": "outside"
           },
           "bgcolor": "white",
           "radialaxis": {
            "gridcolor": "rgb(232,232,232)",
            "linecolor": "rgb(36,36,36)",
            "showgrid": false,
            "showline": true,
            "ticks": "outside"
           }
          },
          "scene": {
           "xaxis": {
            "backgroundcolor": "white",
            "gridcolor": "rgb(232,232,232)",
            "gridwidth": 2,
            "linecolor": "rgb(36,36,36)",
            "showbackground": true,
            "showgrid": false,
            "showline": true,
            "ticks": "outside",
            "zeroline": false,
            "zerolinecolor": "rgb(36,36,36)"
           },
           "yaxis": {
            "backgroundcolor": "white",
            "gridcolor": "rgb(232,232,232)",
            "gridwidth": 2,
            "linecolor": "rgb(36,36,36)",
            "showbackground": true,
            "showgrid": false,
            "showline": true,
            "ticks": "outside",
            "zeroline": false,
            "zerolinecolor": "rgb(36,36,36)"
           },
           "zaxis": {
            "backgroundcolor": "white",
            "gridcolor": "rgb(232,232,232)",
            "gridwidth": 2,
            "linecolor": "rgb(36,36,36)",
            "showbackground": true,
            "showgrid": false,
            "showline": true,
            "ticks": "outside",
            "zeroline": false,
            "zerolinecolor": "rgb(36,36,36)"
           }
          },
          "shapedefaults": {
           "fillcolor": "black",
           "line": {
            "width": 0
           },
           "opacity": 0.3
          },
          "ternary": {
           "aaxis": {
            "gridcolor": "rgb(232,232,232)",
            "linecolor": "rgb(36,36,36)",
            "showgrid": false,
            "showline": true,
            "ticks": "outside"
           },
           "baxis": {
            "gridcolor": "rgb(232,232,232)",
            "linecolor": "rgb(36,36,36)",
            "showgrid": false,
            "showline": true,
            "ticks": "outside"
           },
           "bgcolor": "white",
           "caxis": {
            "gridcolor": "rgb(232,232,232)",
            "linecolor": "rgb(36,36,36)",
            "showgrid": false,
            "showline": true,
            "ticks": "outside"
           }
          },
          "title": {
           "x": 0.05
          },
          "xaxis": {
           "automargin": true,
           "gridcolor": "rgb(232,232,232)",
           "linecolor": "rgb(36,36,36)",
           "showgrid": false,
           "showline": true,
           "ticks": "outside",
           "title": {
            "standoff": 15
           },
           "zeroline": false,
           "zerolinecolor": "rgb(36,36,36)"
          },
          "yaxis": {
           "automargin": true,
           "gridcolor": "rgb(232,232,232)",
           "linecolor": "rgb(36,36,36)",
           "showgrid": false,
           "showline": true,
           "ticks": "outside",
           "title": {
            "standoff": 15
           },
           "zeroline": false,
           "zerolinecolor": "rgb(36,36,36)"
          }
         }
        },
        "title": {
         "text": "🎯 Who received the most tickets? Mind you....As a TAM"
        },
        "xaxis": {
         "anchor": "y",
         "categoryorder": "total descending",
         "domain": [
          0,
          1
         ],
         "title": {
          "text": "TAM"
         }
        },
        "yaxis": {
         "anchor": "x",
         "domain": [
          0,
          1
         ],
         "title": {
          "text": "Tickets"
         }
        }
       }
      }
     },
     "metadata": {},
     "output_type": "display_data"
    }
   ],
   "source": [
    "# Who received the most tickets? (by TAM)\n",
    "import plotly.express as px\n",
    "\n",
    "tam_col = \"TAM\"  # column name from your CSV\n",
    "\n",
    "tam_recv_df = (\n",
    "    df\n",
    "    # clean up the TAM column\n",
    "    .assign(**{tam_col: df[tam_col].astype(\"string\").str.strip().str.replace(r\"\\s+\", \" \", regex=True)})\n",
    "    # drop blanks / NaNs / \"not found\"\n",
    "    .loc[lambda d: d[tam_col].notna()\n",
    "                  & (d[tam_col] != \"\")\n",
    "                  & (~d[tam_col].str.lower().isin([\"not found\", \"nan\", \"none\"])) ]\n",
    "    # aggregate\n",
    "    .groupby(tam_col, as_index=False)\n",
    "    .size()\n",
    "    .rename(columns={\"size\": \"tickets_received\"})\n",
    "    .sort_values(\"tickets_received\", ascending=False)\n",
    ")\n",
    "\n",
    "fig = px.bar(\n",
    "    tam_recv_df,\n",
    "    x=tam_col, y=\"tickets_received\", color=\"tickets_received\",\n",
    "    title=\"🎯 Who received the most tickets? Mind you....As a TAM\",\n",
    "    labels={\"tickets_received\": \"Tickets\", tam_col: \"TAM\"},\n",
    "    template=\"simple_white\"\n",
    ")\n",
    "fig.update_layout(showlegend=False)\n",
    "fig.update_xaxes(categoryorder=\"total descending\")\n",
    "fig.show()\n",
    "\n"
   ]
  },
  {
   "cell_type": "code",
   "execution_count": 16,
   "metadata": {},
   "outputs": [
    {
     "data": {
      "application/vnd.plotly.v1+json": {
       "config": {
        "plotlyServerURL": "https://plot.ly"
       },
       "data": [
        {
         "alignmentgroup": "True",
         "hovertemplate": "Closer=%{x}<br>Tickets=%{marker.color}<extra></extra>",
         "legendgroup": "",
         "marker": {
          "color": [
           29,
           28,
           26,
           18,
           17,
           16,
           12,
           8,
           7,
           6,
           5,
           3,
           2,
           2,
           2,
           1,
           1,
           1
          ],
          "coloraxis": "coloraxis",
          "pattern": {
           "shape": ""
          }
         },
         "name": "",
         "offsetgroup": "",
         "orientation": "v",
         "showlegend": false,
         "textposition": "auto",
         "type": "bar",
         "x": [
          "Gui",
          "Theo",
          "Annet",
          "Mael",
          "Arslan",
          "Nelly",
          "Zarmeen",
          "Tristan",
          "Alvaro I",
          "Razvan",
          "Christian Winter",
          "Connie",
          "Juani",
          "Marina",
          "Rohit",
          "Helena",
          "Gabi",
          "Sergiu"
         ],
         "xaxis": "x",
         "y": [
          29,
          28,
          26,
          18,
          17,
          16,
          12,
          8,
          7,
          6,
          5,
          3,
          2,
          2,
          2,
          1,
          1,
          1
         ],
         "yaxis": "y"
        }
       ],
       "layout": {
        "barmode": "relative",
        "coloraxis": {
         "colorbar": {
          "title": {
           "text": "Tickets"
          }
         },
         "colorscale": [
          [
           0,
           "#440154"
          ],
          [
           0.1111111111111111,
           "#482878"
          ],
          [
           0.2222222222222222,
           "#3e4989"
          ],
          [
           0.3333333333333333,
           "#31688e"
          ],
          [
           0.4444444444444444,
           "#26828e"
          ],
          [
           0.5555555555555556,
           "#1f9e89"
          ],
          [
           0.6666666666666666,
           "#35b779"
          ],
          [
           0.7777777777777778,
           "#6ece58"
          ],
          [
           0.8888888888888888,
           "#b5de2b"
          ],
          [
           1,
           "#fde725"
          ]
         ]
        },
        "legend": {
         "tracegroupgap": 0
        },
        "showlegend": false,
        "template": {
         "data": {
          "bar": [
           {
            "error_x": {
             "color": "rgb(36,36,36)"
            },
            "error_y": {
             "color": "rgb(36,36,36)"
            },
            "marker": {
             "line": {
              "color": "white",
              "width": 0.5
             },
             "pattern": {
              "fillmode": "overlay",
              "size": 10,
              "solidity": 0.2
             }
            },
            "type": "bar"
           }
          ],
          "barpolar": [
           {
            "marker": {
             "line": {
              "color": "white",
              "width": 0.5
             },
             "pattern": {
              "fillmode": "overlay",
              "size": 10,
              "solidity": 0.2
             }
            },
            "type": "barpolar"
           }
          ],
          "carpet": [
           {
            "aaxis": {
             "endlinecolor": "rgb(36,36,36)",
             "gridcolor": "white",
             "linecolor": "white",
             "minorgridcolor": "white",
             "startlinecolor": "rgb(36,36,36)"
            },
            "baxis": {
             "endlinecolor": "rgb(36,36,36)",
             "gridcolor": "white",
             "linecolor": "white",
             "minorgridcolor": "white",
             "startlinecolor": "rgb(36,36,36)"
            },
            "type": "carpet"
           }
          ],
          "choropleth": [
           {
            "colorbar": {
             "outlinewidth": 1,
             "tickcolor": "rgb(36,36,36)",
             "ticks": "outside"
            },
            "type": "choropleth"
           }
          ],
          "contour": [
           {
            "colorbar": {
             "outlinewidth": 1,
             "tickcolor": "rgb(36,36,36)",
             "ticks": "outside"
            },
            "colorscale": [
             [
              0,
              "#440154"
             ],
             [
              0.1111111111111111,
              "#482878"
             ],
             [
              0.2222222222222222,
              "#3e4989"
             ],
             [
              0.3333333333333333,
              "#31688e"
             ],
             [
              0.4444444444444444,
              "#26828e"
             ],
             [
              0.5555555555555556,
              "#1f9e89"
             ],
             [
              0.6666666666666666,
              "#35b779"
             ],
             [
              0.7777777777777778,
              "#6ece58"
             ],
             [
              0.8888888888888888,
              "#b5de2b"
             ],
             [
              1,
              "#fde725"
             ]
            ],
            "type": "contour"
           }
          ],
          "contourcarpet": [
           {
            "colorbar": {
             "outlinewidth": 1,
             "tickcolor": "rgb(36,36,36)",
             "ticks": "outside"
            },
            "type": "contourcarpet"
           }
          ],
          "heatmap": [
           {
            "colorbar": {
             "outlinewidth": 1,
             "tickcolor": "rgb(36,36,36)",
             "ticks": "outside"
            },
            "colorscale": [
             [
              0,
              "#440154"
             ],
             [
              0.1111111111111111,
              "#482878"
             ],
             [
              0.2222222222222222,
              "#3e4989"
             ],
             [
              0.3333333333333333,
              "#31688e"
             ],
             [
              0.4444444444444444,
              "#26828e"
             ],
             [
              0.5555555555555556,
              "#1f9e89"
             ],
             [
              0.6666666666666666,
              "#35b779"
             ],
             [
              0.7777777777777778,
              "#6ece58"
             ],
             [
              0.8888888888888888,
              "#b5de2b"
             ],
             [
              1,
              "#fde725"
             ]
            ],
            "type": "heatmap"
           }
          ],
          "heatmapgl": [
           {
            "colorbar": {
             "outlinewidth": 1,
             "tickcolor": "rgb(36,36,36)",
             "ticks": "outside"
            },
            "colorscale": [
             [
              0,
              "#440154"
             ],
             [
              0.1111111111111111,
              "#482878"
             ],
             [
              0.2222222222222222,
              "#3e4989"
             ],
             [
              0.3333333333333333,
              "#31688e"
             ],
             [
              0.4444444444444444,
              "#26828e"
             ],
             [
              0.5555555555555556,
              "#1f9e89"
             ],
             [
              0.6666666666666666,
              "#35b779"
             ],
             [
              0.7777777777777778,
              "#6ece58"
             ],
             [
              0.8888888888888888,
              "#b5de2b"
             ],
             [
              1,
              "#fde725"
             ]
            ],
            "type": "heatmapgl"
           }
          ],
          "histogram": [
           {
            "marker": {
             "line": {
              "color": "white",
              "width": 0.6
             }
            },
            "type": "histogram"
           }
          ],
          "histogram2d": [
           {
            "colorbar": {
             "outlinewidth": 1,
             "tickcolor": "rgb(36,36,36)",
             "ticks": "outside"
            },
            "colorscale": [
             [
              0,
              "#440154"
             ],
             [
              0.1111111111111111,
              "#482878"
             ],
             [
              0.2222222222222222,
              "#3e4989"
             ],
             [
              0.3333333333333333,
              "#31688e"
             ],
             [
              0.4444444444444444,
              "#26828e"
             ],
             [
              0.5555555555555556,
              "#1f9e89"
             ],
             [
              0.6666666666666666,
              "#35b779"
             ],
             [
              0.7777777777777778,
              "#6ece58"
             ],
             [
              0.8888888888888888,
              "#b5de2b"
             ],
             [
              1,
              "#fde725"
             ]
            ],
            "type": "histogram2d"
           }
          ],
          "histogram2dcontour": [
           {
            "colorbar": {
             "outlinewidth": 1,
             "tickcolor": "rgb(36,36,36)",
             "ticks": "outside"
            },
            "colorscale": [
             [
              0,
              "#440154"
             ],
             [
              0.1111111111111111,
              "#482878"
             ],
             [
              0.2222222222222222,
              "#3e4989"
             ],
             [
              0.3333333333333333,
              "#31688e"
             ],
             [
              0.4444444444444444,
              "#26828e"
             ],
             [
              0.5555555555555556,
              "#1f9e89"
             ],
             [
              0.6666666666666666,
              "#35b779"
             ],
             [
              0.7777777777777778,
              "#6ece58"
             ],
             [
              0.8888888888888888,
              "#b5de2b"
             ],
             [
              1,
              "#fde725"
             ]
            ],
            "type": "histogram2dcontour"
           }
          ],
          "mesh3d": [
           {
            "colorbar": {
             "outlinewidth": 1,
             "tickcolor": "rgb(36,36,36)",
             "ticks": "outside"
            },
            "type": "mesh3d"
           }
          ],
          "parcoords": [
           {
            "line": {
             "colorbar": {
              "outlinewidth": 1,
              "tickcolor": "rgb(36,36,36)",
              "ticks": "outside"
             }
            },
            "type": "parcoords"
           }
          ],
          "pie": [
           {
            "automargin": true,
            "type": "pie"
           }
          ],
          "scatter": [
           {
            "fillpattern": {
             "fillmode": "overlay",
             "size": 10,
             "solidity": 0.2
            },
            "type": "scatter"
           }
          ],
          "scatter3d": [
           {
            "line": {
             "colorbar": {
              "outlinewidth": 1,
              "tickcolor": "rgb(36,36,36)",
              "ticks": "outside"
             }
            },
            "marker": {
             "colorbar": {
              "outlinewidth": 1,
              "tickcolor": "rgb(36,36,36)",
              "ticks": "outside"
             }
            },
            "type": "scatter3d"
           }
          ],
          "scattercarpet": [
           {
            "marker": {
             "colorbar": {
              "outlinewidth": 1,
              "tickcolor": "rgb(36,36,36)",
              "ticks": "outside"
             }
            },
            "type": "scattercarpet"
           }
          ],
          "scattergeo": [
           {
            "marker": {
             "colorbar": {
              "outlinewidth": 1,
              "tickcolor": "rgb(36,36,36)",
              "ticks": "outside"
             }
            },
            "type": "scattergeo"
           }
          ],
          "scattergl": [
           {
            "marker": {
             "colorbar": {
              "outlinewidth": 1,
              "tickcolor": "rgb(36,36,36)",
              "ticks": "outside"
             }
            },
            "type": "scattergl"
           }
          ],
          "scattermapbox": [
           {
            "marker": {
             "colorbar": {
              "outlinewidth": 1,
              "tickcolor": "rgb(36,36,36)",
              "ticks": "outside"
             }
            },
            "type": "scattermapbox"
           }
          ],
          "scatterpolar": [
           {
            "marker": {
             "colorbar": {
              "outlinewidth": 1,
              "tickcolor": "rgb(36,36,36)",
              "ticks": "outside"
             }
            },
            "type": "scatterpolar"
           }
          ],
          "scatterpolargl": [
           {
            "marker": {
             "colorbar": {
              "outlinewidth": 1,
              "tickcolor": "rgb(36,36,36)",
              "ticks": "outside"
             }
            },
            "type": "scatterpolargl"
           }
          ],
          "scatterternary": [
           {
            "marker": {
             "colorbar": {
              "outlinewidth": 1,
              "tickcolor": "rgb(36,36,36)",
              "ticks": "outside"
             }
            },
            "type": "scatterternary"
           }
          ],
          "surface": [
           {
            "colorbar": {
             "outlinewidth": 1,
             "tickcolor": "rgb(36,36,36)",
             "ticks": "outside"
            },
            "colorscale": [
             [
              0,
              "#440154"
             ],
             [
              0.1111111111111111,
              "#482878"
             ],
             [
              0.2222222222222222,
              "#3e4989"
             ],
             [
              0.3333333333333333,
              "#31688e"
             ],
             [
              0.4444444444444444,
              "#26828e"
             ],
             [
              0.5555555555555556,
              "#1f9e89"
             ],
             [
              0.6666666666666666,
              "#35b779"
             ],
             [
              0.7777777777777778,
              "#6ece58"
             ],
             [
              0.8888888888888888,
              "#b5de2b"
             ],
             [
              1,
              "#fde725"
             ]
            ],
            "type": "surface"
           }
          ],
          "table": [
           {
            "cells": {
             "fill": {
              "color": "rgb(237,237,237)"
             },
             "line": {
              "color": "white"
             }
            },
            "header": {
             "fill": {
              "color": "rgb(217,217,217)"
             },
             "line": {
              "color": "white"
             }
            },
            "type": "table"
           }
          ]
         },
         "layout": {
          "annotationdefaults": {
           "arrowhead": 0,
           "arrowwidth": 1
          },
          "autotypenumbers": "strict",
          "coloraxis": {
           "colorbar": {
            "outlinewidth": 1,
            "tickcolor": "rgb(36,36,36)",
            "ticks": "outside"
           }
          },
          "colorscale": {
           "diverging": [
            [
             0,
             "rgb(103,0,31)"
            ],
            [
             0.1,
             "rgb(178,24,43)"
            ],
            [
             0.2,
             "rgb(214,96,77)"
            ],
            [
             0.3,
             "rgb(244,165,130)"
            ],
            [
             0.4,
             "rgb(253,219,199)"
            ],
            [
             0.5,
             "rgb(247,247,247)"
            ],
            [
             0.6,
             "rgb(209,229,240)"
            ],
            [
             0.7,
             "rgb(146,197,222)"
            ],
            [
             0.8,
             "rgb(67,147,195)"
            ],
            [
             0.9,
             "rgb(33,102,172)"
            ],
            [
             1,
             "rgb(5,48,97)"
            ]
           ],
           "sequential": [
            [
             0,
             "#440154"
            ],
            [
             0.1111111111111111,
             "#482878"
            ],
            [
             0.2222222222222222,
             "#3e4989"
            ],
            [
             0.3333333333333333,
             "#31688e"
            ],
            [
             0.4444444444444444,
             "#26828e"
            ],
            [
             0.5555555555555556,
             "#1f9e89"
            ],
            [
             0.6666666666666666,
             "#35b779"
            ],
            [
             0.7777777777777778,
             "#6ece58"
            ],
            [
             0.8888888888888888,
             "#b5de2b"
            ],
            [
             1,
             "#fde725"
            ]
           ],
           "sequentialminus": [
            [
             0,
             "#440154"
            ],
            [
             0.1111111111111111,
             "#482878"
            ],
            [
             0.2222222222222222,
             "#3e4989"
            ],
            [
             0.3333333333333333,
             "#31688e"
            ],
            [
             0.4444444444444444,
             "#26828e"
            ],
            [
             0.5555555555555556,
             "#1f9e89"
            ],
            [
             0.6666666666666666,
             "#35b779"
            ],
            [
             0.7777777777777778,
             "#6ece58"
            ],
            [
             0.8888888888888888,
             "#b5de2b"
            ],
            [
             1,
             "#fde725"
            ]
           ]
          },
          "colorway": [
           "#1F77B4",
           "#FF7F0E",
           "#2CA02C",
           "#D62728",
           "#9467BD",
           "#8C564B",
           "#E377C2",
           "#7F7F7F",
           "#BCBD22",
           "#17BECF"
          ],
          "font": {
           "color": "rgb(36,36,36)"
          },
          "geo": {
           "bgcolor": "white",
           "lakecolor": "white",
           "landcolor": "white",
           "showlakes": true,
           "showland": true,
           "subunitcolor": "white"
          },
          "hoverlabel": {
           "align": "left"
          },
          "hovermode": "closest",
          "mapbox": {
           "style": "light"
          },
          "paper_bgcolor": "white",
          "plot_bgcolor": "white",
          "polar": {
           "angularaxis": {
            "gridcolor": "rgb(232,232,232)",
            "linecolor": "rgb(36,36,36)",
            "showgrid": false,
            "showline": true,
            "ticks": "outside"
           },
           "bgcolor": "white",
           "radialaxis": {
            "gridcolor": "rgb(232,232,232)",
            "linecolor": "rgb(36,36,36)",
            "showgrid": false,
            "showline": true,
            "ticks": "outside"
           }
          },
          "scene": {
           "xaxis": {
            "backgroundcolor": "white",
            "gridcolor": "rgb(232,232,232)",
            "gridwidth": 2,
            "linecolor": "rgb(36,36,36)",
            "showbackground": true,
            "showgrid": false,
            "showline": true,
            "ticks": "outside",
            "zeroline": false,
            "zerolinecolor": "rgb(36,36,36)"
           },
           "yaxis": {
            "backgroundcolor": "white",
            "gridcolor": "rgb(232,232,232)",
            "gridwidth": 2,
            "linecolor": "rgb(36,36,36)",
            "showbackground": true,
            "showgrid": false,
            "showline": true,
            "ticks": "outside",
            "zeroline": false,
            "zerolinecolor": "rgb(36,36,36)"
           },
           "zaxis": {
            "backgroundcolor": "white",
            "gridcolor": "rgb(232,232,232)",
            "gridwidth": 2,
            "linecolor": "rgb(36,36,36)",
            "showbackground": true,
            "showgrid": false,
            "showline": true,
            "ticks": "outside",
            "zeroline": false,
            "zerolinecolor": "rgb(36,36,36)"
           }
          },
          "shapedefaults": {
           "fillcolor": "black",
           "line": {
            "width": 0
           },
           "opacity": 0.3
          },
          "ternary": {
           "aaxis": {
            "gridcolor": "rgb(232,232,232)",
            "linecolor": "rgb(36,36,36)",
            "showgrid": false,
            "showline": true,
            "ticks": "outside"
           },
           "baxis": {
            "gridcolor": "rgb(232,232,232)",
            "linecolor": "rgb(36,36,36)",
            "showgrid": false,
            "showline": true,
            "ticks": "outside"
           },
           "bgcolor": "white",
           "caxis": {
            "gridcolor": "rgb(232,232,232)",
            "linecolor": "rgb(36,36,36)",
            "showgrid": false,
            "showline": true,
            "ticks": "outside"
           }
          },
          "title": {
           "x": 0.05
          },
          "xaxis": {
           "automargin": true,
           "gridcolor": "rgb(232,232,232)",
           "linecolor": "rgb(36,36,36)",
           "showgrid": false,
           "showline": true,
           "ticks": "outside",
           "title": {
            "standoff": 15
           },
           "zeroline": false,
           "zerolinecolor": "rgb(36,36,36)"
          },
          "yaxis": {
           "automargin": true,
           "gridcolor": "rgb(232,232,232)",
           "linecolor": "rgb(36,36,36)",
           "showgrid": false,
           "showline": true,
           "ticks": "outside",
           "title": {
            "standoff": 15
           },
           "zeroline": false,
           "zerolinecolor": "rgb(36,36,36)"
          }
         }
        },
        "title": {
         "text": "🔥 Which Closer closed the most tickets? (excluding pending)"
        },
        "xaxis": {
         "anchor": "y",
         "categoryorder": "total descending",
         "domain": [
          0,
          1
         ],
         "title": {
          "text": "Closer"
         }
        },
        "yaxis": {
         "anchor": "x",
         "domain": [
          0,
          1
         ],
         "title": {
          "text": "Tickets"
         }
        }
       }
      }
     },
     "metadata": {},
     "output_type": "display_data"
    }
   ],
   "source": [
    "# 🔥 Which Closer closed the most tickets?  (excluding Status == \"pending\")\n",
    "import plotly.express as px\n",
    "\n",
    "closer_col = \"Closer\"\n",
    "status_col = \"Status\"\n",
    "\n",
    "# optional global excludes you may have defined earlier\n",
    "EXCLUDE_CLOSERS = set([s.casefold() for s in globals().get(\"EXCLUDE_CLOSERS\", [])])\n",
    "\n",
    "src = df.copy()\n",
    "# normalize status and drop pending rows\n",
    "src[status_col] = src[status_col].astype(\"string\").str.strip().str.lower()\n",
    "src = src.loc[~src[status_col].eq(\"pending\")]\n",
    "\n",
    "closer_closed_df = (\n",
    "    src\n",
    "    .assign(**{closer_col: src[closer_col].astype(\"string\").str.strip().str.replace(r\"\\s+\", \" \", regex=True)})\n",
    "    .loc[lambda d:\n",
    "         d[closer_col].notna()\n",
    "         & (d[closer_col] != \"\")\n",
    "         & (~d[closer_col].str.casefold().isin({\"not found\",\"nan\",\"none\"}))\n",
    "         & (~d[closer_col].str.casefold().isin(EXCLUDE_CLOSERS))\n",
    "    ]\n",
    "    .groupby(closer_col, as_index=False)\n",
    "    .size()\n",
    "    .rename(columns={\"size\": \"tickets_closed\"})\n",
    "    .sort_values(\"tickets_closed\", ascending=False)\n",
    ")\n",
    "\n",
    "fig = px.bar(\n",
    "    closer_closed_df,\n",
    "    x=closer_col, y=\"tickets_closed\", color=\"tickets_closed\",\n",
    "    title=\"🔥 Which Closer closed the most tickets? (excluding pending)\",\n",
    "    labels={\"tickets_closed\": \"Tickets\", closer_col: \"Closer\"},\n",
    "    template=\"simple_white\"\n",
    ")\n",
    "fig.update_layout(showlegend=False)\n",
    "fig.update_xaxes(categoryorder=\"total descending\")\n",
    "fig.show()\n",
    "\n"
   ]
  },
  {
   "cell_type": "code",
   "execution_count": 17,
   "metadata": {},
   "outputs": [
    {
     "data": {
      "application/vnd.plotly.v1+json": {
       "config": {
        "plotlyServerURL": "https://plot.ly"
       },
       "data": [
        {
         "alignmentgroup": "True",
         "hovertemplate": "Closer=%{x}<br>Avg hours=%{marker.color}<extra></extra>",
         "legendgroup": "",
         "marker": {
          "color": [
           1.15074652775,
           2.1169444445,
           2.150277778,
           3.3012499999999996,
           3.365343137411765,
           4.931296297,
           6.85614583275,
           7.585254629583333,
           8.321388889,
           9.225714286285713,
           12.460296935137931,
           13.866682099166667,
           17.01048076773077,
           19.021894840892855,
           36.58972222,
           37.017638887,
           44.9748888866,
           107.3905556
          ],
          "coloraxis": "coloraxis",
          "pattern": {
           "shape": ""
          }
         },
         "name": "",
         "offsetgroup": "",
         "orientation": "v",
         "showlegend": false,
         "textposition": "auto",
         "type": "bar",
         "x": [
          "Nelly",
          "Razvan",
          "Gabi",
          "Juani",
          "Arslan",
          "Connie",
          "Tristan",
          "Zarmeen",
          "Marina",
          "Alvaro I",
          "Gui",
          "Mael",
          "Annet",
          "Theo",
          "Helena",
          "Rohit",
          "Christian Winter",
          "Sergiu"
         ],
         "xaxis": "x",
         "y": [
          1.15074652775,
          2.1169444445,
          2.150277778,
          3.3012499999999996,
          3.365343137411765,
          4.931296297,
          6.85614583275,
          7.585254629583333,
          8.321388889,
          9.225714286285713,
          12.460296935137931,
          13.866682099166667,
          17.01048076773077,
          19.021894840892855,
          36.58972222,
          37.017638887,
          44.9748888866,
          107.3905556
         ],
         "yaxis": "y"
        }
       ],
       "layout": {
        "barmode": "relative",
        "coloraxis": {
         "colorbar": {
          "title": {
           "text": "Avg hours"
          }
         },
         "colorscale": [
          [
           0,
           "#440154"
          ],
          [
           0.1111111111111111,
           "#482878"
          ],
          [
           0.2222222222222222,
           "#3e4989"
          ],
          [
           0.3333333333333333,
           "#31688e"
          ],
          [
           0.4444444444444444,
           "#26828e"
          ],
          [
           0.5555555555555556,
           "#1f9e89"
          ],
          [
           0.6666666666666666,
           "#35b779"
          ],
          [
           0.7777777777777778,
           "#6ece58"
          ],
          [
           0.8888888888888888,
           "#b5de2b"
          ],
          [
           1,
           "#fde725"
          ]
         ]
        },
        "legend": {
         "tracegroupgap": 0
        },
        "showlegend": false,
        "template": {
         "data": {
          "bar": [
           {
            "error_x": {
             "color": "rgb(36,36,36)"
            },
            "error_y": {
             "color": "rgb(36,36,36)"
            },
            "marker": {
             "line": {
              "color": "white",
              "width": 0.5
             },
             "pattern": {
              "fillmode": "overlay",
              "size": 10,
              "solidity": 0.2
             }
            },
            "type": "bar"
           }
          ],
          "barpolar": [
           {
            "marker": {
             "line": {
              "color": "white",
              "width": 0.5
             },
             "pattern": {
              "fillmode": "overlay",
              "size": 10,
              "solidity": 0.2
             }
            },
            "type": "barpolar"
           }
          ],
          "carpet": [
           {
            "aaxis": {
             "endlinecolor": "rgb(36,36,36)",
             "gridcolor": "white",
             "linecolor": "white",
             "minorgridcolor": "white",
             "startlinecolor": "rgb(36,36,36)"
            },
            "baxis": {
             "endlinecolor": "rgb(36,36,36)",
             "gridcolor": "white",
             "linecolor": "white",
             "minorgridcolor": "white",
             "startlinecolor": "rgb(36,36,36)"
            },
            "type": "carpet"
           }
          ],
          "choropleth": [
           {
            "colorbar": {
             "outlinewidth": 1,
             "tickcolor": "rgb(36,36,36)",
             "ticks": "outside"
            },
            "type": "choropleth"
           }
          ],
          "contour": [
           {
            "colorbar": {
             "outlinewidth": 1,
             "tickcolor": "rgb(36,36,36)",
             "ticks": "outside"
            },
            "colorscale": [
             [
              0,
              "#440154"
             ],
             [
              0.1111111111111111,
              "#482878"
             ],
             [
              0.2222222222222222,
              "#3e4989"
             ],
             [
              0.3333333333333333,
              "#31688e"
             ],
             [
              0.4444444444444444,
              "#26828e"
             ],
             [
              0.5555555555555556,
              "#1f9e89"
             ],
             [
              0.6666666666666666,
              "#35b779"
             ],
             [
              0.7777777777777778,
              "#6ece58"
             ],
             [
              0.8888888888888888,
              "#b5de2b"
             ],
             [
              1,
              "#fde725"
             ]
            ],
            "type": "contour"
           }
          ],
          "contourcarpet": [
           {
            "colorbar": {
             "outlinewidth": 1,
             "tickcolor": "rgb(36,36,36)",
             "ticks": "outside"
            },
            "type": "contourcarpet"
           }
          ],
          "heatmap": [
           {
            "colorbar": {
             "outlinewidth": 1,
             "tickcolor": "rgb(36,36,36)",
             "ticks": "outside"
            },
            "colorscale": [
             [
              0,
              "#440154"
             ],
             [
              0.1111111111111111,
              "#482878"
             ],
             [
              0.2222222222222222,
              "#3e4989"
             ],
             [
              0.3333333333333333,
              "#31688e"
             ],
             [
              0.4444444444444444,
              "#26828e"
             ],
             [
              0.5555555555555556,
              "#1f9e89"
             ],
             [
              0.6666666666666666,
              "#35b779"
             ],
             [
              0.7777777777777778,
              "#6ece58"
             ],
             [
              0.8888888888888888,
              "#b5de2b"
             ],
             [
              1,
              "#fde725"
             ]
            ],
            "type": "heatmap"
           }
          ],
          "heatmapgl": [
           {
            "colorbar": {
             "outlinewidth": 1,
             "tickcolor": "rgb(36,36,36)",
             "ticks": "outside"
            },
            "colorscale": [
             [
              0,
              "#440154"
             ],
             [
              0.1111111111111111,
              "#482878"
             ],
             [
              0.2222222222222222,
              "#3e4989"
             ],
             [
              0.3333333333333333,
              "#31688e"
             ],
             [
              0.4444444444444444,
              "#26828e"
             ],
             [
              0.5555555555555556,
              "#1f9e89"
             ],
             [
              0.6666666666666666,
              "#35b779"
             ],
             [
              0.7777777777777778,
              "#6ece58"
             ],
             [
              0.8888888888888888,
              "#b5de2b"
             ],
             [
              1,
              "#fde725"
             ]
            ],
            "type": "heatmapgl"
           }
          ],
          "histogram": [
           {
            "marker": {
             "line": {
              "color": "white",
              "width": 0.6
             }
            },
            "type": "histogram"
           }
          ],
          "histogram2d": [
           {
            "colorbar": {
             "outlinewidth": 1,
             "tickcolor": "rgb(36,36,36)",
             "ticks": "outside"
            },
            "colorscale": [
             [
              0,
              "#440154"
             ],
             [
              0.1111111111111111,
              "#482878"
             ],
             [
              0.2222222222222222,
              "#3e4989"
             ],
             [
              0.3333333333333333,
              "#31688e"
             ],
             [
              0.4444444444444444,
              "#26828e"
             ],
             [
              0.5555555555555556,
              "#1f9e89"
             ],
             [
              0.6666666666666666,
              "#35b779"
             ],
             [
              0.7777777777777778,
              "#6ece58"
             ],
             [
              0.8888888888888888,
              "#b5de2b"
             ],
             [
              1,
              "#fde725"
             ]
            ],
            "type": "histogram2d"
           }
          ],
          "histogram2dcontour": [
           {
            "colorbar": {
             "outlinewidth": 1,
             "tickcolor": "rgb(36,36,36)",
             "ticks": "outside"
            },
            "colorscale": [
             [
              0,
              "#440154"
             ],
             [
              0.1111111111111111,
              "#482878"
             ],
             [
              0.2222222222222222,
              "#3e4989"
             ],
             [
              0.3333333333333333,
              "#31688e"
             ],
             [
              0.4444444444444444,
              "#26828e"
             ],
             [
              0.5555555555555556,
              "#1f9e89"
             ],
             [
              0.6666666666666666,
              "#35b779"
             ],
             [
              0.7777777777777778,
              "#6ece58"
             ],
             [
              0.8888888888888888,
              "#b5de2b"
             ],
             [
              1,
              "#fde725"
             ]
            ],
            "type": "histogram2dcontour"
           }
          ],
          "mesh3d": [
           {
            "colorbar": {
             "outlinewidth": 1,
             "tickcolor": "rgb(36,36,36)",
             "ticks": "outside"
            },
            "type": "mesh3d"
           }
          ],
          "parcoords": [
           {
            "line": {
             "colorbar": {
              "outlinewidth": 1,
              "tickcolor": "rgb(36,36,36)",
              "ticks": "outside"
             }
            },
            "type": "parcoords"
           }
          ],
          "pie": [
           {
            "automargin": true,
            "type": "pie"
           }
          ],
          "scatter": [
           {
            "fillpattern": {
             "fillmode": "overlay",
             "size": 10,
             "solidity": 0.2
            },
            "type": "scatter"
           }
          ],
          "scatter3d": [
           {
            "line": {
             "colorbar": {
              "outlinewidth": 1,
              "tickcolor": "rgb(36,36,36)",
              "ticks": "outside"
             }
            },
            "marker": {
             "colorbar": {
              "outlinewidth": 1,
              "tickcolor": "rgb(36,36,36)",
              "ticks": "outside"
             }
            },
            "type": "scatter3d"
           }
          ],
          "scattercarpet": [
           {
            "marker": {
             "colorbar": {
              "outlinewidth": 1,
              "tickcolor": "rgb(36,36,36)",
              "ticks": "outside"
             }
            },
            "type": "scattercarpet"
           }
          ],
          "scattergeo": [
           {
            "marker": {
             "colorbar": {
              "outlinewidth": 1,
              "tickcolor": "rgb(36,36,36)",
              "ticks": "outside"
             }
            },
            "type": "scattergeo"
           }
          ],
          "scattergl": [
           {
            "marker": {
             "colorbar": {
              "outlinewidth": 1,
              "tickcolor": "rgb(36,36,36)",
              "ticks": "outside"
             }
            },
            "type": "scattergl"
           }
          ],
          "scattermapbox": [
           {
            "marker": {
             "colorbar": {
              "outlinewidth": 1,
              "tickcolor": "rgb(36,36,36)",
              "ticks": "outside"
             }
            },
            "type": "scattermapbox"
           }
          ],
          "scatterpolar": [
           {
            "marker": {
             "colorbar": {
              "outlinewidth": 1,
              "tickcolor": "rgb(36,36,36)",
              "ticks": "outside"
             }
            },
            "type": "scatterpolar"
           }
          ],
          "scatterpolargl": [
           {
            "marker": {
             "colorbar": {
              "outlinewidth": 1,
              "tickcolor": "rgb(36,36,36)",
              "ticks": "outside"
             }
            },
            "type": "scatterpolargl"
           }
          ],
          "scatterternary": [
           {
            "marker": {
             "colorbar": {
              "outlinewidth": 1,
              "tickcolor": "rgb(36,36,36)",
              "ticks": "outside"
             }
            },
            "type": "scatterternary"
           }
          ],
          "surface": [
           {
            "colorbar": {
             "outlinewidth": 1,
             "tickcolor": "rgb(36,36,36)",
             "ticks": "outside"
            },
            "colorscale": [
             [
              0,
              "#440154"
             ],
             [
              0.1111111111111111,
              "#482878"
             ],
             [
              0.2222222222222222,
              "#3e4989"
             ],
             [
              0.3333333333333333,
              "#31688e"
             ],
             [
              0.4444444444444444,
              "#26828e"
             ],
             [
              0.5555555555555556,
              "#1f9e89"
             ],
             [
              0.6666666666666666,
              "#35b779"
             ],
             [
              0.7777777777777778,
              "#6ece58"
             ],
             [
              0.8888888888888888,
              "#b5de2b"
             ],
             [
              1,
              "#fde725"
             ]
            ],
            "type": "surface"
           }
          ],
          "table": [
           {
            "cells": {
             "fill": {
              "color": "rgb(237,237,237)"
             },
             "line": {
              "color": "white"
             }
            },
            "header": {
             "fill": {
              "color": "rgb(217,217,217)"
             },
             "line": {
              "color": "white"
             }
            },
            "type": "table"
           }
          ]
         },
         "layout": {
          "annotationdefaults": {
           "arrowhead": 0,
           "arrowwidth": 1
          },
          "autotypenumbers": "strict",
          "coloraxis": {
           "colorbar": {
            "outlinewidth": 1,
            "tickcolor": "rgb(36,36,36)",
            "ticks": "outside"
           }
          },
          "colorscale": {
           "diverging": [
            [
             0,
             "rgb(103,0,31)"
            ],
            [
             0.1,
             "rgb(178,24,43)"
            ],
            [
             0.2,
             "rgb(214,96,77)"
            ],
            [
             0.3,
             "rgb(244,165,130)"
            ],
            [
             0.4,
             "rgb(253,219,199)"
            ],
            [
             0.5,
             "rgb(247,247,247)"
            ],
            [
             0.6,
             "rgb(209,229,240)"
            ],
            [
             0.7,
             "rgb(146,197,222)"
            ],
            [
             0.8,
             "rgb(67,147,195)"
            ],
            [
             0.9,
             "rgb(33,102,172)"
            ],
            [
             1,
             "rgb(5,48,97)"
            ]
           ],
           "sequential": [
            [
             0,
             "#440154"
            ],
            [
             0.1111111111111111,
             "#482878"
            ],
            [
             0.2222222222222222,
             "#3e4989"
            ],
            [
             0.3333333333333333,
             "#31688e"
            ],
            [
             0.4444444444444444,
             "#26828e"
            ],
            [
             0.5555555555555556,
             "#1f9e89"
            ],
            [
             0.6666666666666666,
             "#35b779"
            ],
            [
             0.7777777777777778,
             "#6ece58"
            ],
            [
             0.8888888888888888,
             "#b5de2b"
            ],
            [
             1,
             "#fde725"
            ]
           ],
           "sequentialminus": [
            [
             0,
             "#440154"
            ],
            [
             0.1111111111111111,
             "#482878"
            ],
            [
             0.2222222222222222,
             "#3e4989"
            ],
            [
             0.3333333333333333,
             "#31688e"
            ],
            [
             0.4444444444444444,
             "#26828e"
            ],
            [
             0.5555555555555556,
             "#1f9e89"
            ],
            [
             0.6666666666666666,
             "#35b779"
            ],
            [
             0.7777777777777778,
             "#6ece58"
            ],
            [
             0.8888888888888888,
             "#b5de2b"
            ],
            [
             1,
             "#fde725"
            ]
           ]
          },
          "colorway": [
           "#1F77B4",
           "#FF7F0E",
           "#2CA02C",
           "#D62728",
           "#9467BD",
           "#8C564B",
           "#E377C2",
           "#7F7F7F",
           "#BCBD22",
           "#17BECF"
          ],
          "font": {
           "color": "rgb(36,36,36)"
          },
          "geo": {
           "bgcolor": "white",
           "lakecolor": "white",
           "landcolor": "white",
           "showlakes": true,
           "showland": true,
           "subunitcolor": "white"
          },
          "hoverlabel": {
           "align": "left"
          },
          "hovermode": "closest",
          "mapbox": {
           "style": "light"
          },
          "paper_bgcolor": "white",
          "plot_bgcolor": "white",
          "polar": {
           "angularaxis": {
            "gridcolor": "rgb(232,232,232)",
            "linecolor": "rgb(36,36,36)",
            "showgrid": false,
            "showline": true,
            "ticks": "outside"
           },
           "bgcolor": "white",
           "radialaxis": {
            "gridcolor": "rgb(232,232,232)",
            "linecolor": "rgb(36,36,36)",
            "showgrid": false,
            "showline": true,
            "ticks": "outside"
           }
          },
          "scene": {
           "xaxis": {
            "backgroundcolor": "white",
            "gridcolor": "rgb(232,232,232)",
            "gridwidth": 2,
            "linecolor": "rgb(36,36,36)",
            "showbackground": true,
            "showgrid": false,
            "showline": true,
            "ticks": "outside",
            "zeroline": false,
            "zerolinecolor": "rgb(36,36,36)"
           },
           "yaxis": {
            "backgroundcolor": "white",
            "gridcolor": "rgb(232,232,232)",
            "gridwidth": 2,
            "linecolor": "rgb(36,36,36)",
            "showbackground": true,
            "showgrid": false,
            "showline": true,
            "ticks": "outside",
            "zeroline": false,
            "zerolinecolor": "rgb(36,36,36)"
           },
           "zaxis": {
            "backgroundcolor": "white",
            "gridcolor": "rgb(232,232,232)",
            "gridwidth": 2,
            "linecolor": "rgb(36,36,36)",
            "showbackground": true,
            "showgrid": false,
            "showline": true,
            "ticks": "outside",
            "zeroline": false,
            "zerolinecolor": "rgb(36,36,36)"
           }
          },
          "shapedefaults": {
           "fillcolor": "black",
           "line": {
            "width": 0
           },
           "opacity": 0.3
          },
          "ternary": {
           "aaxis": {
            "gridcolor": "rgb(232,232,232)",
            "linecolor": "rgb(36,36,36)",
            "showgrid": false,
            "showline": true,
            "ticks": "outside"
           },
           "baxis": {
            "gridcolor": "rgb(232,232,232)",
            "linecolor": "rgb(36,36,36)",
            "showgrid": false,
            "showline": true,
            "ticks": "outside"
           },
           "bgcolor": "white",
           "caxis": {
            "gridcolor": "rgb(232,232,232)",
            "linecolor": "rgb(36,36,36)",
            "showgrid": false,
            "showline": true,
            "ticks": "outside"
           }
          },
          "title": {
           "x": 0.05
          },
          "xaxis": {
           "automargin": true,
           "gridcolor": "rgb(232,232,232)",
           "linecolor": "rgb(36,36,36)",
           "showgrid": false,
           "showline": true,
           "ticks": "outside",
           "title": {
            "standoff": 15
           },
           "zeroline": false,
           "zerolinecolor": "rgb(36,36,36)"
          },
          "yaxis": {
           "automargin": true,
           "gridcolor": "rgb(232,232,232)",
           "linecolor": "rgb(36,36,36)",
           "showgrid": false,
           "showline": true,
           "ticks": "outside",
           "title": {
            "standoff": 15
           },
           "zeroline": false,
           "zerolinecolor": "rgb(36,36,36)"
          }
         }
        },
        "title": {
         "text": "⚡ Fastest Closers (Avg Time to Close — excluding pending; lower is better)"
        },
        "xaxis": {
         "anchor": "y",
         "domain": [
          0,
          1
         ],
         "title": {
          "text": "Closer"
         }
        },
        "yaxis": {
         "anchor": "x",
         "domain": [
          0,
          1
         ],
         "title": {
          "text": "Avg hours"
         }
        }
       }
      }
     },
     "metadata": {},
     "output_type": "display_data"
    }
   ],
   "source": [
    "# 4.4 Efficiency: average Time to Close (hours) — lower is better (by Closer, excluding 'pending')\n",
    "import plotly.express as px\n",
    "\n",
    "closer_col = \"Closer\"\n",
    "ttc_col    = \"Time to Close\" if \"Time to Close\" in df.columns else ttc_col\n",
    "status_col = \"Status\"\n",
    "\n",
    "# use cleaned frame if you have it\n",
    "src = df_clean.copy() if 'df_clean' in globals() else df.copy()\n",
    "\n",
    "# normalize Status and remove 'pending'\n",
    "src[status_col] = src[status_col].astype(\"string\").str.strip().str.lower()\n",
    "src = src.loc[~src[status_col].eq(\"pending\")]\n",
    "\n",
    "# optional global closer exclusions\n",
    "EXCLUDE_CLOSERS = set([s.casefold() for s in globals().get(\"EXCLUDE_CLOSERS\", {\"bas\",\"estefy\",\"shub\"})])\n",
    "\n",
    "avg_ttc_df = (\n",
    "    src\n",
    "      .assign(**{closer_col: src[closer_col].astype(\"string\").str.strip()})\n",
    "      .loc[lambda d:\n",
    "           d[closer_col].notna()\n",
    "           & (d[closer_col] != \"\")\n",
    "           & (~d[closer_col].str.casefold().isin({\"not found\",\"nan\",\"none\"}))\n",
    "           & (~d[closer_col].str.casefold().isin(EXCLUDE_CLOSERS))\n",
    "           & d[ttc_col].notna()]\n",
    "      .groupby(closer_col, as_index=False)[ttc_col].mean()\n",
    "      .rename(columns={ttc_col: \"avg_hours\"})\n",
    "      .sort_values(\"avg_hours\", ascending=True)\n",
    ")\n",
    "\n",
    "fig = px.bar(\n",
    "    avg_ttc_df,\n",
    "    x=closer_col, y=\"avg_hours\", color=\"avg_hours\",\n",
    "    title=\"⚡ Fastest Closers (Avg Time to Close — excluding pending; lower is better)\",\n",
    "    labels={\"avg_hours\": \"Avg hours\", closer_col: \"Closer\"},\n",
    "    template=\"simple_white\"\n",
    ")\n",
    "fig.update_layout(showlegend=False)\n",
    "fig.show()\n",
    "\n",
    "\n"
   ]
  },
  {
   "cell_type": "code",
   "execution_count": 15,
   "metadata": {},
   "outputs": [
    {
     "data": {
      "application/vnd.plotly.v1+json": {
       "config": {
        "plotlyServerURL": "https://plot.ly"
       },
       "data": [
        {
         "alignmentgroup": "True",
         "hovertemplate": "Tickets Reopened=%{marker.color}<br>Closer=%{y}<extra></extra>",
         "legendgroup": "",
         "marker": {
          "color": [
           2,
           1,
           1,
           1,
           1,
           1,
           1,
           1
          ],
          "coloraxis": "coloraxis",
          "pattern": {
           "shape": ""
          }
         },
         "name": "",
         "offsetgroup": "",
         "orientation": "h",
         "showlegend": false,
         "textposition": "auto",
         "type": "bar",
         "x": [
          2,
          1,
          1,
          1,
          1,
          1,
          1,
          1
         ],
         "xaxis": "x",
         "y": [
          "Theo",
          "Alvaro I",
          "Annet",
          "Gui",
          "Helena",
          "Mael",
          "Tristan",
          "Zarmeen"
         ],
         "yaxis": "y"
        }
       ],
       "layout": {
        "barmode": "relative",
        "coloraxis": {
         "colorbar": {
          "title": {
           "text": "Tickets Reopened"
          }
         },
         "colorscale": [
          [
           0,
           "#440154"
          ],
          [
           0.1111111111111111,
           "#482878"
          ],
          [
           0.2222222222222222,
           "#3e4989"
          ],
          [
           0.3333333333333333,
           "#31688e"
          ],
          [
           0.4444444444444444,
           "#26828e"
          ],
          [
           0.5555555555555556,
           "#1f9e89"
          ],
          [
           0.6666666666666666,
           "#35b779"
          ],
          [
           0.7777777777777778,
           "#6ece58"
          ],
          [
           0.8888888888888888,
           "#b5de2b"
          ],
          [
           1,
           "#fde725"
          ]
         ]
        },
        "legend": {
         "tracegroupgap": 0
        },
        "showlegend": false,
        "template": {
         "data": {
          "bar": [
           {
            "error_x": {
             "color": "rgb(36,36,36)"
            },
            "error_y": {
             "color": "rgb(36,36,36)"
            },
            "marker": {
             "line": {
              "color": "white",
              "width": 0.5
             },
             "pattern": {
              "fillmode": "overlay",
              "size": 10,
              "solidity": 0.2
             }
            },
            "type": "bar"
           }
          ],
          "barpolar": [
           {
            "marker": {
             "line": {
              "color": "white",
              "width": 0.5
             },
             "pattern": {
              "fillmode": "overlay",
              "size": 10,
              "solidity": 0.2
             }
            },
            "type": "barpolar"
           }
          ],
          "carpet": [
           {
            "aaxis": {
             "endlinecolor": "rgb(36,36,36)",
             "gridcolor": "white",
             "linecolor": "white",
             "minorgridcolor": "white",
             "startlinecolor": "rgb(36,36,36)"
            },
            "baxis": {
             "endlinecolor": "rgb(36,36,36)",
             "gridcolor": "white",
             "linecolor": "white",
             "minorgridcolor": "white",
             "startlinecolor": "rgb(36,36,36)"
            },
            "type": "carpet"
           }
          ],
          "choropleth": [
           {
            "colorbar": {
             "outlinewidth": 1,
             "tickcolor": "rgb(36,36,36)",
             "ticks": "outside"
            },
            "type": "choropleth"
           }
          ],
          "contour": [
           {
            "colorbar": {
             "outlinewidth": 1,
             "tickcolor": "rgb(36,36,36)",
             "ticks": "outside"
            },
            "colorscale": [
             [
              0,
              "#440154"
             ],
             [
              0.1111111111111111,
              "#482878"
             ],
             [
              0.2222222222222222,
              "#3e4989"
             ],
             [
              0.3333333333333333,
              "#31688e"
             ],
             [
              0.4444444444444444,
              "#26828e"
             ],
             [
              0.5555555555555556,
              "#1f9e89"
             ],
             [
              0.6666666666666666,
              "#35b779"
             ],
             [
              0.7777777777777778,
              "#6ece58"
             ],
             [
              0.8888888888888888,
              "#b5de2b"
             ],
             [
              1,
              "#fde725"
             ]
            ],
            "type": "contour"
           }
          ],
          "contourcarpet": [
           {
            "colorbar": {
             "outlinewidth": 1,
             "tickcolor": "rgb(36,36,36)",
             "ticks": "outside"
            },
            "type": "contourcarpet"
           }
          ],
          "heatmap": [
           {
            "colorbar": {
             "outlinewidth": 1,
             "tickcolor": "rgb(36,36,36)",
             "ticks": "outside"
            },
            "colorscale": [
             [
              0,
              "#440154"
             ],
             [
              0.1111111111111111,
              "#482878"
             ],
             [
              0.2222222222222222,
              "#3e4989"
             ],
             [
              0.3333333333333333,
              "#31688e"
             ],
             [
              0.4444444444444444,
              "#26828e"
             ],
             [
              0.5555555555555556,
              "#1f9e89"
             ],
             [
              0.6666666666666666,
              "#35b779"
             ],
             [
              0.7777777777777778,
              "#6ece58"
             ],
             [
              0.8888888888888888,
              "#b5de2b"
             ],
             [
              1,
              "#fde725"
             ]
            ],
            "type": "heatmap"
           }
          ],
          "heatmapgl": [
           {
            "colorbar": {
             "outlinewidth": 1,
             "tickcolor": "rgb(36,36,36)",
             "ticks": "outside"
            },
            "colorscale": [
             [
              0,
              "#440154"
             ],
             [
              0.1111111111111111,
              "#482878"
             ],
             [
              0.2222222222222222,
              "#3e4989"
             ],
             [
              0.3333333333333333,
              "#31688e"
             ],
             [
              0.4444444444444444,
              "#26828e"
             ],
             [
              0.5555555555555556,
              "#1f9e89"
             ],
             [
              0.6666666666666666,
              "#35b779"
             ],
             [
              0.7777777777777778,
              "#6ece58"
             ],
             [
              0.8888888888888888,
              "#b5de2b"
             ],
             [
              1,
              "#fde725"
             ]
            ],
            "type": "heatmapgl"
           }
          ],
          "histogram": [
           {
            "marker": {
             "line": {
              "color": "white",
              "width": 0.6
             }
            },
            "type": "histogram"
           }
          ],
          "histogram2d": [
           {
            "colorbar": {
             "outlinewidth": 1,
             "tickcolor": "rgb(36,36,36)",
             "ticks": "outside"
            },
            "colorscale": [
             [
              0,
              "#440154"
             ],
             [
              0.1111111111111111,
              "#482878"
             ],
             [
              0.2222222222222222,
              "#3e4989"
             ],
             [
              0.3333333333333333,
              "#31688e"
             ],
             [
              0.4444444444444444,
              "#26828e"
             ],
             [
              0.5555555555555556,
              "#1f9e89"
             ],
             [
              0.6666666666666666,
              "#35b779"
             ],
             [
              0.7777777777777778,
              "#6ece58"
             ],
             [
              0.8888888888888888,
              "#b5de2b"
             ],
             [
              1,
              "#fde725"
             ]
            ],
            "type": "histogram2d"
           }
          ],
          "histogram2dcontour": [
           {
            "colorbar": {
             "outlinewidth": 1,
             "tickcolor": "rgb(36,36,36)",
             "ticks": "outside"
            },
            "colorscale": [
             [
              0,
              "#440154"
             ],
             [
              0.1111111111111111,
              "#482878"
             ],
             [
              0.2222222222222222,
              "#3e4989"
             ],
             [
              0.3333333333333333,
              "#31688e"
             ],
             [
              0.4444444444444444,
              "#26828e"
             ],
             [
              0.5555555555555556,
              "#1f9e89"
             ],
             [
              0.6666666666666666,
              "#35b779"
             ],
             [
              0.7777777777777778,
              "#6ece58"
             ],
             [
              0.8888888888888888,
              "#b5de2b"
             ],
             [
              1,
              "#fde725"
             ]
            ],
            "type": "histogram2dcontour"
           }
          ],
          "mesh3d": [
           {
            "colorbar": {
             "outlinewidth": 1,
             "tickcolor": "rgb(36,36,36)",
             "ticks": "outside"
            },
            "type": "mesh3d"
           }
          ],
          "parcoords": [
           {
            "line": {
             "colorbar": {
              "outlinewidth": 1,
              "tickcolor": "rgb(36,36,36)",
              "ticks": "outside"
             }
            },
            "type": "parcoords"
           }
          ],
          "pie": [
           {
            "automargin": true,
            "type": "pie"
           }
          ],
          "scatter": [
           {
            "fillpattern": {
             "fillmode": "overlay",
             "size": 10,
             "solidity": 0.2
            },
            "type": "scatter"
           }
          ],
          "scatter3d": [
           {
            "line": {
             "colorbar": {
              "outlinewidth": 1,
              "tickcolor": "rgb(36,36,36)",
              "ticks": "outside"
             }
            },
            "marker": {
             "colorbar": {
              "outlinewidth": 1,
              "tickcolor": "rgb(36,36,36)",
              "ticks": "outside"
             }
            },
            "type": "scatter3d"
           }
          ],
          "scattercarpet": [
           {
            "marker": {
             "colorbar": {
              "outlinewidth": 1,
              "tickcolor": "rgb(36,36,36)",
              "ticks": "outside"
             }
            },
            "type": "scattercarpet"
           }
          ],
          "scattergeo": [
           {
            "marker": {
             "colorbar": {
              "outlinewidth": 1,
              "tickcolor": "rgb(36,36,36)",
              "ticks": "outside"
             }
            },
            "type": "scattergeo"
           }
          ],
          "scattergl": [
           {
            "marker": {
             "colorbar": {
              "outlinewidth": 1,
              "tickcolor": "rgb(36,36,36)",
              "ticks": "outside"
             }
            },
            "type": "scattergl"
           }
          ],
          "scattermapbox": [
           {
            "marker": {
             "colorbar": {
              "outlinewidth": 1,
              "tickcolor": "rgb(36,36,36)",
              "ticks": "outside"
             }
            },
            "type": "scattermapbox"
           }
          ],
          "scatterpolar": [
           {
            "marker": {
             "colorbar": {
              "outlinewidth": 1,
              "tickcolor": "rgb(36,36,36)",
              "ticks": "outside"
             }
            },
            "type": "scatterpolar"
           }
          ],
          "scatterpolargl": [
           {
            "marker": {
             "colorbar": {
              "outlinewidth": 1,
              "tickcolor": "rgb(36,36,36)",
              "ticks": "outside"
             }
            },
            "type": "scatterpolargl"
           }
          ],
          "scatterternary": [
           {
            "marker": {
             "colorbar": {
              "outlinewidth": 1,
              "tickcolor": "rgb(36,36,36)",
              "ticks": "outside"
             }
            },
            "type": "scatterternary"
           }
          ],
          "surface": [
           {
            "colorbar": {
             "outlinewidth": 1,
             "tickcolor": "rgb(36,36,36)",
             "ticks": "outside"
            },
            "colorscale": [
             [
              0,
              "#440154"
             ],
             [
              0.1111111111111111,
              "#482878"
             ],
             [
              0.2222222222222222,
              "#3e4989"
             ],
             [
              0.3333333333333333,
              "#31688e"
             ],
             [
              0.4444444444444444,
              "#26828e"
             ],
             [
              0.5555555555555556,
              "#1f9e89"
             ],
             [
              0.6666666666666666,
              "#35b779"
             ],
             [
              0.7777777777777778,
              "#6ece58"
             ],
             [
              0.8888888888888888,
              "#b5de2b"
             ],
             [
              1,
              "#fde725"
             ]
            ],
            "type": "surface"
           }
          ],
          "table": [
           {
            "cells": {
             "fill": {
              "color": "rgb(237,237,237)"
             },
             "line": {
              "color": "white"
             }
            },
            "header": {
             "fill": {
              "color": "rgb(217,217,217)"
             },
             "line": {
              "color": "white"
             }
            },
            "type": "table"
           }
          ]
         },
         "layout": {
          "annotationdefaults": {
           "arrowhead": 0,
           "arrowwidth": 1
          },
          "autotypenumbers": "strict",
          "coloraxis": {
           "colorbar": {
            "outlinewidth": 1,
            "tickcolor": "rgb(36,36,36)",
            "ticks": "outside"
           }
          },
          "colorscale": {
           "diverging": [
            [
             0,
             "rgb(103,0,31)"
            ],
            [
             0.1,
             "rgb(178,24,43)"
            ],
            [
             0.2,
             "rgb(214,96,77)"
            ],
            [
             0.3,
             "rgb(244,165,130)"
            ],
            [
             0.4,
             "rgb(253,219,199)"
            ],
            [
             0.5,
             "rgb(247,247,247)"
            ],
            [
             0.6,
             "rgb(209,229,240)"
            ],
            [
             0.7,
             "rgb(146,197,222)"
            ],
            [
             0.8,
             "rgb(67,147,195)"
            ],
            [
             0.9,
             "rgb(33,102,172)"
            ],
            [
             1,
             "rgb(5,48,97)"
            ]
           ],
           "sequential": [
            [
             0,
             "#440154"
            ],
            [
             0.1111111111111111,
             "#482878"
            ],
            [
             0.2222222222222222,
             "#3e4989"
            ],
            [
             0.3333333333333333,
             "#31688e"
            ],
            [
             0.4444444444444444,
             "#26828e"
            ],
            [
             0.5555555555555556,
             "#1f9e89"
            ],
            [
             0.6666666666666666,
             "#35b779"
            ],
            [
             0.7777777777777778,
             "#6ece58"
            ],
            [
             0.8888888888888888,
             "#b5de2b"
            ],
            [
             1,
             "#fde725"
            ]
           ],
           "sequentialminus": [
            [
             0,
             "#440154"
            ],
            [
             0.1111111111111111,
             "#482878"
            ],
            [
             0.2222222222222222,
             "#3e4989"
            ],
            [
             0.3333333333333333,
             "#31688e"
            ],
            [
             0.4444444444444444,
             "#26828e"
            ],
            [
             0.5555555555555556,
             "#1f9e89"
            ],
            [
             0.6666666666666666,
             "#35b779"
            ],
            [
             0.7777777777777778,
             "#6ece58"
            ],
            [
             0.8888888888888888,
             "#b5de2b"
            ],
            [
             1,
             "#fde725"
            ]
           ]
          },
          "colorway": [
           "#1F77B4",
           "#FF7F0E",
           "#2CA02C",
           "#D62728",
           "#9467BD",
           "#8C564B",
           "#E377C2",
           "#7F7F7F",
           "#BCBD22",
           "#17BECF"
          ],
          "font": {
           "color": "rgb(36,36,36)"
          },
          "geo": {
           "bgcolor": "white",
           "lakecolor": "white",
           "landcolor": "white",
           "showlakes": true,
           "showland": true,
           "subunitcolor": "white"
          },
          "hoverlabel": {
           "align": "left"
          },
          "hovermode": "closest",
          "mapbox": {
           "style": "light"
          },
          "paper_bgcolor": "white",
          "plot_bgcolor": "white",
          "polar": {
           "angularaxis": {
            "gridcolor": "rgb(232,232,232)",
            "linecolor": "rgb(36,36,36)",
            "showgrid": false,
            "showline": true,
            "ticks": "outside"
           },
           "bgcolor": "white",
           "radialaxis": {
            "gridcolor": "rgb(232,232,232)",
            "linecolor": "rgb(36,36,36)",
            "showgrid": false,
            "showline": true,
            "ticks": "outside"
           }
          },
          "scene": {
           "xaxis": {
            "backgroundcolor": "white",
            "gridcolor": "rgb(232,232,232)",
            "gridwidth": 2,
            "linecolor": "rgb(36,36,36)",
            "showbackground": true,
            "showgrid": false,
            "showline": true,
            "ticks": "outside",
            "zeroline": false,
            "zerolinecolor": "rgb(36,36,36)"
           },
           "yaxis": {
            "backgroundcolor": "white",
            "gridcolor": "rgb(232,232,232)",
            "gridwidth": 2,
            "linecolor": "rgb(36,36,36)",
            "showbackground": true,
            "showgrid": false,
            "showline": true,
            "ticks": "outside",
            "zeroline": false,
            "zerolinecolor": "rgb(36,36,36)"
           },
           "zaxis": {
            "backgroundcolor": "white",
            "gridcolor": "rgb(232,232,232)",
            "gridwidth": 2,
            "linecolor": "rgb(36,36,36)",
            "showbackground": true,
            "showgrid": false,
            "showline": true,
            "ticks": "outside",
            "zeroline": false,
            "zerolinecolor": "rgb(36,36,36)"
           }
          },
          "shapedefaults": {
           "fillcolor": "black",
           "line": {
            "width": 0
           },
           "opacity": 0.3
          },
          "ternary": {
           "aaxis": {
            "gridcolor": "rgb(232,232,232)",
            "linecolor": "rgb(36,36,36)",
            "showgrid": false,
            "showline": true,
            "ticks": "outside"
           },
           "baxis": {
            "gridcolor": "rgb(232,232,232)",
            "linecolor": "rgb(36,36,36)",
            "showgrid": false,
            "showline": true,
            "ticks": "outside"
           },
           "bgcolor": "white",
           "caxis": {
            "gridcolor": "rgb(232,232,232)",
            "linecolor": "rgb(36,36,36)",
            "showgrid": false,
            "showline": true,
            "ticks": "outside"
           }
          },
          "title": {
           "x": 0.05
          },
          "xaxis": {
           "automargin": true,
           "gridcolor": "rgb(232,232,232)",
           "linecolor": "rgb(36,36,36)",
           "showgrid": false,
           "showline": true,
           "ticks": "outside",
           "title": {
            "standoff": 15
           },
           "zeroline": false,
           "zerolinecolor": "rgb(36,36,36)"
          },
          "yaxis": {
           "automargin": true,
           "gridcolor": "rgb(232,232,232)",
           "linecolor": "rgb(36,36,36)",
           "showgrid": false,
           "showline": true,
           "ticks": "outside",
           "title": {
            "standoff": 15
           },
           "zeroline": false,
           "zerolinecolor": "rgb(36,36,36)"
          }
         }
        },
        "title": {
         "text": "🔄 Re-open Champion (Latest week in data: 1970-W01)"
        },
        "xaxis": {
         "anchor": "y",
         "domain": [
          0,
          1
         ],
         "title": {
          "text": "Tickets Reopened"
         }
        },
        "yaxis": {
         "anchor": "x",
         "categoryorder": "total ascending",
         "domain": [
          0,
          1
         ],
         "title": {
          "text": "Closer"
         }
        }
       }
      }
     },
     "metadata": {},
     "output_type": "display_data"
    }
   ],
   "source": [
    "# 🔄 Re-open Champion — latest week (by Closer)\n",
    "\n",
    "import plotly.express as px\n",
    "import pandas as pd\n",
    "\n",
    "closer_col = \"Closer\"\n",
    "\n",
    "# Find the reopen column in your CSV\n",
    "reopen_col = None\n",
    "for c in [\"ReopenedAt\", \"reopenedat\", \"Re-opened At\", \"ReopenAt\"]:\n",
    "    if c in df.columns:\n",
    "        reopen_col = c\n",
    "        break\n",
    "\n",
    "if reopen_col is None:\n",
    "    print(\"No 'ReopenedAt' column found.\")\n",
    "else:\n",
    "    # Parse datetime\n",
    "    df[reopen_col] = pd.to_datetime(df[reopen_col], errors=\"coerce\", dayfirst=True)\n",
    "\n",
    "    # ISO week label from re-open timestamp\n",
    "    iso_re = df[reopen_col].dt.isocalendar()\n",
    "    df[\"re_week\"] = iso_re.year.astype(str) + \"-W\" + iso_re.week.astype(str).str.zfill(2)\n",
    "\n",
    "    # Latest week with actual re-opens\n",
    "    valid_weeks = df.loc[df[reopen_col].notna(), \"re_week\"]\n",
    "    if not len(valid_weeks):\n",
    "        print(\"No re-open data available to compute weekly champions.\")\n",
    "    else:\n",
    "        latest_week = valid_weeks.sort_values().iloc[-1]\n",
    "\n",
    "        # Optional: exclude some closers globally\n",
    "        EXCLUDE_CLOSERS = set([s.lower() for s in globals().get(\"EXCLUDE_CLOSERS\", [])])\n",
    "\n",
    "        reopens_latest = (\n",
    "            df.loc[\n",
    "                (df[\"re_week\"] == latest_week)\n",
    "                & df[reopen_col].notna()\n",
    "                & df[closer_col].notna()\n",
    "                & (df[closer_col].astype(str).str.strip() != \"\")\n",
    "                & (~df[closer_col].astype(str).str.lower().isin({\"not found\",\"nan\",\"none\"}))\n",
    "                & (~df[closer_col].astype(str).str.lower().isin(EXCLUDE_CLOSERS))\n",
    "            ]\n",
    "            .groupby(closer_col, as_index=False)\n",
    "            .size()\n",
    "            .rename(columns={\"size\": \"tickets_reopened\"})\n",
    "            .sort_values(\"tickets_reopened\", ascending=False)\n",
    "        )\n",
    "\n",
    "        fig = px.bar(\n",
    "            reopens_latest,\n",
    "            x=\"tickets_reopened\",\n",
    "            y=closer_col,\n",
    "            orientation=\"h\",\n",
    "            color=\"tickets_reopened\",\n",
    "            title=f\"🔄 Re-open Champion (Latest week in data: {latest_week})\",\n",
    "            labels={\"tickets_reopened\": \"Tickets Reopened\", closer_col: \"Closer\"},\n",
    "            template=\"simple_white\"\n",
    "        )\n",
    "        fig.update_layout(showlegend=False)\n",
    "        fig.update_yaxes(categoryorder=\"total ascending\")\n",
    "        fig.show()\n"
   ]
  },
  {
   "cell_type": "code",
   "execution_count": 18,
   "metadata": {},
   "outputs": [
    {
     "data": {
      "text/html": [
       "<div>\n",
       "<style scoped>\n",
       "    .dataframe tbody tr th:only-of-type {\n",
       "        vertical-align: middle;\n",
       "    }\n",
       "\n",
       "    .dataframe tbody tr th {\n",
       "        vertical-align: top;\n",
       "    }\n",
       "\n",
       "    .dataframe thead th {\n",
       "        text-align: right;\n",
       "    }\n",
       "</style>\n",
       "<table border=\"1\" class=\"dataframe\">\n",
       "  <thead>\n",
       "    <tr style=\"text-align: right;\">\n",
       "      <th></th>\n",
       "      <th>Closer</th>\n",
       "      <th>Tickets Closed</th>\n",
       "      <th>Unique_Clients</th>\n",
       "      <th>Avg Close (h)</th>\n",
       "      <th>Median Close (h)</th>\n",
       "      <th>Reopens</th>\n",
       "      <th>Closed per Client</th>\n",
       "      <th>Re-open Rate</th>\n",
       "      <th>Speed Score (0–100)</th>\n",
       "      <th>Throughput Score (0–100)</th>\n",
       "      <th>Volume Score (0–100)</th>\n",
       "      <th>POWER SCORE (0–100)</th>\n",
       "      <th>Re-open Penalty (0–15)</th>\n",
       "      <th>Adj POWER SCORE (0–100)</th>\n",
       "      <th>Title</th>\n",
       "      <th>Tier</th>\n",
       "    </tr>\n",
       "  </thead>\n",
       "  <tbody>\n",
       "    <tr>\n",
       "      <th>0</th>\n",
       "      <td>Gui</td>\n",
       "      <td>29</td>\n",
       "      <td>2</td>\n",
       "      <td>12.460297</td>\n",
       "      <td>3.682222</td>\n",
       "      <td>1</td>\n",
       "      <td>14.500000</td>\n",
       "      <td>0.034483</td>\n",
       "      <td>88.5</td>\n",
       "      <td>100.0</td>\n",
       "      <td>100.0</td>\n",
       "      <td>96.2</td>\n",
       "      <td>10.0</td>\n",
       "      <td>86.2</td>\n",
       "      <td>Lightning Closer</td>\n",
       "      <td>Mythic 🟣</td>\n",
       "    </tr>\n",
       "    <tr>\n",
       "      <th>1</th>\n",
       "      <td>Zarmeen</td>\n",
       "      <td>12</td>\n",
       "      <td>1</td>\n",
       "      <td>7.585255</td>\n",
       "      <td>0.072222</td>\n",
       "      <td>1</td>\n",
       "      <td>12.000000</td>\n",
       "      <td>0.083333</td>\n",
       "      <td>93.0</td>\n",
       "      <td>82.8</td>\n",
       "      <td>39.3</td>\n",
       "      <td>71.8</td>\n",
       "      <td>12.9</td>\n",
       "      <td>58.9</td>\n",
       "      <td>Lightning Closer</td>\n",
       "      <td>Epic 🔵</td>\n",
       "    </tr>\n",
       "    <tr>\n",
       "      <th>2</th>\n",
       "      <td>Nelly</td>\n",
       "      <td>16</td>\n",
       "      <td>3</td>\n",
       "      <td>1.150747</td>\n",
       "      <td>0.498611</td>\n",
       "      <td>0</td>\n",
       "      <td>5.333333</td>\n",
       "      <td>0.000000</td>\n",
       "      <td>99.0</td>\n",
       "      <td>36.8</td>\n",
       "      <td>53.6</td>\n",
       "      <td>62.9</td>\n",
       "      <td>5.0</td>\n",
       "      <td>57.9</td>\n",
       "      <td>Lightning Closer</td>\n",
       "      <td>Epic 🔵</td>\n",
       "    </tr>\n",
       "    <tr>\n",
       "      <th>3</th>\n",
       "      <td>Annet</td>\n",
       "      <td>26</td>\n",
       "      <td>8</td>\n",
       "      <td>17.010481</td>\n",
       "      <td>5.206806</td>\n",
       "      <td>1</td>\n",
       "      <td>3.250000</td>\n",
       "      <td>0.038462</td>\n",
       "      <td>84.2</td>\n",
       "      <td>22.4</td>\n",
       "      <td>89.3</td>\n",
       "      <td>64.9</td>\n",
       "      <td>10.7</td>\n",
       "      <td>54.2</td>\n",
       "      <td>Lightning Closer</td>\n",
       "      <td>Epic 🔵</td>\n",
       "    </tr>\n",
       "    <tr>\n",
       "      <th>4</th>\n",
       "      <td>Estefy</td>\n",
       "      <td>15</td>\n",
       "      <td>4</td>\n",
       "      <td>0.893241</td>\n",
       "      <td>0.455556</td>\n",
       "      <td>0</td>\n",
       "      <td>3.750000</td>\n",
       "      <td>0.000000</td>\n",
       "      <td>99.2</td>\n",
       "      <td>25.9</td>\n",
       "      <td>50.0</td>\n",
       "      <td>58.0</td>\n",
       "      <td>5.0</td>\n",
       "      <td>53.0</td>\n",
       "      <td>Lightning Closer</td>\n",
       "      <td>Epic 🔵</td>\n",
       "    </tr>\n",
       "  </tbody>\n",
       "</table>\n",
       "</div>"
      ],
      "text/plain": [
       "    Closer  Tickets Closed  Unique_Clients  Avg Close (h)  Median Close (h)  \\\n",
       "0      Gui              29               2      12.460297          3.682222   \n",
       "1  Zarmeen              12               1       7.585255          0.072222   \n",
       "2    Nelly              16               3       1.150747          0.498611   \n",
       "3    Annet              26               8      17.010481          5.206806   \n",
       "4   Estefy              15               4       0.893241          0.455556   \n",
       "\n",
       "   Reopens  Closed per Client  Re-open Rate  Speed Score (0–100)  \\\n",
       "0        1          14.500000      0.034483                 88.5   \n",
       "1        1          12.000000      0.083333                 93.0   \n",
       "2        0           5.333333      0.000000                 99.0   \n",
       "3        1           3.250000      0.038462                 84.2   \n",
       "4        0           3.750000      0.000000                 99.2   \n",
       "\n",
       "   Throughput Score (0–100)  Volume Score (0–100)  POWER SCORE (0–100)  \\\n",
       "0                     100.0                 100.0                 96.2   \n",
       "1                      82.8                  39.3                 71.8   \n",
       "2                      36.8                  53.6                 62.9   \n",
       "3                      22.4                  89.3                 64.9   \n",
       "4                      25.9                  50.0                 58.0   \n",
       "\n",
       "   Re-open Penalty (0–15)  Adj POWER SCORE (0–100)             Title      Tier  \n",
       "0                    10.0                     86.2  Lightning Closer  Mythic 🟣  \n",
       "1                    12.9                     58.9  Lightning Closer    Epic 🔵  \n",
       "2                     5.0                     57.9  Lightning Closer    Epic 🔵  \n",
       "3                    10.7                     54.2  Lightning Closer    Epic 🔵  \n",
       "4                     5.0                     53.0  Lightning Closer    Epic 🔵  "
      ]
     },
     "execution_count": 18,
     "metadata": {},
     "output_type": "execute_result"
    }
   ],
   "source": [
    "# --- Build Closer leaderboard (exclude pending/processing) ---\n",
    "import numpy as np\n",
    "import pandas as pd\n",
    "\n",
    "closer_col  = \"Closer\"\n",
    "client_col  = \"ClientName\"\n",
    "status_col  = \"Status\"\n",
    "ttc_col     = \"Time to Close\"   # hours\n",
    "# find reopen col\n",
    "reopen_col = next((c for c in [\"ReopenedAt\",\"reopenedat\",\"Re-opened At\",\"ReopenAt\"] if c in df.columns), None)\n",
    "\n",
    "# filter: remove pending / processing\n",
    "work = df.copy()\n",
    "work[status_col] = work[status_col].astype(\"string\").str.strip().str.lower()\n",
    "work = work.loc[~work[status_col].isin([\"pending\",\"processing\"])]\n",
    "\n",
    "# clean closer\n",
    "work[closer_col] = work[closer_col].astype(\"string\").str.strip()\n",
    "work = work.loc[\n",
    "    work[closer_col].notna()\n",
    "    & (work[closer_col] != \"\")\n",
    "    & (~work[closer_col].str.casefold().isin({\"not found\",\"nan\",\"none\"}))\n",
    "]\n",
    "\n",
    "# reopen flag\n",
    "if reopen_col:\n",
    "    work[reopen_col] = pd.to_datetime(work[reopen_col], errors=\"coerce\", dayfirst=True)\n",
    "    work[\"_reopened_flag\"] = work[reopen_col].notna()\n",
    "else:\n",
    "    work[\"_reopened_flag\"] = False\n",
    "\n",
    "# aggregate per closer\n",
    "agg = (\n",
    "    work.groupby(closer_col)\n",
    "        .agg(\n",
    "            Tickets_Closed=(\"Status\",\"size\"),\n",
    "            Unique_Clients=(client_col,\"nunique\"),\n",
    "            Avg_Close_h=(ttc_col,\"mean\"),\n",
    "            Median_Close_h=(ttc_col,\"median\"),\n",
    "            Reopens=(\"_reopened_flag\",\"sum\")\n",
    "        )\n",
    "        .reset_index()\n",
    ")\n",
    "\n",
    "# derived metrics\n",
    "agg[\"Closed per Client\"] = agg[\"Tickets_Closed\"] / agg[\"Unique_Clients\"].replace(0, np.nan)\n",
    "agg[\"Re-open Rate\"]      = (agg[\"Reopens\"] / agg[\"Tickets_Closed\"].replace(0, np.nan)).fillna(0.0)\n",
    "\n",
    "# scores (0–100) — lower avg hours is better\n",
    "def _minmax(s):\n",
    "    if s.nunique() <= 1: \n",
    "        return pd.Series(50.0, index=s.index)\n",
    "    lo, hi = s.min(), s.max()\n",
    "    return (s - lo) / (hi - lo) * 100\n",
    "\n",
    "speed_score       = 100 - _minmax(agg[\"Avg_Close_h\"])               # invert: lower hours → higher score\n",
    "throughput_score  = _minmax(agg[\"Closed per Client\"].fillna(0))\n",
    "volume_score      = _minmax(agg[\"Tickets_Closed\"])\n",
    "\n",
    "agg[\"Speed Score (0–100)\"]      = speed_score.round(1)\n",
    "agg[\"Throughput Score (0–100)\"] = throughput_score.round(1)\n",
    "agg[\"Volume Score (0–100)\"]     = volume_score.round(1)\n",
    "\n",
    "# raw power (equal weights)\n",
    "agg[\"POWER SCORE (0–100)\"] = (\n",
    "    0.33*agg[\"Speed Score (0–100)\"] + \n",
    "    0.34*agg[\"Throughput Score (0–100)\"] + \n",
    "    0.33*agg[\"Volume Score (0–100)\"]\n",
    ").round(1)\n",
    "\n",
    "# re-open penalty (0..15) using percentile rank of reopen rate\n",
    "def pct_rank(s):\n",
    "    return s.rank(pct=True, method=\"average\") if s.nunique() > 1 else pd.Series(0.5, index=s.index)\n",
    "agg[\"Re-open Penalty (0–15)\"] = (pct_rank(agg[\"Re-open Rate\"]) * 15).round(1)\n",
    "\n",
    "# adjusted power\n",
    "agg[\"Adj POWER SCORE (0–100)\"] = (agg[\"POWER SCORE (0–100)\"] - agg[\"Re-open Penalty (0–15)\"]).clip(lower=0)\n",
    "\n",
    "# simple titles/tiers\n",
    "def _title(r):\n",
    "    return \"Lightning Closer\" if (r[\"Speed Score (0–100)\"] >= 70 or r[\"Avg_Close_h\"] <= 12) else \"Steady Operator\"\n",
    "\n",
    "def _tier(score):\n",
    "    if score >= 80: return \"Mythic 🟣\"\n",
    "    if score >= 70: return \"Legendary 🟡\"\n",
    "    if score >= 40: return \"Epic 🔵\"\n",
    "    return \"Rare 🟢\"\n",
    "\n",
    "agg[\"Title\"] = agg.apply(_title, axis=1)\n",
    "agg[\"Tier\"]  = agg[\"Adj POWER SCORE (0–100)\"].apply(_tier)\n",
    "\n",
    "# final closer leaderboard (rename to match the card)\n",
    "lb_pen_closer = (\n",
    "    agg.rename(columns={\n",
    "        closer_col: \"Closer\",\n",
    "        \"Tickets_Closed\": \"Tickets Closed\",\n",
    "        \"Avg_Close_h\": \"Avg Close (h)\",\n",
    "        \"Median_Close_h\": \"Median Close (h)\"\n",
    "    })\n",
    "    .sort_values(\"Adj POWER SCORE (0–100)\", ascending=False)\n",
    "    .reset_index(drop=True)\n",
    ")\n",
    "\n",
    "lb_pen_closer.head()\n"
   ]
  },
  {
   "cell_type": "code",
   "execution_count": 25,
   "metadata": {},
   "outputs": [
    {
     "data": {
      "text/html": [
       "\n",
       "<div style=\"background:#0f172a;color:#fff;padding:14px 16px;border-radius:12px;\n",
       "            font-family:ui-sans-serif,-apple-system,Segoe UI,Roboto;margin:4px 0 10px;\">\n",
       "  <div style=\"font-weight:800;font-size:22px;\">🏆 Power Leaderboard — Closer (normalized, w/ Re-open Penalty)</div>\n",
       "  <div style=\"opacity:.95;font-size:14px;margin-top:4px\">\n",
       "    <b>Adjusted Power = 0.35·Speed + 0.35·Per-Client + 0.30·Volume − Re-open Penalty</b>.<br/>\n",
       "    Normalization: percentiles (winsorized), log-volume, and empirical-Bayes per-client (fair to everyone).<br/>\n",
       "    Promotion: score &gt; 40 ⇒ Tier +1 (Rare→Epic→Legendary→Mythic).<br/>\n",
       "    Orange = Adjusted Power · <span style=\"color:#ef4444\">Red</span> = Penalty ·\n",
       "    Teal = Per-Client · Purple = Volume · Green→Red = Avg hours (lower is better).\n",
       "  </div>\n",
       "</div>\n"
      ],
      "text/plain": [
       "<IPython.core.display.HTML object>"
      ]
     },
     "metadata": {},
     "output_type": "display_data"
    },
    {
     "name": "stderr",
     "output_type": "stream",
     "text": [
      "/var/folders/zj/ms63hq9j0_q88w6nyhjmppmw0000gn/T/ipykernel_84864/4212878875.py:219: FutureWarning:\n",
      "\n",
      "Styler.applymap has been deprecated. Use Styler.map instead.\n",
      "\n",
      "/var/folders/zj/ms63hq9j0_q88w6nyhjmppmw0000gn/T/ipykernel_84864/4212878875.py:220: FutureWarning:\n",
      "\n",
      "Styler.applymap has been deprecated. Use Styler.map instead.\n",
      "\n"
     ]
    },
    {
     "data": {
      "text/html": [
       "<style type=\"text/css\">\n",
       "#T_2b87c th {\n",
       "  background: #e5e7eb;\n",
       "  color: #111827;\n",
       "  font-weight: 700;\n",
       "  padding: 8px 10px;\n",
       "  border: 0;\n",
       "}\n",
       "#T_2b87c td {\n",
       "  padding: 8px 10px;\n",
       "  border: 0;\n",
       "}\n",
       "#T_2b87c tbody tr:nth-child(odd) {\n",
       "  background: #f9fafb;\n",
       "}\n",
       "#T_2b87c tbody tr:nth-child(even) {\n",
       "  background: #ffffff;\n",
       "}\n",
       "#T_2b87c table {\n",
       "  border-collapse: separate;\n",
       "  border-spacing: 0 4px;\n",
       "}\n",
       "#T_2b87c_row0_col2, #T_2b87c_row0_col3, #T_2b87c_row1_col2, #T_2b87c_row1_col3, #T_2b87c_row2_col2, #T_2b87c_row2_col3, #T_2b87c_row3_col2, #T_2b87c_row3_col3, #T_2b87c_row4_col2, #T_2b87c_row4_col3, #T_2b87c_row5_col2, #T_2b87c_row5_col3, #T_2b87c_row6_col2, #T_2b87c_row6_col3, #T_2b87c_row7_col2, #T_2b87c_row7_col3, #T_2b87c_row8_col2, #T_2b87c_row8_col3, #T_2b87c_row9_col2, #T_2b87c_row9_col3, #T_2b87c_row10_col2, #T_2b87c_row10_col3, #T_2b87c_row11_col2, #T_2b87c_row11_col3, #T_2b87c_row12_col2, #T_2b87c_row12_col3, #T_2b87c_row13_col2, #T_2b87c_row13_col3, #T_2b87c_row14_col2, #T_2b87c_row14_col3, #T_2b87c_row15_col2, #T_2b87c_row15_col3, #T_2b87c_row16_col2, #T_2b87c_row16_col3, #T_2b87c_row17_col2, #T_2b87c_row17_col3 {\n",
       "  font-weight: 700;\n",
       "}\n",
       "#T_2b87c_row0_col4 {\n",
       "  background-color: #6f2dbd;\n",
       "  color: white;\n",
       "}\n",
       "#T_2b87c_row0_col5 {\n",
       "  text-align: right;\n",
       "  background-color: #800026;\n",
       "  color: #f1f1f1;\n",
       "  width: 10em;\n",
       "  background: linear-gradient(90deg, #ff7f50 100.0%, transparent 100.0%);\n",
       "}\n",
       "#T_2b87c_row0_col6, #T_2b87c_row3_col6, #T_2b87c_row5_col6, #T_2b87c_row8_col6, #T_2b87c_row9_col6, #T_2b87c_row10_col6, #T_2b87c_row11_col6, #T_2b87c_row12_col6, #T_2b87c_row15_col6, #T_2b87c_row16_col6 {\n",
       "  text-align: right;\n",
       "  width: 10em;\n",
       "  background: linear-gradient(90deg, #ef4444 30.7%, transparent 30.7%);\n",
       "}\n",
       "#T_2b87c_row0_col7 {\n",
       "  text-align: right;\n",
       "  background-color: #015745;\n",
       "  color: #f1f1f1;\n",
       "}\n",
       "#T_2b87c_row0_col8 {\n",
       "  text-align: right;\n",
       "  background-color: #00682a;\n",
       "  color: #f1f1f1;\n",
       "}\n",
       "#T_2b87c_row0_col9 {\n",
       "  text-align: right;\n",
       "  background-color: #5a5a5a;\n",
       "  color: #f1f1f1;\n",
       "}\n",
       "#T_2b87c_row0_col10 {\n",
       "  text-align: right;\n",
       "  background-color: #006837;\n",
       "  color: #f1f1f1;\n",
       "}\n",
       "#T_2b87c_row0_col11 {\n",
       "  text-align: right;\n",
       "  width: 10em;\n",
       "  background: linear-gradient(90deg, #6c5ce7 55.2%, transparent 55.2%);\n",
       "}\n",
       "#T_2b87c_row0_col12, #T_2b87c_row0_col14, #T_2b87c_row0_col15, #T_2b87c_row1_col12, #T_2b87c_row1_col14, #T_2b87c_row1_col15, #T_2b87c_row2_col12, #T_2b87c_row2_col14, #T_2b87c_row2_col15, #T_2b87c_row3_col12, #T_2b87c_row3_col14, #T_2b87c_row3_col15, #T_2b87c_row4_col12, #T_2b87c_row4_col14, #T_2b87c_row4_col15, #T_2b87c_row5_col12, #T_2b87c_row5_col14, #T_2b87c_row5_col15, #T_2b87c_row6_col12, #T_2b87c_row6_col14, #T_2b87c_row6_col15, #T_2b87c_row7_col12, #T_2b87c_row7_col14, #T_2b87c_row7_col15, #T_2b87c_row8_col12, #T_2b87c_row8_col14, #T_2b87c_row8_col15, #T_2b87c_row9_col12, #T_2b87c_row9_col14, #T_2b87c_row9_col15, #T_2b87c_row10_col12, #T_2b87c_row10_col14, #T_2b87c_row10_col15, #T_2b87c_row11_col12, #T_2b87c_row11_col14, #T_2b87c_row11_col15, #T_2b87c_row12_col12, #T_2b87c_row12_col14, #T_2b87c_row12_col15, #T_2b87c_row13_col12, #T_2b87c_row13_col14, #T_2b87c_row13_col15, #T_2b87c_row14_col12, #T_2b87c_row14_col14, #T_2b87c_row14_col15, #T_2b87c_row15_col12, #T_2b87c_row15_col14, #T_2b87c_row15_col15, #T_2b87c_row16_col12, #T_2b87c_row16_col14, #T_2b87c_row16_col15, #T_2b87c_row17_col12, #T_2b87c_row17_col14, #T_2b87c_row17_col15 {\n",
       "  text-align: right;\n",
       "}\n",
       "#T_2b87c_row0_col13 {\n",
       "  text-align: right;\n",
       "  width: 10em;\n",
       "  background: linear-gradient(90deg, #00b894 36.8%, transparent 36.8%);\n",
       "}\n",
       "#T_2b87c_row1_col4, #T_2b87c_row2_col4, #T_2b87c_row3_col4, #T_2b87c_row4_col4, #T_2b87c_row5_col4, #T_2b87c_row6_col4, #T_2b87c_row7_col4, #T_2b87c_row8_col4, #T_2b87c_row9_col4, #T_2b87c_row10_col4, #T_2b87c_row11_col4 {\n",
       "  background-color: #f1c40f;\n",
       "  color: black;\n",
       "}\n",
       "#T_2b87c_row1_col5 {\n",
       "  text-align: right;\n",
       "  background-color: #c30424;\n",
       "  color: #f1f1f1;\n",
       "  width: 10em;\n",
       "  background: linear-gradient(90deg, #ff7f50 85.5%, transparent 85.5%);\n",
       "}\n",
       "#T_2b87c_row1_col6 {\n",
       "  text-align: right;\n",
       "  width: 10em;\n",
       "  background: linear-gradient(90deg, #ef4444 61.3%, transparent 61.3%);\n",
       "}\n",
       "#T_2b87c_row1_col7 {\n",
       "  text-align: right;\n",
       "  background-color: #9fbbda;\n",
       "  color: #000000;\n",
       "}\n",
       "#T_2b87c_row1_col8 {\n",
       "  text-align: right;\n",
       "  background-color: #00441b;\n",
       "  color: #f1f1f1;\n",
       "}\n",
       "#T_2b87c_row1_col9 {\n",
       "  text-align: right;\n",
       "  background-color: #000000;\n",
       "  color: #f1f1f1;\n",
       "}\n",
       "#T_2b87c_row1_col10 {\n",
       "  text-align: right;\n",
       "  background-color: #1e9a51;\n",
       "  color: #f1f1f1;\n",
       "}\n",
       "#T_2b87c_row1_col11 {\n",
       "  text-align: right;\n",
       "  width: 10em;\n",
       "  background: linear-gradient(90deg, #6c5ce7 100.0%, transparent 100.0%);\n",
       "}\n",
       "#T_2b87c_row1_col13 {\n",
       "  text-align: right;\n",
       "  width: 10em;\n",
       "  background: linear-gradient(90deg, #00b894 100.0%, transparent 100.0%);\n",
       "}\n",
       "#T_2b87c_row2_col5 {\n",
       "  text-align: right;\n",
       "  background-color: #e51e1d;\n",
       "  color: #f1f1f1;\n",
       "  width: 10em;\n",
       "  background: linear-gradient(90deg, #ff7f50 73.9%, transparent 73.9%);\n",
       "}\n",
       "#T_2b87c_row2_col6 {\n",
       "  text-align: right;\n",
       "  width: 10em;\n",
       "  background: linear-gradient(90deg, #ef4444 83.3%, transparent 83.3%);\n",
       "}\n",
       "#T_2b87c_row2_col7 {\n",
       "  text-align: right;\n",
       "  background-color: #519ec8;\n",
       "  color: #f1f1f1;\n",
       "}\n",
       "#T_2b87c_row2_col8 {\n",
       "  text-align: right;\n",
       "  background-color: #005622;\n",
       "  color: #f1f1f1;\n",
       "}\n",
       "#T_2b87c_row2_col9 {\n",
       "  text-align: right;\n",
       "  background-color: #686868;\n",
       "  color: #f1f1f1;\n",
       "}\n",
       "#T_2b87c_row2_col10 {\n",
       "  text-align: right;\n",
       "  background-color: #0f8446;\n",
       "  color: #f1f1f1;\n",
       "}\n",
       "#T_2b87c_row2_col11 {\n",
       "  text-align: right;\n",
       "  width: 10em;\n",
       "  background: linear-gradient(90deg, #6c5ce7 41.4%, transparent 41.4%);\n",
       "}\n",
       "#T_2b87c_row2_col13 {\n",
       "  text-align: right;\n",
       "  width: 10em;\n",
       "  background: linear-gradient(90deg, #00b894 82.8%, transparent 82.8%);\n",
       "}\n",
       "#T_2b87c_row3_col5 {\n",
       "  text-align: right;\n",
       "  background-color: #f03523;\n",
       "  color: #f1f1f1;\n",
       "  width: 10em;\n",
       "  background: linear-gradient(90deg, #ff7f50 68.6%, transparent 68.6%);\n",
       "}\n",
       "#T_2b87c_row3_col7 {\n",
       "  text-align: right;\n",
       "  background-color: #0e8496;\n",
       "  color: #f1f1f1;\n",
       "}\n",
       "#T_2b87c_row3_col8 {\n",
       "  text-align: right;\n",
       "  background-color: #aadfd3;\n",
       "  color: #000000;\n",
       "}\n",
       "#T_2b87c_row3_col9 {\n",
       "  text-align: right;\n",
       "  background-color: #474747;\n",
       "  color: #f1f1f1;\n",
       "}\n",
       "#T_2b87c_row3_col10, #T_2b87c_row5_col10 {\n",
       "  text-align: right;\n",
       "  background-color: #05713c;\n",
       "  color: #f1f1f1;\n",
       "}\n",
       "#T_2b87c_row3_col11 {\n",
       "  text-align: right;\n",
       "  width: 10em;\n",
       "  background: linear-gradient(90deg, #6c5ce7 58.6%, transparent 58.6%);\n",
       "}\n",
       "#T_2b87c_row3_col13 {\n",
       "  text-align: right;\n",
       "  width: 10em;\n",
       "  background: linear-gradient(90deg, #00b894 19.5%, transparent 19.5%);\n",
       "}\n",
       "#T_2b87c_row4_col5 {\n",
       "  text-align: right;\n",
       "  background-color: #f13824;\n",
       "  color: #f1f1f1;\n",
       "  width: 10em;\n",
       "  background: linear-gradient(90deg, #ff7f50 67.7%, transparent 67.7%);\n",
       "}\n",
       "#T_2b87c_row4_col6 {\n",
       "  text-align: right;\n",
       "  width: 10em;\n",
       "  background: linear-gradient(90deg, #ef4444 72.0%, transparent 72.0%);\n",
       "}\n",
       "#T_2b87c_row4_col7 {\n",
       "  text-align: right;\n",
       "  background-color: #b4c4df;\n",
       "  color: #000000;\n",
       "}\n",
       "#T_2b87c_row4_col8 {\n",
       "  text-align: right;\n",
       "  background-color: #0b7734;\n",
       "  color: #f1f1f1;\n",
       "}\n",
       "#T_2b87c_row4_col9 {\n",
       "  text-align: right;\n",
       "  background-color: #333333;\n",
       "  color: #f1f1f1;\n",
       "}\n",
       "#T_2b87c_row4_col10 {\n",
       "  text-align: right;\n",
       "  background-color: #279f53;\n",
       "  color: #f1f1f1;\n",
       "}\n",
       "#T_2b87c_row4_col11 {\n",
       "  text-align: right;\n",
       "  width: 10em;\n",
       "  background: linear-gradient(90deg, #6c5ce7 62.1%, transparent 62.1%);\n",
       "}\n",
       "#T_2b87c_row4_col13 {\n",
       "  text-align: right;\n",
       "  width: 10em;\n",
       "  background: linear-gradient(90deg, #00b894 31.0%, transparent 31.0%);\n",
       "}\n",
       "#T_2b87c_row5_col5 {\n",
       "  text-align: right;\n",
       "  background-color: #f33b25;\n",
       "  color: #f1f1f1;\n",
       "  width: 10em;\n",
       "  background: linear-gradient(90deg, #ff7f50 66.9%, transparent 66.9%);\n",
       "}\n",
       "#T_2b87c_row5_col7 {\n",
       "  text-align: right;\n",
       "  background-color: #027c7e;\n",
       "  color: #f1f1f1;\n",
       "}\n",
       "#T_2b87c_row5_col8, #T_2b87c_row9_col8, #T_2b87c_row12_col8 {\n",
       "  text-align: right;\n",
       "  background-color: #37a266;\n",
       "  color: #f1f1f1;\n",
       "}\n",
       "#T_2b87c_row5_col9, #T_2b87c_row9_col9, #T_2b87c_row12_col9 {\n",
       "  text-align: right;\n",
       "  background-color: #d3d3d3;\n",
       "  color: #000000;\n",
       "}\n",
       "#T_2b87c_row5_col11, #T_2b87c_row9_col11, #T_2b87c_row12_col11 {\n",
       "  text-align: right;\n",
       "  width: 10em;\n",
       "  background: linear-gradient(90deg, #6c5ce7 6.9%, transparent 6.9%);\n",
       "}\n",
       "#T_2b87c_row5_col13, #T_2b87c_row9_col13, #T_2b87c_row12_col13 {\n",
       "  text-align: right;\n",
       "  width: 10em;\n",
       "  background: linear-gradient(90deg, #00b894 13.8%, transparent 13.8%);\n",
       "}\n",
       "#T_2b87c_row6_col5 {\n",
       "  text-align: right;\n",
       "  background-color: #f54026;\n",
       "  color: #f1f1f1;\n",
       "  width: 10em;\n",
       "  background: linear-gradient(90deg, #ff7f50 66.0%, transparent 66.0%);\n",
       "}\n",
       "#T_2b87c_row6_col6 {\n",
       "  text-align: right;\n",
       "  width: 10em;\n",
       "  background: linear-gradient(90deg, #ef4444 66.7%, transparent 66.7%);\n",
       "}\n",
       "#T_2b87c_row6_col7 {\n",
       "  text-align: right;\n",
       "  background-color: #c6cce3;\n",
       "  color: #000000;\n",
       "}\n",
       "#T_2b87c_row6_col8 {\n",
       "  text-align: right;\n",
       "  background-color: #1a843f;\n",
       "  color: #f1f1f1;\n",
       "}\n",
       "#T_2b87c_row6_col9 {\n",
       "  text-align: right;\n",
       "  background-color: #212121;\n",
       "  color: #f1f1f1;\n",
       "}\n",
       "#T_2b87c_row6_col10 {\n",
       "  text-align: right;\n",
       "  background-color: #3faa59;\n",
       "  color: #f1f1f1;\n",
       "}\n",
       "#T_2b87c_row6_col11 {\n",
       "  text-align: right;\n",
       "  width: 10em;\n",
       "  background: linear-gradient(90deg, #6c5ce7 89.7%, transparent 89.7%);\n",
       "}\n",
       "#T_2b87c_row6_col13 {\n",
       "  text-align: right;\n",
       "  width: 10em;\n",
       "  background: linear-gradient(90deg, #00b894 22.4%, transparent 22.4%);\n",
       "}\n",
       "#T_2b87c_row7_col5 {\n",
       "  text-align: right;\n",
       "  background-color: #fc6c33;\n",
       "  color: #f1f1f1;\n",
       "  width: 10em;\n",
       "  background: linear-gradient(90deg, #ff7f50 56.5%, transparent 56.5%);\n",
       "}\n",
       "#T_2b87c_row7_col6 {\n",
       "  text-align: right;\n",
       "  width: 10em;\n",
       "  background: linear-gradient(90deg, #ef4444 88.7%, transparent 88.7%);\n",
       "}\n",
       "#T_2b87c_row7_col7 {\n",
       "  text-align: right;\n",
       "  background-color: #3b93c2;\n",
       "  color: #f1f1f1;\n",
       "}\n",
       "#T_2b87c_row7_col8 {\n",
       "  text-align: right;\n",
       "  background-color: #55b98f;\n",
       "  color: #f1f1f1;\n",
       "}\n",
       "#T_2b87c_row7_col9 {\n",
       "  text-align: right;\n",
       "  background-color: #777777;\n",
       "  color: #f1f1f1;\n",
       "}\n",
       "#T_2b87c_row7_col10 {\n",
       "  text-align: right;\n",
       "  background-color: #0d8044;\n",
       "  color: #f1f1f1;\n",
       "}\n",
       "#T_2b87c_row7_col11 {\n",
       "  text-align: right;\n",
       "  width: 10em;\n",
       "  background: linear-gradient(90deg, #6c5ce7 27.6%, transparent 27.6%);\n",
       "}\n",
       "#T_2b87c_row7_col13 {\n",
       "  text-align: right;\n",
       "  width: 10em;\n",
       "  background: linear-gradient(90deg, #00b894 18.4%, transparent 18.4%);\n",
       "}\n",
       "#T_2b87c_row8_col5 {\n",
       "  text-align: right;\n",
       "  background-color: #fd6e33;\n",
       "  color: #f1f1f1;\n",
       "  width: 10em;\n",
       "  background: linear-gradient(90deg, #ff7f50 55.9%, transparent 55.9%);\n",
       "}\n",
       "#T_2b87c_row8_col7 {\n",
       "  text-align: right;\n",
       "  background-color: #016755;\n",
       "  color: #f1f1f1;\n",
       "}\n",
       "#T_2b87c_row8_col8 {\n",
       "  text-align: right;\n",
       "  background-color: #e7f6f9;\n",
       "  color: #000000;\n",
       "}\n",
       "#T_2b87c_row8_col9 {\n",
       "  text-align: right;\n",
       "  background-color: #959595;\n",
       "  color: #f1f1f1;\n",
       "}\n",
       "#T_2b87c_row8_col10, #T_2b87c_row10_col10 {\n",
       "  text-align: right;\n",
       "  background-color: #026c39;\n",
       "  color: #f1f1f1;\n",
       "}\n",
       "#T_2b87c_row8_col11 {\n",
       "  text-align: right;\n",
       "  width: 10em;\n",
       "  background: linear-gradient(90deg, #6c5ce7 20.7%, transparent 20.7%);\n",
       "}\n",
       "#T_2b87c_row8_col13 {\n",
       "  text-align: right;\n",
       "  width: 10em;\n",
       "  background: linear-gradient(90deg, #00b894 8.3%, transparent 8.3%);\n",
       "}\n",
       "#T_2b87c_row9_col5 {\n",
       "  text-align: right;\n",
       "  background-color: #fd7435;\n",
       "  color: #f1f1f1;\n",
       "  width: 10em;\n",
       "  background: linear-gradient(90deg, #ff7f50 54.9%, transparent 54.9%);\n",
       "}\n",
       "#T_2b87c_row9_col7 {\n",
       "  text-align: right;\n",
       "  background-color: #66a9cf;\n",
       "  color: #f1f1f1;\n",
       "}\n",
       "#T_2b87c_row9_col10 {\n",
       "  text-align: right;\n",
       "  background-color: #118848;\n",
       "  color: #f1f1f1;\n",
       "}\n",
       "#T_2b87c_row10_col5 {\n",
       "  text-align: right;\n",
       "  background-color: #fd7c37;\n",
       "  color: #f1f1f1;\n",
       "  width: 10em;\n",
       "  background: linear-gradient(90deg, #ff7f50 53.4%, transparent 53.4%);\n",
       "}\n",
       "#T_2b87c_row10_col7 {\n",
       "  text-align: right;\n",
       "  background-color: #017369;\n",
       "  color: #f1f1f1;\n",
       "}\n",
       "#T_2b87c_row10_col8, #T_2b87c_row16_col8, #T_2b87c_row17_col8 {\n",
       "  text-align: right;\n",
       "  background-color: #7dccb5;\n",
       "  color: #000000;\n",
       "}\n",
       "#T_2b87c_row10_col9, #T_2b87c_row16_col9, #T_2b87c_row17_col9 {\n",
       "  text-align: right;\n",
       "  background-color: #f2f2f2;\n",
       "  color: #000000;\n",
       "}\n",
       "#T_2b87c_row10_col11, #T_2b87c_row16_col11, #T_2b87c_row17_col11 {\n",
       "  text-align: right;\n",
       "  width: 10em;\n",
       "  background: linear-gradient(90deg, #6c5ce7 3.4%, transparent 3.4%);\n",
       "}\n",
       "#T_2b87c_row10_col13, #T_2b87c_row14_col13, #T_2b87c_row16_col13, #T_2b87c_row17_col13 {\n",
       "  text-align: right;\n",
       "  width: 10em;\n",
       "  background: linear-gradient(90deg, #00b894 6.9%, transparent 6.9%);\n",
       "}\n",
       "#T_2b87c_row11_col5 {\n",
       "  text-align: right;\n",
       "  background-color: #fd8f3d;\n",
       "  color: #f1f1f1;\n",
       "  width: 10em;\n",
       "  background: linear-gradient(90deg, #ff7f50 49.4%, transparent 49.4%);\n",
       "}\n",
       "#T_2b87c_row11_col7 {\n",
       "  text-align: right;\n",
       "  background-color: #258bae;\n",
       "  color: #f1f1f1;\n",
       "}\n",
       "#T_2b87c_row11_col8 {\n",
       "  text-align: right;\n",
       "  background-color: #c0e7df;\n",
       "  color: #000000;\n",
       "}\n",
       "#T_2b87c_row11_col9 {\n",
       "  text-align: right;\n",
       "  background-color: #b9b9b9;\n",
       "  color: #000000;\n",
       "}\n",
       "#T_2b87c_row11_col10 {\n",
       "  text-align: right;\n",
       "  background-color: #097940;\n",
       "  color: #f1f1f1;\n",
       "}\n",
       "#T_2b87c_row11_col11 {\n",
       "  text-align: right;\n",
       "  width: 10em;\n",
       "  background: linear-gradient(90deg, #6c5ce7 10.3%, transparent 10.3%);\n",
       "}\n",
       "#T_2b87c_row11_col13 {\n",
       "  text-align: right;\n",
       "  width: 10em;\n",
       "  background: linear-gradient(90deg, #00b894 10.3%, transparent 10.3%);\n",
       "}\n",
       "#T_2b87c_row12_col4, #T_2b87c_row13_col4, #T_2b87c_row14_col4, #T_2b87c_row15_col4, #T_2b87c_row16_col4, #T_2b87c_row17_col4 {\n",
       "  background-color: #27ae60;\n",
       "  color: white;\n",
       "}\n",
       "#T_2b87c_row12_col5 {\n",
       "  text-align: right;\n",
       "  background-color: #feb04b;\n",
       "  color: #000000;\n",
       "  width: 10em;\n",
       "  background: linear-gradient(90deg, #ff7f50 38.2%, transparent 38.2%);\n",
       "}\n",
       "#T_2b87c_row12_col7 {\n",
       "  text-align: right;\n",
       "  background-color: #eee5f1;\n",
       "  color: #000000;\n",
       "}\n",
       "#T_2b87c_row12_col10 {\n",
       "  text-align: right;\n",
       "  background-color: #b9e176;\n",
       "  color: #000000;\n",
       "}\n",
       "#T_2b87c_row13_col5 {\n",
       "  text-align: right;\n",
       "  background-color: #feb34d;\n",
       "  color: #000000;\n",
       "  width: 10em;\n",
       "  background: linear-gradient(90deg, #ff7f50 37.2%, transparent 37.2%);\n",
       "}\n",
       "#T_2b87c_row13_col6 {\n",
       "  text-align: right;\n",
       "  width: 10em;\n",
       "  background: linear-gradient(90deg, #ef4444 78.0%, transparent 78.0%);\n",
       "}\n",
       "#T_2b87c_row13_col7 {\n",
       "  text-align: right;\n",
       "  background-color: #d7d5e8;\n",
       "  color: #000000;\n",
       "}\n",
       "#T_2b87c_row13_col8 {\n",
       "  text-align: right;\n",
       "  background-color: #ddf2f3;\n",
       "  color: #000000;\n",
       "}\n",
       "#T_2b87c_row13_col9 {\n",
       "  text-align: right;\n",
       "  background-color: #101010;\n",
       "  color: #f1f1f1;\n",
       "}\n",
       "#T_2b87c_row13_col10 {\n",
       "  text-align: right;\n",
       "  background-color: #4eb15d;\n",
       "  color: #f1f1f1;\n",
       "}\n",
       "#T_2b87c_row13_col11 {\n",
       "  text-align: right;\n",
       "  width: 10em;\n",
       "  background: linear-gradient(90deg, #6c5ce7 96.6%, transparent 96.6%);\n",
       "}\n",
       "#T_2b87c_row13_col13 {\n",
       "  text-align: right;\n",
       "  width: 10em;\n",
       "  background: linear-gradient(90deg, #00b894 14.9%, transparent 14.9%);\n",
       "}\n",
       "#T_2b87c_row14_col5 {\n",
       "  text-align: right;\n",
       "  background-color: #fed977;\n",
       "  color: #000000;\n",
       "  width: 10em;\n",
       "  background: linear-gradient(90deg, #ff7f50 24.6%, transparent 24.6%);\n",
       "}\n",
       "#T_2b87c_row14_col6 {\n",
       "  text-align: right;\n",
       "  width: 10em;\n",
       "  background: linear-gradient(90deg, #ef4444 94.7%, transparent 94.7%);\n",
       "}\n",
       "#T_2b87c_row14_col7 {\n",
       "  text-align: right;\n",
       "  background-color: #84b2d4;\n",
       "  color: #000000;\n",
       "}\n",
       "#T_2b87c_row14_col8 {\n",
       "  text-align: right;\n",
       "  background-color: #eff9fb;\n",
       "  color: #000000;\n",
       "}\n",
       "#T_2b87c_row14_col9 {\n",
       "  text-align: right;\n",
       "  background-color: #868686;\n",
       "  color: #f1f1f1;\n",
       "}\n",
       "#T_2b87c_row14_col10 {\n",
       "  text-align: right;\n",
       "  background-color: #138c4a;\n",
       "  color: #f1f1f1;\n",
       "}\n",
       "#T_2b87c_row14_col11 {\n",
       "  text-align: right;\n",
       "  width: 10em;\n",
       "  background: linear-gradient(90deg, #6c5ce7 24.1%, transparent 24.1%);\n",
       "}\n",
       "#T_2b87c_row15_col5 {\n",
       "  text-align: right;\n",
       "  background-color: #fedd7e;\n",
       "  color: #000000;\n",
       "  width: 10em;\n",
       "  background: linear-gradient(90deg, #ff7f50 22.7%, transparent 22.7%);\n",
       "}\n",
       "#T_2b87c_row15_col7 {\n",
       "  text-align: right;\n",
       "  background-color: #f7eef6;\n",
       "  color: #000000;\n",
       "}\n",
       "#T_2b87c_row15_col8 {\n",
       "  text-align: right;\n",
       "  background-color: #d2eeeb;\n",
       "  color: #000000;\n",
       "}\n",
       "#T_2b87c_row15_col9 {\n",
       "  text-align: right;\n",
       "  background-color: #a8a8a8;\n",
       "  color: #f1f1f1;\n",
       "}\n",
       "#T_2b87c_row15_col10 {\n",
       "  text-align: right;\n",
       "  background-color: #ddf191;\n",
       "  color: #000000;\n",
       "}\n",
       "#T_2b87c_row15_col11 {\n",
       "  text-align: right;\n",
       "  width: 10em;\n",
       "  background: linear-gradient(90deg, #6c5ce7 17.2%, transparent 17.2%);\n",
       "}\n",
       "#T_2b87c_row15_col13 {\n",
       "  text-align: right;\n",
       "  width: 10em;\n",
       "  background: linear-gradient(90deg, #00b894 11.5%, transparent 11.5%);\n",
       "}\n",
       "#T_2b87c_row16_col5 {\n",
       "  text-align: right;\n",
       "  background-color: #ffe58f;\n",
       "  color: #000000;\n",
       "  width: 10em;\n",
       "  background: linear-gradient(90deg, #ff7f50 17.6%, transparent 17.6%);\n",
       "}\n",
       "#T_2b87c_row16_col7 {\n",
       "  text-align: right;\n",
       "  background-color: #fff7fb;\n",
       "  color: #000000;\n",
       "}\n",
       "#T_2b87c_row16_col10 {\n",
       "  text-align: right;\n",
       "  background-color: #a50026;\n",
       "  color: #f1f1f1;\n",
       "}\n",
       "#T_2b87c_row17_col5 {\n",
       "  text-align: right;\n",
       "  background-color: #ffeea3;\n",
       "  color: #000000;\n",
       "  width: 10em;\n",
       "  background: linear-gradient(90deg, #ff7f50 11.9%, transparent 11.9%);\n",
       "}\n",
       "#T_2b87c_row17_col6 {\n",
       "  text-align: right;\n",
       "  width: 10em;\n",
       "  background: linear-gradient(90deg, #ef4444 100.0%, transparent 100.0%);\n",
       "}\n",
       "#T_2b87c_row17_col7 {\n",
       "  text-align: right;\n",
       "  background-color: #e3dded;\n",
       "  color: #000000;\n",
       "}\n",
       "#T_2b87c_row17_col10 {\n",
       "  text-align: right;\n",
       "  background-color: #b7e075;\n",
       "  color: #000000;\n",
       "}\n",
       "</style>\n",
       "<table id=\"T_2b87c\">\n",
       "  <thead>\n",
       "    <tr>\n",
       "      <th id=\"T_2b87c_level0_col0\" class=\"col_heading level0 col0\" >Rank</th>\n",
       "      <th id=\"T_2b87c_level0_col1\" class=\"col_heading level0 col1\" >🏆</th>\n",
       "      <th id=\"T_2b87c_level0_col2\" class=\"col_heading level0 col2\" >Closer</th>\n",
       "      <th id=\"T_2b87c_level0_col3\" class=\"col_heading level0 col3\" >Title</th>\n",
       "      <th id=\"T_2b87c_level0_col4\" class=\"col_heading level0 col4\" >Tier</th>\n",
       "      <th id=\"T_2b87c_level0_col5\" class=\"col_heading level0 col5\" >Adj POWER SCORE (0–100)</th>\n",
       "      <th id=\"T_2b87c_level0_col6\" class=\"col_heading level0 col6\" >Re-open Penalty (0–15)</th>\n",
       "      <th id=\"T_2b87c_level0_col7\" class=\"col_heading level0 col7\" >Speed Score (0–100)</th>\n",
       "      <th id=\"T_2b87c_level0_col8\" class=\"col_heading level0 col8\" >Throughput Score (0–100)</th>\n",
       "      <th id=\"T_2b87c_level0_col9\" class=\"col_heading level0 col9\" >Volume Score (0–100)</th>\n",
       "      <th id=\"T_2b87c_level0_col10\" class=\"col_heading level0 col10\" >Avg Close (h)</th>\n",
       "      <th id=\"T_2b87c_level0_col11\" class=\"col_heading level0 col11\" >Tickets Closed</th>\n",
       "      <th id=\"T_2b87c_level0_col12\" class=\"col_heading level0 col12\" >Unique Clients</th>\n",
       "      <th id=\"T_2b87c_level0_col13\" class=\"col_heading level0 col13\" >Closed per Client</th>\n",
       "      <th id=\"T_2b87c_level0_col14\" class=\"col_heading level0 col14\" >Reopens</th>\n",
       "      <th id=\"T_2b87c_level0_col15\" class=\"col_heading level0 col15\" >Re-open Rate</th>\n",
       "    </tr>\n",
       "  </thead>\n",
       "  <tbody>\n",
       "    <tr>\n",
       "      <td id=\"T_2b87c_row0_col0\" class=\"data row0 col0\" >1</td>\n",
       "      <td id=\"T_2b87c_row0_col1\" class=\"data row0 col1\" >🥇</td>\n",
       "      <td id=\"T_2b87c_row0_col2\" class=\"data row0 col2\" >Nelly</td>\n",
       "      <td id=\"T_2b87c_row0_col3\" class=\"data row0 col3\" >Lightning Closer</td>\n",
       "      <td id=\"T_2b87c_row0_col4\" class=\"data row0 col4\" >Mythic 🟣 ⬆︎</td>\n",
       "      <td id=\"T_2b87c_row0_col5\" class=\"data row0 col5\" >81.2</td>\n",
       "      <td id=\"T_2b87c_row0_col6\" class=\"data row0 col6\" >4.6</td>\n",
       "      <td id=\"T_2b87c_row0_col7\" class=\"data row0 col7\" >94.4</td>\n",
       "      <td id=\"T_2b87c_row0_col8\" class=\"data row0 col8\" >88.9</td>\n",
       "      <td id=\"T_2b87c_row0_col9\" class=\"data row0 col9\" >72.2</td>\n",
       "      <td id=\"T_2b87c_row0_col10\" class=\"data row0 col10\" >1.15</td>\n",
       "      <td id=\"T_2b87c_row0_col11\" class=\"data row0 col11\" >16</td>\n",
       "      <td id=\"T_2b87c_row0_col12\" class=\"data row0 col12\" >3</td>\n",
       "      <td id=\"T_2b87c_row0_col13\" class=\"data row0 col13\" >5.33</td>\n",
       "      <td id=\"T_2b87c_row0_col14\" class=\"data row0 col14\" >0</td>\n",
       "      <td id=\"T_2b87c_row0_col15\" class=\"data row0 col15\" >0.00%</td>\n",
       "    </tr>\n",
       "    <tr>\n",
       "      <td id=\"T_2b87c_row1_col0\" class=\"data row1 col0\" >2</td>\n",
       "      <td id=\"T_2b87c_row1_col1\" class=\"data row1 col1\" >🥈</td>\n",
       "      <td id=\"T_2b87c_row1_col2\" class=\"data row1 col2\" >Gui</td>\n",
       "      <td id=\"T_2b87c_row1_col3\" class=\"data row1 col3\" >Steady Operator</td>\n",
       "      <td id=\"T_2b87c_row1_col4\" class=\"data row1 col4\" >Legendary 🟡 ⬆︎</td>\n",
       "      <td id=\"T_2b87c_row1_col5\" class=\"data row1 col5\" >69.4</td>\n",
       "      <td id=\"T_2b87c_row1_col6\" class=\"data row1 col6\" >9.2</td>\n",
       "      <td id=\"T_2b87c_row1_col7\" class=\"data row1 col7\" >38.9</td>\n",
       "      <td id=\"T_2b87c_row1_col8\" class=\"data row1 col8\" >100.0</td>\n",
       "      <td id=\"T_2b87c_row1_col9\" class=\"data row1 col9\" >100.0</td>\n",
       "      <td id=\"T_2b87c_row1_col10\" class=\"data row1 col10\" >12.46</td>\n",
       "      <td id=\"T_2b87c_row1_col11\" class=\"data row1 col11\" >29</td>\n",
       "      <td id=\"T_2b87c_row1_col12\" class=\"data row1 col12\" >2</td>\n",
       "      <td id=\"T_2b87c_row1_col13\" class=\"data row1 col13\" >14.50</td>\n",
       "      <td id=\"T_2b87c_row1_col14\" class=\"data row1 col14\" >1</td>\n",
       "      <td id=\"T_2b87c_row1_col15\" class=\"data row1 col15\" >3.45%</td>\n",
       "    </tr>\n",
       "    <tr>\n",
       "      <td id=\"T_2b87c_row2_col0\" class=\"data row2 col0\" >3</td>\n",
       "      <td id=\"T_2b87c_row2_col1\" class=\"data row2 col1\" >🥉</td>\n",
       "      <td id=\"T_2b87c_row2_col2\" class=\"data row2 col2\" >Zarmeen</td>\n",
       "      <td id=\"T_2b87c_row2_col3\" class=\"data row2 col3\" >Lightning Closer</td>\n",
       "      <td id=\"T_2b87c_row2_col4\" class=\"data row2 col4\" >Legendary 🟡 ⬆︎</td>\n",
       "      <td id=\"T_2b87c_row2_col5\" class=\"data row2 col5\" >60.0</td>\n",
       "      <td id=\"T_2b87c_row2_col6\" class=\"data row2 col6\" >12.5</td>\n",
       "      <td id=\"T_2b87c_row2_col7\" class=\"data row2 col7\" >55.6</td>\n",
       "      <td id=\"T_2b87c_row2_col8\" class=\"data row2 col8\" >94.4</td>\n",
       "      <td id=\"T_2b87c_row2_col9\" class=\"data row2 col9\" >66.7</td>\n",
       "      <td id=\"T_2b87c_row2_col10\" class=\"data row2 col10\" >7.59</td>\n",
       "      <td id=\"T_2b87c_row2_col11\" class=\"data row2 col11\" >12</td>\n",
       "      <td id=\"T_2b87c_row2_col12\" class=\"data row2 col12\" >1</td>\n",
       "      <td id=\"T_2b87c_row2_col13\" class=\"data row2 col13\" >12.00</td>\n",
       "      <td id=\"T_2b87c_row2_col14\" class=\"data row2 col14\" >1</td>\n",
       "      <td id=\"T_2b87c_row2_col15\" class=\"data row2 col15\" >8.33%</td>\n",
       "    </tr>\n",
       "    <tr>\n",
       "      <td id=\"T_2b87c_row3_col0\" class=\"data row3 col0\" >4</td>\n",
       "      <td id=\"T_2b87c_row3_col1\" class=\"data row3 col1\" ></td>\n",
       "      <td id=\"T_2b87c_row3_col2\" class=\"data row3 col2\" >Arslan</td>\n",
       "      <td id=\"T_2b87c_row3_col3\" class=\"data row3 col3\" >Lightning Closer</td>\n",
       "      <td id=\"T_2b87c_row3_col4\" class=\"data row3 col4\" >Legendary 🟡 ⬆︎</td>\n",
       "      <td id=\"T_2b87c_row3_col5\" class=\"data row3 col5\" >55.7</td>\n",
       "      <td id=\"T_2b87c_row3_col6\" class=\"data row3 col6\" >4.6</td>\n",
       "      <td id=\"T_2b87c_row3_col7\" class=\"data row3 col7\" >72.2</td>\n",
       "      <td id=\"T_2b87c_row3_col8\" class=\"data row3 col8\" >33.3</td>\n",
       "      <td id=\"T_2b87c_row3_col9\" class=\"data row3 col9\" >77.8</td>\n",
       "      <td id=\"T_2b87c_row3_col10\" class=\"data row3 col10\" >3.37</td>\n",
       "      <td id=\"T_2b87c_row3_col11\" class=\"data row3 col11\" >17</td>\n",
       "      <td id=\"T_2b87c_row3_col12\" class=\"data row3 col12\" >6</td>\n",
       "      <td id=\"T_2b87c_row3_col13\" class=\"data row3 col13\" >2.83</td>\n",
       "      <td id=\"T_2b87c_row3_col14\" class=\"data row3 col14\" >0</td>\n",
       "      <td id=\"T_2b87c_row3_col15\" class=\"data row3 col15\" >0.00%</td>\n",
       "    </tr>\n",
       "    <tr>\n",
       "      <td id=\"T_2b87c_row4_col0\" class=\"data row4 col0\" >5</td>\n",
       "      <td id=\"T_2b87c_row4_col1\" class=\"data row4 col1\" ></td>\n",
       "      <td id=\"T_2b87c_row4_col2\" class=\"data row4 col2\" >Mael</td>\n",
       "      <td id=\"T_2b87c_row4_col3\" class=\"data row4 col3\" >Steady Operator</td>\n",
       "      <td id=\"T_2b87c_row4_col4\" class=\"data row4 col4\" >Legendary 🟡 ⬆︎</td>\n",
       "      <td id=\"T_2b87c_row4_col5\" class=\"data row4 col5\" >55.0</td>\n",
       "      <td id=\"T_2b87c_row4_col6\" class=\"data row4 col6\" >10.8</td>\n",
       "      <td id=\"T_2b87c_row4_col7\" class=\"data row4 col7\" >33.3</td>\n",
       "      <td id=\"T_2b87c_row4_col8\" class=\"data row4 col8\" >83.3</td>\n",
       "      <td id=\"T_2b87c_row4_col9\" class=\"data row4 col9\" >83.3</td>\n",
       "      <td id=\"T_2b87c_row4_col10\" class=\"data row4 col10\" >13.87</td>\n",
       "      <td id=\"T_2b87c_row4_col11\" class=\"data row4 col11\" >18</td>\n",
       "      <td id=\"T_2b87c_row4_col12\" class=\"data row4 col12\" >4</td>\n",
       "      <td id=\"T_2b87c_row4_col13\" class=\"data row4 col13\" >4.50</td>\n",
       "      <td id=\"T_2b87c_row4_col14\" class=\"data row4 col14\" >1</td>\n",
       "      <td id=\"T_2b87c_row4_col15\" class=\"data row4 col15\" >5.56%</td>\n",
       "    </tr>\n",
       "    <tr>\n",
       "      <td id=\"T_2b87c_row5_col0\" class=\"data row5 col0\" >6</td>\n",
       "      <td id=\"T_2b87c_row5_col1\" class=\"data row5 col1\" ></td>\n",
       "      <td id=\"T_2b87c_row5_col2\" class=\"data row5 col2\" >Juani</td>\n",
       "      <td id=\"T_2b87c_row5_col3\" class=\"data row5 col3\" >Lightning Closer</td>\n",
       "      <td id=\"T_2b87c_row5_col4\" class=\"data row5 col4\" >Legendary 🟡 ⬆︎</td>\n",
       "      <td id=\"T_2b87c_row5_col5\" class=\"data row5 col5\" >54.3</td>\n",
       "      <td id=\"T_2b87c_row5_col6\" class=\"data row5 col6\" >4.6</td>\n",
       "      <td id=\"T_2b87c_row5_col7\" class=\"data row5 col7\" >77.8</td>\n",
       "      <td id=\"T_2b87c_row5_col8\" class=\"data row5 col8\" >66.7</td>\n",
       "      <td id=\"T_2b87c_row5_col9\" class=\"data row5 col9\" >27.8</td>\n",
       "      <td id=\"T_2b87c_row5_col10\" class=\"data row5 col10\" >3.30</td>\n",
       "      <td id=\"T_2b87c_row5_col11\" class=\"data row5 col11\" >2</td>\n",
       "      <td id=\"T_2b87c_row5_col12\" class=\"data row5 col12\" >1</td>\n",
       "      <td id=\"T_2b87c_row5_col13\" class=\"data row5 col13\" >2.00</td>\n",
       "      <td id=\"T_2b87c_row5_col14\" class=\"data row5 col14\" >0</td>\n",
       "      <td id=\"T_2b87c_row5_col15\" class=\"data row5 col15\" >0.00%</td>\n",
       "    </tr>\n",
       "    <tr>\n",
       "      <td id=\"T_2b87c_row6_col0\" class=\"data row6 col0\" >7</td>\n",
       "      <td id=\"T_2b87c_row6_col1\" class=\"data row6 col1\" ></td>\n",
       "      <td id=\"T_2b87c_row6_col2\" class=\"data row6 col2\" >Annet</td>\n",
       "      <td id=\"T_2b87c_row6_col3\" class=\"data row6 col3\" >Steady Operator</td>\n",
       "      <td id=\"T_2b87c_row6_col4\" class=\"data row6 col4\" >Legendary 🟡 ⬆︎</td>\n",
       "      <td id=\"T_2b87c_row6_col5\" class=\"data row6 col5\" >53.6</td>\n",
       "      <td id=\"T_2b87c_row6_col6\" class=\"data row6 col6\" >10.0</td>\n",
       "      <td id=\"T_2b87c_row6_col7\" class=\"data row6 col7\" >27.8</td>\n",
       "      <td id=\"T_2b87c_row6_col8\" class=\"data row6 col8\" >77.8</td>\n",
       "      <td id=\"T_2b87c_row6_col9\" class=\"data row6 col9\" >88.9</td>\n",
       "      <td id=\"T_2b87c_row6_col10\" class=\"data row6 col10\" >17.01</td>\n",
       "      <td id=\"T_2b87c_row6_col11\" class=\"data row6 col11\" >26</td>\n",
       "      <td id=\"T_2b87c_row6_col12\" class=\"data row6 col12\" >8</td>\n",
       "      <td id=\"T_2b87c_row6_col13\" class=\"data row6 col13\" >3.25</td>\n",
       "      <td id=\"T_2b87c_row6_col14\" class=\"data row6 col14\" >1</td>\n",
       "      <td id=\"T_2b87c_row6_col15\" class=\"data row6 col15\" >3.85%</td>\n",
       "    </tr>\n",
       "    <tr>\n",
       "      <td id=\"T_2b87c_row7_col0\" class=\"data row7 col0\" >8</td>\n",
       "      <td id=\"T_2b87c_row7_col1\" class=\"data row7 col1\" ></td>\n",
       "      <td id=\"T_2b87c_row7_col2\" class=\"data row7 col2\" >Tristan</td>\n",
       "      <td id=\"T_2b87c_row7_col3\" class=\"data row7 col3\" >Lightning Closer</td>\n",
       "      <td id=\"T_2b87c_row7_col4\" class=\"data row7 col4\" >Legendary 🟡 ⬆︎</td>\n",
       "      <td id=\"T_2b87c_row7_col5\" class=\"data row7 col5\" >45.9</td>\n",
       "      <td id=\"T_2b87c_row7_col6\" class=\"data row7 col6\" >13.3</td>\n",
       "      <td id=\"T_2b87c_row7_col7\" class=\"data row7 col7\" >61.1</td>\n",
       "      <td id=\"T_2b87c_row7_col8\" class=\"data row7 col8\" >55.6</td>\n",
       "      <td id=\"T_2b87c_row7_col9\" class=\"data row7 col9\" >61.1</td>\n",
       "      <td id=\"T_2b87c_row7_col10\" class=\"data row7 col10\" >6.86</td>\n",
       "      <td id=\"T_2b87c_row7_col11\" class=\"data row7 col11\" >8</td>\n",
       "      <td id=\"T_2b87c_row7_col12\" class=\"data row7 col12\" >3</td>\n",
       "      <td id=\"T_2b87c_row7_col13\" class=\"data row7 col13\" >2.67</td>\n",
       "      <td id=\"T_2b87c_row7_col14\" class=\"data row7 col14\" >1</td>\n",
       "      <td id=\"T_2b87c_row7_col15\" class=\"data row7 col15\" >12.50%</td>\n",
       "    </tr>\n",
       "    <tr>\n",
       "      <td id=\"T_2b87c_row8_col0\" class=\"data row8 col0\" >9</td>\n",
       "      <td id=\"T_2b87c_row8_col1\" class=\"data row8 col1\" ></td>\n",
       "      <td id=\"T_2b87c_row8_col2\" class=\"data row8 col2\" >Razvan</td>\n",
       "      <td id=\"T_2b87c_row8_col3\" class=\"data row8 col3\" >Lightning Closer</td>\n",
       "      <td id=\"T_2b87c_row8_col4\" class=\"data row8 col4\" >Legendary 🟡 ⬆︎</td>\n",
       "      <td id=\"T_2b87c_row8_col5\" class=\"data row8 col5\" >45.4</td>\n",
       "      <td id=\"T_2b87c_row8_col6\" class=\"data row8 col6\" >4.6</td>\n",
       "      <td id=\"T_2b87c_row8_col7\" class=\"data row8 col7\" >88.9</td>\n",
       "      <td id=\"T_2b87c_row8_col8\" class=\"data row8 col8\" >11.1</td>\n",
       "      <td id=\"T_2b87c_row8_col9\" class=\"data row8 col9\" >50.0</td>\n",
       "      <td id=\"T_2b87c_row8_col10\" class=\"data row8 col10\" >2.12</td>\n",
       "      <td id=\"T_2b87c_row8_col11\" class=\"data row8 col11\" >6</td>\n",
       "      <td id=\"T_2b87c_row8_col12\" class=\"data row8 col12\" >5</td>\n",
       "      <td id=\"T_2b87c_row8_col13\" class=\"data row8 col13\" >1.20</td>\n",
       "      <td id=\"T_2b87c_row8_col14\" class=\"data row8 col14\" >0</td>\n",
       "      <td id=\"T_2b87c_row8_col15\" class=\"data row8 col15\" >0.00%</td>\n",
       "    </tr>\n",
       "    <tr>\n",
       "      <td id=\"T_2b87c_row9_col0\" class=\"data row9 col0\" >10</td>\n",
       "      <td id=\"T_2b87c_row9_col1\" class=\"data row9 col1\" ></td>\n",
       "      <td id=\"T_2b87c_row9_col2\" class=\"data row9 col2\" >Marina</td>\n",
       "      <td id=\"T_2b87c_row9_col3\" class=\"data row9 col3\" >Lightning Closer</td>\n",
       "      <td id=\"T_2b87c_row9_col4\" class=\"data row9 col4\" >Legendary 🟡 ⬆︎</td>\n",
       "      <td id=\"T_2b87c_row9_col5\" class=\"data row9 col5\" >44.6</td>\n",
       "      <td id=\"T_2b87c_row9_col6\" class=\"data row9 col6\" >4.6</td>\n",
       "      <td id=\"T_2b87c_row9_col7\" class=\"data row9 col7\" >50.0</td>\n",
       "      <td id=\"T_2b87c_row9_col8\" class=\"data row9 col8\" >66.7</td>\n",
       "      <td id=\"T_2b87c_row9_col9\" class=\"data row9 col9\" >27.8</td>\n",
       "      <td id=\"T_2b87c_row9_col10\" class=\"data row9 col10\" >8.32</td>\n",
       "      <td id=\"T_2b87c_row9_col11\" class=\"data row9 col11\" >2</td>\n",
       "      <td id=\"T_2b87c_row9_col12\" class=\"data row9 col12\" >1</td>\n",
       "      <td id=\"T_2b87c_row9_col13\" class=\"data row9 col13\" >2.00</td>\n",
       "      <td id=\"T_2b87c_row9_col14\" class=\"data row9 col14\" >0</td>\n",
       "      <td id=\"T_2b87c_row9_col15\" class=\"data row9 col15\" >0.00%</td>\n",
       "    </tr>\n",
       "    <tr>\n",
       "      <td id=\"T_2b87c_row10_col0\" class=\"data row10 col0\" >11</td>\n",
       "      <td id=\"T_2b87c_row10_col1\" class=\"data row10 col1\" ></td>\n",
       "      <td id=\"T_2b87c_row10_col2\" class=\"data row10 col2\" >Gabi</td>\n",
       "      <td id=\"T_2b87c_row10_col3\" class=\"data row10 col3\" >Lightning Closer</td>\n",
       "      <td id=\"T_2b87c_row10_col4\" class=\"data row10 col4\" >Legendary 🟡 ⬆︎</td>\n",
       "      <td id=\"T_2b87c_row10_col5\" class=\"data row10 col5\" >43.4</td>\n",
       "      <td id=\"T_2b87c_row10_col6\" class=\"data row10 col6\" >4.6</td>\n",
       "      <td id=\"T_2b87c_row10_col7\" class=\"data row10 col7\" >83.3</td>\n",
       "      <td id=\"T_2b87c_row10_col8\" class=\"data row10 col8\" >44.4</td>\n",
       "      <td id=\"T_2b87c_row10_col9\" class=\"data row10 col9\" >11.1</td>\n",
       "      <td id=\"T_2b87c_row10_col10\" class=\"data row10 col10\" >2.15</td>\n",
       "      <td id=\"T_2b87c_row10_col11\" class=\"data row10 col11\" >1</td>\n",
       "      <td id=\"T_2b87c_row10_col12\" class=\"data row10 col12\" >1</td>\n",
       "      <td id=\"T_2b87c_row10_col13\" class=\"data row10 col13\" >1.00</td>\n",
       "      <td id=\"T_2b87c_row10_col14\" class=\"data row10 col14\" >0</td>\n",
       "      <td id=\"T_2b87c_row10_col15\" class=\"data row10 col15\" >0.00%</td>\n",
       "    </tr>\n",
       "    <tr>\n",
       "      <td id=\"T_2b87c_row11_col0\" class=\"data row11 col0\" >12</td>\n",
       "      <td id=\"T_2b87c_row11_col1\" class=\"data row11 col1\" ></td>\n",
       "      <td id=\"T_2b87c_row11_col2\" class=\"data row11 col2\" >Connie</td>\n",
       "      <td id=\"T_2b87c_row11_col3\" class=\"data row11 col3\" >Lightning Closer</td>\n",
       "      <td id=\"T_2b87c_row11_col4\" class=\"data row11 col4\" >Legendary 🟡 ⬆︎</td>\n",
       "      <td id=\"T_2b87c_row11_col5\" class=\"data row11 col5\" >40.1</td>\n",
       "      <td id=\"T_2b87c_row11_col6\" class=\"data row11 col6\" >4.6</td>\n",
       "      <td id=\"T_2b87c_row11_col7\" class=\"data row11 col7\" >66.7</td>\n",
       "      <td id=\"T_2b87c_row11_col8\" class=\"data row11 col8\" >27.8</td>\n",
       "      <td id=\"T_2b87c_row11_col9\" class=\"data row11 col9\" >38.9</td>\n",
       "      <td id=\"T_2b87c_row11_col10\" class=\"data row11 col10\" >4.93</td>\n",
       "      <td id=\"T_2b87c_row11_col11\" class=\"data row11 col11\" >3</td>\n",
       "      <td id=\"T_2b87c_row11_col12\" class=\"data row11 col12\" >2</td>\n",
       "      <td id=\"T_2b87c_row11_col13\" class=\"data row11 col13\" >1.50</td>\n",
       "      <td id=\"T_2b87c_row11_col14\" class=\"data row11 col14\" >0</td>\n",
       "      <td id=\"T_2b87c_row11_col15\" class=\"data row11 col15\" >0.00%</td>\n",
       "    </tr>\n",
       "    <tr>\n",
       "      <td id=\"T_2b87c_row12_col0\" class=\"data row12 col0\" >13</td>\n",
       "      <td id=\"T_2b87c_row12_col1\" class=\"data row12 col1\" ></td>\n",
       "      <td id=\"T_2b87c_row12_col2\" class=\"data row12 col2\" >Rohit</td>\n",
       "      <td id=\"T_2b87c_row12_col3\" class=\"data row12 col3\" >Steady Operator</td>\n",
       "      <td id=\"T_2b87c_row12_col4\" class=\"data row12 col4\" >Rare 🟢</td>\n",
       "      <td id=\"T_2b87c_row12_col5\" class=\"data row12 col5\" >31.0</td>\n",
       "      <td id=\"T_2b87c_row12_col6\" class=\"data row12 col6\" >4.6</td>\n",
       "      <td id=\"T_2b87c_row12_col7\" class=\"data row12 col7\" >11.1</td>\n",
       "      <td id=\"T_2b87c_row12_col8\" class=\"data row12 col8\" >66.7</td>\n",
       "      <td id=\"T_2b87c_row12_col9\" class=\"data row12 col9\" >27.8</td>\n",
       "      <td id=\"T_2b87c_row12_col10\" class=\"data row12 col10\" >37.02</td>\n",
       "      <td id=\"T_2b87c_row12_col11\" class=\"data row12 col11\" >2</td>\n",
       "      <td id=\"T_2b87c_row12_col12\" class=\"data row12 col12\" >1</td>\n",
       "      <td id=\"T_2b87c_row12_col13\" class=\"data row12 col13\" >2.00</td>\n",
       "      <td id=\"T_2b87c_row12_col14\" class=\"data row12 col14\" >0</td>\n",
       "      <td id=\"T_2b87c_row12_col15\" class=\"data row12 col15\" >0.00%</td>\n",
       "    </tr>\n",
       "    <tr>\n",
       "      <td id=\"T_2b87c_row13_col0\" class=\"data row13 col0\" >14</td>\n",
       "      <td id=\"T_2b87c_row13_col1\" class=\"data row13 col1\" ></td>\n",
       "      <td id=\"T_2b87c_row13_col2\" class=\"data row13 col2\" >Theo</td>\n",
       "      <td id=\"T_2b87c_row13_col3\" class=\"data row13 col3\" >Steady Operator</td>\n",
       "      <td id=\"T_2b87c_row13_col4\" class=\"data row13 col4\" >Rare 🟢</td>\n",
       "      <td id=\"T_2b87c_row13_col5\" class=\"data row13 col5\" >30.2</td>\n",
       "      <td id=\"T_2b87c_row13_col6\" class=\"data row13 col6\" >11.7</td>\n",
       "      <td id=\"T_2b87c_row13_col7\" class=\"data row13 col7\" >22.2</td>\n",
       "      <td id=\"T_2b87c_row13_col8\" class=\"data row13 col8\" >16.7</td>\n",
       "      <td id=\"T_2b87c_row13_col9\" class=\"data row13 col9\" >94.4</td>\n",
       "      <td id=\"T_2b87c_row13_col10\" class=\"data row13 col10\" >19.02</td>\n",
       "      <td id=\"T_2b87c_row13_col11\" class=\"data row13 col11\" >28</td>\n",
       "      <td id=\"T_2b87c_row13_col12\" class=\"data row13 col12\" >13</td>\n",
       "      <td id=\"T_2b87c_row13_col13\" class=\"data row13 col13\" >2.15</td>\n",
       "      <td id=\"T_2b87c_row13_col14\" class=\"data row13 col14\" >2</td>\n",
       "      <td id=\"T_2b87c_row13_col15\" class=\"data row13 col15\" >7.14%</td>\n",
       "    </tr>\n",
       "    <tr>\n",
       "      <td id=\"T_2b87c_row14_col0\" class=\"data row14 col0\" >15</td>\n",
       "      <td id=\"T_2b87c_row14_col1\" class=\"data row14 col1\" ></td>\n",
       "      <td id=\"T_2b87c_row14_col2\" class=\"data row14 col2\" >Alvaro I</td>\n",
       "      <td id=\"T_2b87c_row14_col3\" class=\"data row14 col3\" >Lightning Closer</td>\n",
       "      <td id=\"T_2b87c_row14_col4\" class=\"data row14 col4\" >Rare 🟢</td>\n",
       "      <td id=\"T_2b87c_row14_col5\" class=\"data row14 col5\" >20.0</td>\n",
       "      <td id=\"T_2b87c_row14_col6\" class=\"data row14 col6\" >14.2</td>\n",
       "      <td id=\"T_2b87c_row14_col7\" class=\"data row14 col7\" >44.4</td>\n",
       "      <td id=\"T_2b87c_row14_col8\" class=\"data row14 col8\" >5.6</td>\n",
       "      <td id=\"T_2b87c_row14_col9\" class=\"data row14 col9\" >55.6</td>\n",
       "      <td id=\"T_2b87c_row14_col10\" class=\"data row14 col10\" >9.23</td>\n",
       "      <td id=\"T_2b87c_row14_col11\" class=\"data row14 col11\" >7</td>\n",
       "      <td id=\"T_2b87c_row14_col12\" class=\"data row14 col12\" >7</td>\n",
       "      <td id=\"T_2b87c_row14_col13\" class=\"data row14 col13\" >1.00</td>\n",
       "      <td id=\"T_2b87c_row14_col14\" class=\"data row14 col14\" >1</td>\n",
       "      <td id=\"T_2b87c_row14_col15\" class=\"data row14 col15\" >14.29%</td>\n",
       "    </tr>\n",
       "    <tr>\n",
       "      <td id=\"T_2b87c_row15_col0\" class=\"data row15 col0\" >16</td>\n",
       "      <td id=\"T_2b87c_row15_col1\" class=\"data row15 col1\" ></td>\n",
       "      <td id=\"T_2b87c_row15_col2\" class=\"data row15 col2\" >Christian Winter</td>\n",
       "      <td id=\"T_2b87c_row15_col3\" class=\"data row15 col3\" >Steady Operator</td>\n",
       "      <td id=\"T_2b87c_row15_col4\" class=\"data row15 col4\" >Rare 🟢</td>\n",
       "      <td id=\"T_2b87c_row15_col5\" class=\"data row15 col5\" >18.4</td>\n",
       "      <td id=\"T_2b87c_row15_col6\" class=\"data row15 col6\" >4.6</td>\n",
       "      <td id=\"T_2b87c_row15_col7\" class=\"data row15 col7\" >5.6</td>\n",
       "      <td id=\"T_2b87c_row15_col8\" class=\"data row15 col8\" >22.2</td>\n",
       "      <td id=\"T_2b87c_row15_col9\" class=\"data row15 col9\" >44.4</td>\n",
       "      <td id=\"T_2b87c_row15_col10\" class=\"data row15 col10\" >44.97</td>\n",
       "      <td id=\"T_2b87c_row15_col11\" class=\"data row15 col11\" >5</td>\n",
       "      <td id=\"T_2b87c_row15_col12\" class=\"data row15 col12\" >3</td>\n",
       "      <td id=\"T_2b87c_row15_col13\" class=\"data row15 col13\" >1.67</td>\n",
       "      <td id=\"T_2b87c_row15_col14\" class=\"data row15 col14\" >0</td>\n",
       "      <td id=\"T_2b87c_row15_col15\" class=\"data row15 col15\" >0.00%</td>\n",
       "    </tr>\n",
       "    <tr>\n",
       "      <td id=\"T_2b87c_row16_col0\" class=\"data row16 col0\" >17</td>\n",
       "      <td id=\"T_2b87c_row16_col1\" class=\"data row16 col1\" ></td>\n",
       "      <td id=\"T_2b87c_row16_col2\" class=\"data row16 col2\" >Sergiu</td>\n",
       "      <td id=\"T_2b87c_row16_col3\" class=\"data row16 col3\" >Steady Operator</td>\n",
       "      <td id=\"T_2b87c_row16_col4\" class=\"data row16 col4\" >Rare 🟢</td>\n",
       "      <td id=\"T_2b87c_row16_col5\" class=\"data row16 col5\" >14.3</td>\n",
       "      <td id=\"T_2b87c_row16_col6\" class=\"data row16 col6\" >4.6</td>\n",
       "      <td id=\"T_2b87c_row16_col7\" class=\"data row16 col7\" >0.0</td>\n",
       "      <td id=\"T_2b87c_row16_col8\" class=\"data row16 col8\" >44.4</td>\n",
       "      <td id=\"T_2b87c_row16_col9\" class=\"data row16 col9\" >11.1</td>\n",
       "      <td id=\"T_2b87c_row16_col10\" class=\"data row16 col10\" >107.39</td>\n",
       "      <td id=\"T_2b87c_row16_col11\" class=\"data row16 col11\" >1</td>\n",
       "      <td id=\"T_2b87c_row16_col12\" class=\"data row16 col12\" >1</td>\n",
       "      <td id=\"T_2b87c_row16_col13\" class=\"data row16 col13\" >1.00</td>\n",
       "      <td id=\"T_2b87c_row16_col14\" class=\"data row16 col14\" >0</td>\n",
       "      <td id=\"T_2b87c_row16_col15\" class=\"data row16 col15\" >0.00%</td>\n",
       "    </tr>\n",
       "    <tr>\n",
       "      <td id=\"T_2b87c_row17_col0\" class=\"data row17 col0\" >18</td>\n",
       "      <td id=\"T_2b87c_row17_col1\" class=\"data row17 col1\" ></td>\n",
       "      <td id=\"T_2b87c_row17_col2\" class=\"data row17 col2\" >Helena</td>\n",
       "      <td id=\"T_2b87c_row17_col3\" class=\"data row17 col3\" >Steady Operator</td>\n",
       "      <td id=\"T_2b87c_row17_col4\" class=\"data row17 col4\" >Rare 🟢</td>\n",
       "      <td id=\"T_2b87c_row17_col5\" class=\"data row17 col5\" >9.7</td>\n",
       "      <td id=\"T_2b87c_row17_col6\" class=\"data row17 col6\" >15.0</td>\n",
       "      <td id=\"T_2b87c_row17_col7\" class=\"data row17 col7\" >16.7</td>\n",
       "      <td id=\"T_2b87c_row17_col8\" class=\"data row17 col8\" >44.4</td>\n",
       "      <td id=\"T_2b87c_row17_col9\" class=\"data row17 col9\" >11.1</td>\n",
       "      <td id=\"T_2b87c_row17_col10\" class=\"data row17 col10\" >36.59</td>\n",
       "      <td id=\"T_2b87c_row17_col11\" class=\"data row17 col11\" >1</td>\n",
       "      <td id=\"T_2b87c_row17_col12\" class=\"data row17 col12\" >1</td>\n",
       "      <td id=\"T_2b87c_row17_col13\" class=\"data row17 col13\" >1.00</td>\n",
       "      <td id=\"T_2b87c_row17_col14\" class=\"data row17 col14\" >1</td>\n",
       "      <td id=\"T_2b87c_row17_col15\" class=\"data row17 col15\" >100.00%</td>\n",
       "    </tr>\n",
       "  </tbody>\n",
       "</table>\n"
      ],
      "text/plain": [
       "<pandas.io.formats.style.Styler at 0x16e3bded0>"
      ]
     },
     "execution_count": 25,
     "metadata": {},
     "output_type": "execute_result"
    }
   ],
   "source": [
    "# === Power Leaderboard (Closer) with Re-open Penalty + Normalized Scores ===\n",
    "import numpy as np\n",
    "import pandas as pd\n",
    "from IPython.display import HTML, display\n",
    "\n",
    "# ----------------------------\n",
    "# 0) Inputs / helpers\n",
    "# ----------------------------\n",
    "closer_col  = \"Closer\"\n",
    "client_col  = \"ClientName\"\n",
    "status_col  = \"Status\"\n",
    "ttc_col     = \"Time to Close\"  # hours\n",
    "# find re-open column\n",
    "reopen_col = next((c for c in [\"ReopenedAt\",\"reopenedat\",\"Re-opened At\",\"ReopenAt\"] if c in df.columns), None)\n",
    "\n",
    "def pct_rank01(s: pd.Series) -> pd.Series:\n",
    "    \"\"\"Percentile rank on [0,1].\"\"\"\n",
    "    if s.size == 0:\n",
    "        return s\n",
    "    return s.rank(pct=True, method=\"average\").astype(float)\n",
    "\n",
    "def winsorize(s: pd.Series, lo=0.05, hi=0.95) -> pd.Series:\n",
    "    \"\"\"Clip to [lo, hi] quantiles to limit outliers.\"\"\"\n",
    "    if s.nunique() <= 1:\n",
    "        return s\n",
    "    a, b = s.quantile(lo), s.quantile(hi)\n",
    "    return s.clip(a, b)\n",
    "\n",
    "# ----------------------------\n",
    "# 1) Filter & clean\n",
    "# ----------------------------\n",
    "src = (df_clean.copy() if 'df_clean' in globals() else df.copy())\n",
    "\n",
    "# statuses\n",
    "src[status_col] = src[status_col].astype(\"string\").str.strip().str.lower()\n",
    "src = src.loc[~src[status_col].isin([\"pending\",\"processing\"])]\n",
    "\n",
    "# closer text\n",
    "src[closer_col] = src[closer_col].astype(\"string\").str.strip()\n",
    "src = src.loc[\n",
    "    src[closer_col].notna()\n",
    "    & (src[closer_col] != \"\")\n",
    "    & (~src[closer_col].str.casefold().isin({\"not found\",\"nan\",\"none\"}))\n",
    "]\n",
    "\n",
    "# reopen flag\n",
    "if reopen_col:\n",
    "    src[reopen_col] = pd.to_datetime(src[reopen_col], errors=\"coerce\", dayfirst=True)\n",
    "    src[\"_reopened_flag\"] = src[reopen_col].notna()\n",
    "else:\n",
    "    src[\"_reopened_flag\"] = False\n",
    "\n",
    "# Exclude Estefy (case-insensitive) before aggregations\n",
    "# People to exclude (any capitalization)\n",
    "EXCLUDE = {\"estefy\", \"bas\", \"shub\", \"john doe\"}  # add more names here\n",
    "\n",
    "# Make sure the text is clean, then filter\n",
    "src[closer_col] = src[closer_col].astype(\"string\").str.strip()\n",
    "src = src.loc[~src[closer_col].str.casefold().isin(EXCLUDE)]\n",
    "\n",
    "\n",
    "\n",
    "# ----------------------------\n",
    "# 2) Aggregate per closer\n",
    "# ----------------------------\n",
    "agg = (\n",
    "    src.groupby(closer_col, as_index=False)\n",
    "       .agg(\n",
    "           Tickets_Closed=(status_col, \"size\"),\n",
    "           Unique_Clients=(client_col, \"nunique\"),\n",
    "           Avg_Close_h=(ttc_col, \"mean\"),\n",
    "           Median_Close_h=(ttc_col, \"median\"),\n",
    "           Reopens=(\"_reopened_flag\", \"sum\")\n",
    "       )\n",
    ")\n",
    "\n",
    "\n",
    "# Derived\n",
    "agg[\"Closed per Client\"] = agg[\"Tickets_Closed\"] / agg[\"Unique_Clients\"].replace(0, np.nan)\n",
    "agg[\"Re-open Rate\"]      = (agg[\"Reopens\"] / agg[\"Tickets_Closed\"].replace(0, np.nan)).fillna(0.0)\n",
    "\n",
    "# ----------------------------\n",
    "# 3) Normalized pillar scores (0..100)\n",
    "# ----------------------------\n",
    "# SPEED: lower Avg_Close_h is better → winsorize & invert via percentile\n",
    "speed_base = winsorize(agg[\"Avg_Close_h\"])\n",
    "speed_score = (1 - pct_rank01(speed_base)) * 100  # invert\n",
    "agg[\"Speed Score (0–100)\"] = speed_score.round(1)\n",
    "\n",
    "# THROUGHPUT (per-client) with empirical-Bayes shrinkage to global mean\n",
    "pc = agg[\"Closed per Client\"].fillna(0.0)\n",
    "global_pc_mean = pc.replace([np.inf, -np.inf], np.nan).dropna().mean() if pc.notna().any() else 0.0\n",
    "k = 10.0  # prior strength ~ “10 clients worth” of stabilization\n",
    "n_clients = agg[\"Unique_Clients\"].clip(lower=0).astype(float)\n",
    "pc_shrunk = (pc * n_clients + global_pc_mean * k) / (n_clients + k)\n",
    "thr_score = pct_rank01(winsorize(pc_shrunk)) * 100\n",
    "agg[\"Throughput Score (0–100)\"] = thr_score.round(1)\n",
    "\n",
    "# VOLUME (tickets closed): log(1+x), winsorize, percentile\n",
    "vol_log = np.log1p(agg[\"Tickets_Closed\"].astype(float))\n",
    "vol_score = pct_rank01(winsorize(vol_log)) * 100\n",
    "agg[\"Volume Score (0–100)\"] = vol_score.round(1)\n",
    "\n",
    "# POWER (weights favor speed & per-client; cap to 0..100)\n",
    "agg[\"POWER SCORE (0–100)\"] = (\n",
    "    0.35*agg[\"Speed Score (0–100)\"] +\n",
    "    0.35*agg[\"Throughput Score (0–100)\"] +\n",
    "    0.30*agg[\"Volume Score (0–100)\"]\n",
    ").clip(0, 100).round(1)\n",
    "\n",
    "# ----------------------------\n",
    "# 4) Re-open penalty & Adjusted Power\n",
    "# ----------------------------\n",
    "MAX_PENALTY = 15.0\n",
    "def pct_rank(s):\n",
    "    return s.rank(pct=True, method=\"average\") if s.nunique() > 1 else pd.Series(0.5, index=s.index)\n",
    "\n",
    "agg[\"Re-open Penalty (0–15)\"] = (pct_rank(agg[\"Re-open Rate\"]) * MAX_PENALTY).round(1)\n",
    "agg[\"Adj POWER SCORE (0–100)\"] = (agg[\"POWER SCORE (0–100)\"] - agg[\"Re-open Penalty (0–15)\"]).clip(lower=0)\n",
    "\n",
    "# ----------------------------\n",
    "# 5) Titles & Tiers (+ promotion)\n",
    "# ----------------------------\n",
    "def title_row(r):\n",
    "    return \"Lightning Closer\" if (r[\"Speed Score (0–100)\"] >= 70 or r[\"Avg_Close_h\"] <= 12) else \"Steady Operator\"\n",
    "\n",
    "def tier_row(score):\n",
    "    if score >= 80:  return \"Mythic 🟣\"\n",
    "    if score >= 70:  return \"Legendary 🟡\"\n",
    "    if score >= 40:  return \"Epic 🔵\"\n",
    "    return \"Rare 🟢\"\n",
    "\n",
    "agg[\"Title\"] = agg.apply(title_row, axis=1)\n",
    "agg[\"Tier\"]  = agg[\"Adj POWER SCORE (0–100)\"].apply(tier_row)\n",
    "\n",
    "# Promotion: Adj Power > 40 ⇒ tier +1\n",
    "PROMOTE_THRESHOLD = 40.0\n",
    "tier_order = [\"Rare\", \"Epic\", \"Legendary\", \"Mythic\"]\n",
    "emoji_map  = {\"Rare\":\"🟢\",\"Epic\":\"🔵\",\"Legendary\":\"🟡\",\"Mythic\":\"🟣\"}\n",
    "\n",
    "def base_name(t):\n",
    "    for name in tier_order:\n",
    "        if name in str(t): return name\n",
    "    return \"Rare\"\n",
    "\n",
    "def bump_one(name):\n",
    "    i = tier_order.index(name);  return tier_order[min(i+1, len(tier_order)-1)]\n",
    "\n",
    "mask = agg[\"Adj POWER SCORE (0–100)\"] > PROMOTE_THRESHOLD\n",
    "agg.loc[mask, \"Tier\"] = (\n",
    "    agg.loc[mask, \"Tier\"].map(base_name).map(bump_one).map(lambda n: f\"{n} {emoji_map[n]}\") + \" ⬆︎\"\n",
    ")\n",
    "\n",
    "# ----------------------------\n",
    "# 6) Rank & medals\n",
    "# ----------------------------\n",
    "lb_pen = agg.rename(columns={\n",
    "    closer_col: \"Closer\",\n",
    "    \"Avg_Close_h\": \"Avg Close (h)\",\n",
    "    \"Median_Close_h\": \"Median Close (h)\",\n",
    "    \"Tickets_Closed\": \"Tickets Closed\"\n",
    "}).sort_values(\"Adj POWER SCORE (0–100)\", ascending=False).reset_index(drop=True)\n",
    "\n",
    "lb_pen[\"Rank\"] = range(1, len(lb_pen)+1)\n",
    "lb_pen[\"🏆\"]   = [\"🥇\" if i==0 else \"🥈\" if i==1 else \"🥉\" if i==2 else \"\" for i in range(len(lb_pen))]\n",
    "\n",
    "# ----------------------------\n",
    "# 7) Final view + styling\n",
    "# ----------------------------\n",
    "show = lb_pen[\n",
    "    [\n",
    "        \"Rank\",\"🏆\",\"Closer\",\"Title\",\"Tier\",\n",
    "        \"Adj POWER SCORE (0–100)\",\"Re-open Penalty (0–15)\",\n",
    "        \"Speed Score (0–100)\",\"Throughput Score (0–100)\",\"Volume Score (0–100)\",\n",
    "        \"Avg Close (h)\",\"Tickets Closed\",\"Unique_Clients\",\"Closed per Client\",\n",
    "        \"Reopens\",\"Re-open Rate\"\n",
    "    ]\n",
    "].rename(columns={\"Unique_Clients\":\"Unique Clients\"})\n",
    "\n",
    "def bg_tier(val):\n",
    "    if isinstance(val, str) and \"Mythic\" in val:    return \"background-color:#6f2dbd; color:white;\"\n",
    "    if isinstance(val, str) and \"Legendary\" in val: return \"background-color:#f1c40f; color:black;\"\n",
    "    if isinstance(val, str) and \"Epic\" in val:      return \"background-color:#3498db; color:white;\"\n",
    "    if isinstance(val, str) and \"Rare\" in val:      return \"background-color:#27ae60; color:white;\"\n",
    "    return \"\"\n",
    "\n",
    "def text_bold(val): return \"font-weight:700;\" if isinstance(val, str) and val else \"\"\n",
    "\n",
    "display(HTML(\"\"\"\n",
    "<div style=\"background:#0f172a;color:#fff;padding:14px 16px;border-radius:12px;\n",
    "            font-family:ui-sans-serif,-apple-system,Segoe UI,Roboto;margin:4px 0 10px;\">\n",
    "  <div style=\"font-weight:800;font-size:22px;\">🏆 Power Leaderboard — Closer (normalized, w/ Re-open Penalty)</div>\n",
    "  <div style=\"opacity:.95;font-size:14px;margin-top:4px\">\n",
    "    <b>Adjusted Power = 0.35·Speed + 0.35·Per-Client + 0.30·Volume − Re-open Penalty</b>.<br/>\n",
    "    Normalization: percentiles (winsorized), log-volume, and empirical-Bayes per-client (fair to everyone).<br/>\n",
    "    Promotion: score &gt; 40 ⇒ Tier +1 (Rare→Epic→Legendary→Mythic).<br/>\n",
    "    Orange = Adjusted Power · <span style=\"color:#ef4444\">Red</span> = Penalty ·\n",
    "    Teal = Per-Client · Purple = Volume · Green→Red = Avg hours (lower is better).\n",
    "  </div>\n",
    "</div>\n",
    "\"\"\"))\n",
    "\n",
    "pmax   = float(show[\"Adj POWER SCORE (0–100)\"].max())\n",
    "vmax_t = float(show[\"Tickets Closed\"].max())\n",
    "vmax_pc= float(show[\"Closed per Client\"].max())\n",
    "penmax = float(show[\"Re-open Penalty (0–15)\"].max()) or 15.0\n",
    "\n",
    "styled = (\n",
    "    show.style\n",
    "      .set_table_styles([\n",
    "          {\"selector\":\"th\",\"props\":[(\"background\",\"#e5e7eb\"),(\"color\",\"#111827\"),\n",
    "                                    (\"font-weight\",\"700\"),(\"padding\",\"8px 10px\"),(\"border\",\"0\")]},\n",
    "          {\"selector\":\"td\",\"props\":[(\"padding\",\"8px 10px\"),(\"border\",\"0\")]},\n",
    "          {\"selector\":\"tbody tr:nth-child(odd)\",\"props\":[(\"background\",\"#f9fafb\")]},\n",
    "          {\"selector\":\"tbody tr:nth-child(even)\",\"props\":[(\"background\",\"#ffffff\")]},\n",
    "          {\"selector\":\"table\",\"props\":[(\"border-collapse\",\"separate\"),(\"border-spacing\",\"0 4px\")]}\n",
    "      ])\n",
    "      .hide(axis=\"index\")\n",
    "      .applymap(bg_tier, subset=[\"Tier\"])\n",
    "      .applymap(text_bold, subset=[\"Closer\",\"Title\"])\n",
    "      .set_properties(subset=[\n",
    "          \"Adj POWER SCORE (0–100)\",\"Re-open Penalty (0–15)\",\n",
    "          \"Speed Score (0–100)\",\"Throughput Score (0–100)\",\"Volume Score (0–100)\",\n",
    "          \"Avg Close (h)\",\"Tickets Closed\",\"Unique Clients\",\"Closed per Client\",\n",
    "          \"Reopens\",\"Re-open Rate\"\n",
    "      ], **{\"text-align\":\"right\"})\n",
    "      # Adjusted Power\n",
    "      .background_gradient(cmap=\"YlOrRd\", subset=[\"Adj POWER SCORE (0–100)\"], vmin=0, vmax=pmax)\n",
    "      .bar(subset=[\"Adj POWER SCORE (0–100)\"], color=\"#ff7f50\", vmin=0, vmax=pmax)\n",
    "      # Penalty\n",
    "      .bar(subset=[\"Re-open Penalty (0–15)\"], color=\"#ef4444\", vmin=0, vmax=penmax)\n",
    "      # Component scores\n",
    "      .background_gradient(cmap=\"PuBuGn\", subset=[\"Speed Score (0–100)\"], vmin=0, vmax=100)\n",
    "      .background_gradient(cmap=\"BuGn\",  subset=[\"Throughput Score (0–100)\"], vmin=0, vmax=100)\n",
    "      .background_gradient(cmap=\"Greys\", subset=[\"Volume Score (0–100)\"], vmin=0, vmax=100)\n",
    "      # Raw pillars\n",
    "      .background_gradient(cmap=\"RdYlGn_r\", subset=[\"Avg Close (h)\"])  # lower = greener\n",
    "      .bar(subset=[\"Closed per Client\"], color=\"#00b894\", vmin=0, vmax=vmax_pc)\n",
    "      .bar(subset=[\"Tickets Closed\"],    color=\"#6c5ce7\", vmin=0, vmax=vmax_t)\n",
    "      .format({\n",
    "          \"Adj POWER SCORE (0–100)\":\"{:.1f}\",\n",
    "          \"Re-open Penalty (0–15)\":\"{:.1f}\",\n",
    "          \"Speed Score (0–100)\":\"{:.1f}\",\n",
    "          \"Throughput Score (0–100)\":\"{:.1f}\",\n",
    "          \"Volume Score (0–100)\":\"{:.1f}\",\n",
    "          \"Avg Close (h)\":\"{:.2f}\",\n",
    "          \"Closed per Client\":\"{:.2f}\",\n",
    "          \"Re-open Rate\":\"{:.2%}\"\n",
    "      })\n",
    ")\n",
    "\n",
    "styled\n",
    "\n"
   ]
  },
  {
   "cell_type": "code",
   "execution_count": 32,
   "metadata": {},
   "outputs": [
    {
     "data": {
      "text/html": [
       "\n",
       "<style>\n",
       ".cards{display:flex;gap:18px;flex-wrap:wrap}\n",
       ".card{flex:1 1 31%;min-width:320px;border-radius:18px;background:#fff;\n",
       "      box-shadow:0 10px 20px rgba(0,0,0,.08);overflow:hidden}\n",
       ".hdr{padding:16px 18px;color:#111}\n",
       ".hdrtxt{font-size:22px;font-weight:800;letter-spacing:.3px}\n",
       ".body{padding:18px 22px;font-family:ui-sans-serif,-apple-system,Segoe UI,Roboto}\n",
       ".big{font-size:40px;font-weight:800;margin:8px 0 6px}\n",
       ".meta{font-size:18px;margin:2px 0}\n",
       ".power{font-size:26px;font-weight:800;margin-top:10px}\n",
       ".sub{opacity:.8;margin-top:2px}\n",
       ".stats{font-size:18px;margin-top:16px;line-height:1.7}\n",
       "</style>\n",
       "<div class=\"cards\">\n",
       "      <div class=\"card\">\n",
       "        <div class=\"hdr\" style=\"background:linear-gradient(90deg,#f59e0b,#b45309);\">\n",
       "          <span class=\"hdrtxt\">🥇 ACHIEVEMENT UNLOCKED</span>\n",
       "        </div>\n",
       "        <div class=\"body\">\n",
       "          <div class=\"big\">CLOSER: Nelly</div>\n",
       "          <div class=\"meta\">Title: “Lightning Closer”</div>\n",
       "          <div class=\"meta\">Tier: Mythic 🟣 ⬆︎</div>\n",
       "          <div class=\"power\">Adjusted Power: 81.2</div>\n",
       "          <div class=\"sub\">(Penalty: 4.6 · Re-open rate: 0.00%)</div>\n",
       "          <div class=\"stats\">\n",
       "            <div>Avg Close (h): <b>1.15</b></div>\n",
       "            <div>Closed per Client: <b>5.33</b></div>\n",
       "            <div>Tickets Closed: <b>16</b></div>\n",
       "          </div>\n",
       "        </div>\n",
       "      </div>\n",
       "    \n",
       "      <div class=\"card\">\n",
       "        <div class=\"hdr\" style=\"background:linear-gradient(90deg,#9ca3af,#6b7280);\">\n",
       "          <span class=\"hdrtxt\">🥈 ACHIEVEMENT UNLOCKED</span>\n",
       "        </div>\n",
       "        <div class=\"body\">\n",
       "          <div class=\"big\">CLOSER: Gui</div>\n",
       "          <div class=\"meta\">Title: “Steady Operator”</div>\n",
       "          <div class=\"meta\">Tier: Legendary 🟡 ⬆︎</div>\n",
       "          <div class=\"power\">Adjusted Power: 69.4</div>\n",
       "          <div class=\"sub\">(Penalty: 9.2 · Re-open rate: 3.45%)</div>\n",
       "          <div class=\"stats\">\n",
       "            <div>Avg Close (h): <b>12.46</b></div>\n",
       "            <div>Closed per Client: <b>14.50</b></div>\n",
       "            <div>Tickets Closed: <b>29</b></div>\n",
       "          </div>\n",
       "        </div>\n",
       "      </div>\n",
       "    \n",
       "      <div class=\"card\">\n",
       "        <div class=\"hdr\" style=\"background:linear-gradient(90deg,#b45309,#92400e);\">\n",
       "          <span class=\"hdrtxt\">🥉 ACHIEVEMENT UNLOCKED</span>\n",
       "        </div>\n",
       "        <div class=\"body\">\n",
       "          <div class=\"big\">CLOSER: Zarmeen</div>\n",
       "          <div class=\"meta\">Title: “Lightning Closer”</div>\n",
       "          <div class=\"meta\">Tier: Legendary 🟡 ⬆︎</div>\n",
       "          <div class=\"power\">Adjusted Power: 60.0</div>\n",
       "          <div class=\"sub\">(Penalty: 12.5 · Re-open rate: 8.33%)</div>\n",
       "          <div class=\"stats\">\n",
       "            <div>Avg Close (h): <b>7.59</b></div>\n",
       "            <div>Closed per Client: <b>12.00</b></div>\n",
       "            <div>Tickets Closed: <b>12</b></div>\n",
       "          </div>\n",
       "        </div>\n",
       "      </div>\n",
       "    </div>"
      ],
      "text/plain": [
       "<IPython.core.display.HTML object>"
      ]
     },
     "metadata": {},
     "output_type": "display_data"
    }
   ],
   "source": [
    "# Display ONLY these 3 cards in this order: Nelly, Gui, Zarmeen\n",
    "import numpy as np, pandas as pd\n",
    "from IPython.display import HTML, display\n",
    "\n",
    "names_in_order = [\"Nelly\", \"Gui\", \"Zarmeen\"]\n",
    "\n",
    "# -- find a leaderboard dataframe\n",
    "for _cand in [\"lb_pen\", \"lb\", \"show\"]:\n",
    "    if _cand in globals() and isinstance(globals()[_cand], pd.DataFrame):\n",
    "        df_lb = globals()[_cand].copy()\n",
    "        break\n",
    "else:\n",
    "    raise RuntimeError(\"No leaderboard DF found (expected one of: lb_pen, lb, show).\")\n",
    "\n",
    "# -- resolve columns (works with your closer leaderboard)\n",
    "def pick(df, options): \n",
    "    for o in options:\n",
    "        if o in df.columns: return o\n",
    "\n",
    "closer_c = pick(df_lb, [\"Closer\",\"TAM\"])\n",
    "title_c  = pick(df_lb, [\"Title\"])\n",
    "tier_c   = pick(df_lb, [\"Tier\"])\n",
    "adj_c    = pick(df_lb, [\"Adj POWER SCORE (0–100)\",\"POWER SCORE (0–100)\",\"Adj POWER\"])\n",
    "pen_c    = pick(df_lb, [\"Re-open Penalty (0–15)\",\"Reopen Penalty (0–15)\"])\n",
    "rate_c   = pick(df_lb, [\"Re-open Rate\",\"Reopen Rate\"])\n",
    "avg_c    = pick(df_lb, [\"Avg Close (h)\",\"Average Close (h)\",\"avg_hours\"])\n",
    "per_c    = pick(df_lb, [\"Closed per Client\"])\n",
    "vol_c    = pick(df_lb, [\"Tickets Closed\",\"tickets_closed\"])\n",
    "\n",
    "need = [closer_c, title_c, tier_c, adj_c, avg_c, per_c, vol_c]\n",
    "if any(x is None for x in need):\n",
    "    raise RuntimeError(\"Leaderboard is missing required columns to render the cards.\")\n",
    "\n",
    "# -- pick the rows in the requested order\n",
    "df_lb[\"_match\"] = df_lb[closer_c].astype(str).str.strip().str.lower()\n",
    "want = [n.lower() for n in names_in_order]\n",
    "rows = []\n",
    "for i, who in enumerate(want):\n",
    "    hit = df_lb[df_lb[\"_match\"] == who]\n",
    "    if not len(hit):\n",
    "        raise RuntimeError(f\"'{names_in_order[i]}' not found in {closer_c} column.\")\n",
    "    rows.append(hit.iloc[0])\n",
    "\n",
    "medals  = [\"🥇\",\"🥈\",\"🥉\"]\n",
    "headers = [(\"#f59e0b\",\"#b45309\"),(\"#9ca3af\",\"#6b7280\"),(\"#b45309\",\"#92400e\")]  # gold/silver/bronze\n",
    "\n",
    "cards = []\n",
    "for i, r in enumerate(rows):\n",
    "    name  = str(r[closer_c]); title = str(r.get(title_c,\"—\")); tier = str(r.get(tier_c,\"—\"))\n",
    "    adj   = f'{float(r[adj_c]):.1f}'\n",
    "    pen   = f'{float(r.get(pen_c,0) or 0):.1f}' if pen_c else \"—\"\n",
    "    ratev = r.get(rate_c, np.nan); rate = \"—\" if pd.isna(ratev) else f'{float(ratev):.2%}'\n",
    "    avg   = f'{float(r[avg_c]):.2f}'\n",
    "    per   = f'{float(r[per_c]):.2f}'\n",
    "    vol   = f'{float(r[vol_c]):.0f}'\n",
    "    c1,c2 = headers[i]\n",
    "\n",
    "    cards.append(f\"\"\"\n",
    "      <div class=\"card\">\n",
    "        <div class=\"hdr\" style=\"background:linear-gradient(90deg,{c1},{c2});\">\n",
    "          <span class=\"hdrtxt\">{medals[i]} ACHIEVEMENT UNLOCKED</span>\n",
    "        </div>\n",
    "        <div class=\"body\">\n",
    "          <div class=\"big\">CLOSER: {name}</div>\n",
    "          <div class=\"meta\">Title: “{title}”</div>\n",
    "          <div class=\"meta\">Tier: {tier}</div>\n",
    "          <div class=\"power\">Adjusted Power: {adj}</div>\n",
    "          <div class=\"sub\">(Penalty: {pen} · Re-open rate: {rate})</div>\n",
    "          <div class=\"stats\">\n",
    "            <div>Avg Close (h): <b>{avg}</b></div>\n",
    "            <div>Closed per Client: <b>{per}</b></div>\n",
    "            <div>Tickets Closed: <b>{vol}</b></div>\n",
    "          </div>\n",
    "        </div>\n",
    "      </div>\n",
    "    \"\"\")\n",
    "\n",
    "css = \"\"\"\n",
    "<style>\n",
    ".cards{display:flex;gap:18px;flex-wrap:wrap}\n",
    ".card{flex:1 1 31%;min-width:320px;border-radius:18px;background:#fff;\n",
    "      box-shadow:0 10px 20px rgba(0,0,0,.08);overflow:hidden}\n",
    ".hdr{padding:16px 18px;color:#111}\n",
    ".hdrtxt{font-size:22px;font-weight:800;letter-spacing:.3px}\n",
    ".body{padding:18px 22px;font-family:ui-sans-serif,-apple-system,Segoe UI,Roboto}\n",
    ".big{font-size:40px;font-weight:800;margin:8px 0 6px}\n",
    ".meta{font-size:18px;margin:2px 0}\n",
    ".power{font-size:26px;font-weight:800;margin-top:10px}\n",
    ".sub{opacity:.8;margin-top:2px}\n",
    ".stats{font-size:18px;margin-top:16px;line-height:1.7}\n",
    "</style>\n",
    "\"\"\"\n",
    "display(HTML(css + '<div class=\"cards\">' + \"\".join(cards) + \"</div>\"))\n"
   ]
  }
 ],
 "metadata": {
  "kernelspec": {
   "display_name": "base",
   "language": "python",
   "name": "python3"
  },
  "language_info": {
   "codemirror_mode": {
    "name": "ipython",
    "version": 3
   },
   "file_extension": ".py",
   "mimetype": "text/x-python",
   "name": "python",
   "nbconvert_exporter": "python",
   "pygments_lexer": "ipython3",
   "version": "3.11.8"
  }
 },
 "nbformat": 4,
 "nbformat_minor": 2
}
